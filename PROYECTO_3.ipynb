{
 "cells": [
  {
   "cell_type": "markdown",
   "id": "3Xg_RQfnafXz",
   "metadata": {
    "id": "3Xg_RQfnafXz"
   },
   "source": [
    "# ¡Llena ese carrito!"
   ]
  },
  {
   "cell_type": "markdown",
   "id": "mhIvmmkW414q",
   "metadata": {
    "id": "mhIvmmkW414q"
   },
   "source": [
    "# Introducción\n",
    "\n",
    "Instacart es una plataforma de entregas de comestibles donde la clientela puede registrar un pedido y hacer que se lo entreguen, similar a Uber Eats y Door Dash.\n",
    "El conjunto de datos que te hemos proporcionado tiene modificaciones del original. Redujimos el tamaño del conjunto para que tus cálculos se hicieran más rápido e introdujimos valores ausentes y duplicados. Tuvimos cuidado de conservar las distribuciones de los datos originales cuando hicimos los cambios.\n",
    "\n",
    "Debes completar tres pasos. Para cada uno de ellos, escribe una breve introducción que refleje con claridad cómo pretendes resolver cada paso, y escribe párrafos explicatorios que justifiquen tus decisiones al tiempo que avanzas en tu solución.  También escribe una conclusión que resuma tus hallazgos y elecciones.\n"
   ]
  },
  {
   "cell_type": "markdown",
   "id": "3MbyzpOQZ5Or",
   "metadata": {
    "id": "3MbyzpOQZ5Or"
   },
   "source": [
    "## Diccionario de datos\n",
    "\n",
    "Hay cinco tablas en el conjunto de datos, y tendrás que usarlas todas para hacer el preprocesamiento de datos y el análisis exploratorio de datos. A continuación se muestra un diccionario de datos que enumera las columnas de cada tabla y describe los datos que contienen.\n",
    "\n",
    "- `instacart_orders.csv`: cada fila corresponde a un pedido en la aplicación Instacart.\n",
    "    - `'order_id'`: número de ID que identifica de manera única cada pedido.\n",
    "    - `'user_id'`: número de ID que identifica de manera única la cuenta de cada cliente.\n",
    "    - `'order_number'`: el número de veces que este cliente ha hecho un pedido.\n",
    "    - `'order_dow'`: día de la semana en que se hizo el pedido (0 si es domingo).\n",
    "    - `'order_hour_of_day'`: hora del día en que se hizo el pedido.\n",
    "    - `'days_since_prior_order'`: número de días transcurridos desde que este cliente hizo su pedido anterior.\n",
    "- `products.csv`: cada fila corresponde a un producto único que pueden comprar los clientes.\n",
    "    - `'product_id'`: número ID que identifica de manera única cada producto.\n",
    "    - `'product_name'`: nombre del producto.\n",
    "    - `'aisle_id'`: número ID que identifica de manera única cada categoría de pasillo de víveres.\n",
    "    - `'department_id'`: número ID que identifica de manera única cada departamento de víveres.\n",
    "- `order_products.csv`: cada fila corresponde a un artículo pedido en un pedido.\n",
    "    - `'order_id'`: número de ID que identifica de manera única cada pedido.\n",
    "    - `'product_id'`: número ID que identifica de manera única cada producto.\n",
    "    - `'add_to_cart_order'`: el orden secuencial en el que se añadió cada artículo en el carrito.\n",
    "    - `'reordered'`: 0 si el cliente nunca ha pedido este producto antes, 1 si lo ha pedido.\n",
    "- `aisles.csv`\n",
    "    - `'aisle_id'`: número ID que identifica de manera única cada categoría de pasillo de víveres.\n",
    "    - `'aisle'`: nombre del pasillo.\n",
    "- `departments.csv`\n",
    "    - `'department_id'`: número ID que identifica de manera única cada departamento de víveres.\n",
    "    - `'department'`: nombre del departamento."
   ]
  },
  {
   "cell_type": "markdown",
   "id": "n3Ha_cNSZ8lK",
   "metadata": {
    "id": "n3Ha_cNSZ8lK"
   },
   "source": [
    "# Paso 1. Descripción de los datos\n",
    "\n",
    "Lee los archivos de datos (`/datasets/instacart_orders.csv`, `/datasets/products.csv`, `/datasets/aisles.csv`, `/datasets/departments.csv` y `/datasets/order_products.csv`) con `pd.read_csv()` usando los parámetros adecuados para leer los datos correctamente. Verifica la información para cada DataFrame creado.\n"
   ]
  },
  {
   "cell_type": "markdown",
   "id": "OmlQPLlyaAfR",
   "metadata": {
    "id": "OmlQPLlyaAfR"
   },
   "source": [
    "## Plan de solución\n",
    "\n",
    "Escribe aquí tu plan de solución para el Paso 1. Descripción de los datos.\n",
    "\n",
    "Primeo se deben importar las librerías necesarias y mediante el transcurso del proyecto verificar si se deben agregar más librerías.\n",
    "En segundo lugar, se verifica si hay que dar algún fomato especial para leer los archivos leyendo los archivos uno por uno con read_csv() y pasandolos por el método info().\n",
    "Por último, según sea el caso se debe añadir parametros para arreglar posibles errores en la lectua de datos."
   ]
  },
  {
   "cell_type": "code",
   "execution_count": 1,
   "id": "fbf1adab",
   "metadata": {
    "id": "fbf1adab"
   },
   "outputs": [],
   "source": [
    "# importar librerías\n",
    "import pandas as pd\n",
    "import numpy as np\n",
    "from matplotlib import pyplot as plt\n"
   ]
  },
  {
   "cell_type": "code",
   "execution_count": 2,
   "id": "ad36396d",
   "metadata": {
    "id": "ad36396d"
   },
   "outputs": [],
   "source": [
    "# leer conjuntos de datos en los DataFrames\n",
    "instacart_orders = pd.read_csv('/datasets/instacart_orders.csv', sep=';') # Lee archivos de instacart_orders\n",
    "products = pd.read_csv('/datasets/products.csv', sep=';')             # Lee archivos de products\n",
    "order_products = pd.read_csv('/datasets/order_products.csv', sep=';') # Lee archivos de order_products\n",
    "aisles = pd.read_csv('/datasets/aisles.csv', sep=';')                 # Lee archivos de aisles\n",
    "departments = pd.read_csv('/datasets/departments.csv', sep=';')            # Lee archivos de departments\n"
   ]
  },
  {
   "cell_type": "code",
   "execution_count": 3,
   "id": "ad6a1efa",
   "metadata": {
    "id": "ad6a1efa"
   },
   "outputs": [
    {
     "name": "stdout",
     "output_type": "stream",
     "text": [
      "<class 'pandas.core.frame.DataFrame'>\n",
      "RangeIndex: 478967 entries, 0 to 478966\n",
      "Data columns (total 6 columns):\n",
      " #   Column                  Non-Null Count   Dtype  \n",
      "---  ------                  --------------   -----  \n",
      " 0   order_id                478967 non-null  int64  \n",
      " 1   user_id                 478967 non-null  int64  \n",
      " 2   order_number            478967 non-null  int64  \n",
      " 3   order_dow               478967 non-null  int64  \n",
      " 4   order_hour_of_day       478967 non-null  int64  \n",
      " 5   days_since_prior_order  450148 non-null  float64\n",
      "dtypes: float64(1), int64(5)\n",
      "memory usage: 21.9 MB\n"
     ]
    }
   ],
   "source": [
    "# mostrar información del DataFrame\n",
    "instacart_orders.info() # order_hour_of_day con faltan datos"
   ]
  },
  {
   "cell_type": "code",
   "execution_count": 4,
   "id": "5130e05e",
   "metadata": {
    "id": "5130e05e"
   },
   "outputs": [
    {
     "name": "stdout",
     "output_type": "stream",
     "text": [
      "<class 'pandas.core.frame.DataFrame'>\n",
      "RangeIndex: 49694 entries, 0 to 49693\n",
      "Data columns (total 4 columns):\n",
      " #   Column         Non-Null Count  Dtype \n",
      "---  ------         --------------  ----- \n",
      " 0   product_id     49694 non-null  int64 \n",
      " 1   product_name   48436 non-null  object\n",
      " 2   aisle_id       49694 non-null  int64 \n",
      " 3   department_id  49694 non-null  int64 \n",
      "dtypes: int64(3), object(1)\n",
      "memory usage: 1.5+ MB\n"
     ]
    }
   ],
   "source": [
    "# mostrar información del DataFrame\n",
    "products.info() # product_name faltan datos"
   ]
  },
  {
   "cell_type": "code",
   "execution_count": 5,
   "id": "d8370c05",
   "metadata": {
    "id": "d8370c05"
   },
   "outputs": [
    {
     "name": "stdout",
     "output_type": "stream",
     "text": [
      "<class 'pandas.core.frame.DataFrame'>\n",
      "RangeIndex: 4545007 entries, 0 to 4545006\n",
      "Data columns (total 4 columns):\n",
      " #   Column             Dtype  \n",
      "---  ------             -----  \n",
      " 0   order_id           int64  \n",
      " 1   product_id         int64  \n",
      " 2   add_to_cart_order  float64\n",
      " 3   reordered          int64  \n",
      "dtypes: float64(1), int64(3)\n",
      "memory usage: 138.7 MB\n"
     ]
    }
   ],
   "source": [
    "# mostrar información del DataFrame\n",
    "order_products.info()"
   ]
  },
  {
   "cell_type": "code",
   "execution_count": 6,
   "id": "59e2090f",
   "metadata": {
    "id": "59e2090f"
   },
   "outputs": [
    {
     "name": "stdout",
     "output_type": "stream",
     "text": [
      "<class 'pandas.core.frame.DataFrame'>\n",
      "RangeIndex: 134 entries, 0 to 133\n",
      "Data columns (total 2 columns):\n",
      " #   Column    Non-Null Count  Dtype \n",
      "---  ------    --------------  ----- \n",
      " 0   aisle_id  134 non-null    int64 \n",
      " 1   aisle     134 non-null    object\n",
      "dtypes: int64(1), object(1)\n",
      "memory usage: 2.2+ KB\n"
     ]
    }
   ],
   "source": [
    "# mostrar información del DataFrame\n",
    "aisles.info()"
   ]
  },
  {
   "cell_type": "code",
   "execution_count": 7,
   "id": "6fc81694",
   "metadata": {
    "id": "6fc81694"
   },
   "outputs": [
    {
     "name": "stdout",
     "output_type": "stream",
     "text": [
      "<class 'pandas.core.frame.DataFrame'>\n",
      "RangeIndex: 21 entries, 0 to 20\n",
      "Data columns (total 2 columns):\n",
      " #   Column         Non-Null Count  Dtype \n",
      "---  ------         --------------  ----- \n",
      " 0   department_id  21 non-null     int64 \n",
      " 1   department     21 non-null     object\n",
      "dtypes: int64(1), object(1)\n",
      "memory usage: 464.0+ bytes\n"
     ]
    }
   ],
   "source": [
    "# mostrar información del DataFrame\n",
    "departments.info()"
   ]
  },
  {
   "cell_type": "markdown",
   "id": "t75BD19oaR5f",
   "metadata": {
    "id": "t75BD19oaR5f"
   },
   "source": [
    "## Conclusiones\n",
    "\n",
    "Algunos dataframes tienen datos ausentes y algunos valores por corregir, mientras que en el dataframe (order_products) no nos muestra si posee datos faltantes o no por cada columna.\n"
   ]
  },
  {
   "cell_type": "markdown",
   "id": "8RJHqxVmaVsF",
   "metadata": {
    "id": "8RJHqxVmaVsF"
   },
   "source": [
    "# Paso 2. Preprocesamiento de los datos\n",
    "\n",
    "Preprocesa los datos de la siguiente manera:\n",
    "\n",
    "- Verifica y corrige los tipos de datos (por ejemplo, asegúrate de que las columnas de ID sean números enteros).\n",
    "- Identifica y completa los valores ausentes.\n",
    "- Identifica y elimina los valores duplicados.\n",
    "\n",
    "Asegúrate de explicar qué tipos de valores ausentes y duplicados encontraste, cómo los completaste o eliminaste y por qué usaste esos métodos. ¿Por qué crees que estos valores ausentes y duplicados pueden haber estado presentes en el conjunto de datos?"
   ]
  },
  {
   "cell_type": "markdown",
   "id": "p6poABZQaZYb",
   "metadata": {
    "id": "p6poABZQaZYb"
   },
   "source": [
    "## Plan de solución\n",
    "\n",
    "Escribe aquí tu plan para el Paso 2. Preprocesamiento de los datos.\n",
    "\n",
    "Primero hay que encontar las columnas que tengas los tipos de datos erróneos y arreglarsol según sea necesario.\n",
    "Despues se debe buscar los valores ausentes que no permitan un correcto análisis de los datos y en caso de ser necesario, eliminar las filas, o caso contrario remplazar los valores para un análisis mas exacto.\n",
    "También se debe buscar antes de todo si existen valores duplicados y eliminarlos para que no existan incoherencias dentro de los resultados del análisis."
   ]
  },
  {
   "cell_type": "markdown",
   "id": "07357848-dc64-4156-9cc3-01ff4365226d",
   "metadata": {
    "id": "07357848-dc64-4156-9cc3-01ff4365226d"
   },
   "source": [
    "## Encuentra y elimina los valores duplicados (y describe cómo tomaste tus decisiones)."
   ]
  },
  {
   "cell_type": "markdown",
   "id": "f179f0a9",
   "metadata": {
    "id": "f179f0a9"
   },
   "source": [
    "### `orders` data frame"
   ]
  },
  {
   "cell_type": "code",
   "execution_count": 8,
   "id": "f7d4d5fb",
   "metadata": {},
   "outputs": [],
   "source": [
    "# Corregir los tipos de datos\n",
    "instacart_orders['order_id'] = instacart_orders['order_id'].astype(int)\n",
    "instacart_orders['user_id'] = instacart_orders['user_id'].astype(int)\n",
    "instacart_orders['order_number'] = instacart_orders['order_number'].astype(int)\n",
    "instacart_orders['order_dow'] = instacart_orders['order_dow'].astype(int)\n",
    "instacart_orders['order_hour_of_day'] = instacart_orders['order_hour_of_day'].astype(int)\n",
    "instacart_orders['days_since_prior_order'] = instacart_orders['days_since_prior_order'].astype(float)  # Puede tener NaNs\n"
   ]
  },
  {
   "cell_type": "code",
   "execution_count": 9,
   "id": "b99297a5-405a-463d-8535-9adc3da4ad74",
   "metadata": {
    "id": "b99297a5-405a-463d-8535-9adc3da4ad74"
   },
   "outputs": [
    {
     "data": {
      "text/html": [
       "<div>\n",
       "<style scoped>\n",
       "    .dataframe tbody tr th:only-of-type {\n",
       "        vertical-align: middle;\n",
       "    }\n",
       "\n",
       "    .dataframe tbody tr th {\n",
       "        vertical-align: top;\n",
       "    }\n",
       "\n",
       "    .dataframe thead th {\n",
       "        text-align: right;\n",
       "    }\n",
       "</style>\n",
       "<table border=\"1\" class=\"dataframe\">\n",
       "  <thead>\n",
       "    <tr style=\"text-align: right;\">\n",
       "      <th></th>\n",
       "      <th>order_id</th>\n",
       "      <th>user_id</th>\n",
       "      <th>order_number</th>\n",
       "      <th>order_dow</th>\n",
       "      <th>order_hour_of_day</th>\n",
       "      <th>days_since_prior_order</th>\n",
       "    </tr>\n",
       "  </thead>\n",
       "  <tbody>\n",
       "    <tr>\n",
       "      <th>145574</th>\n",
       "      <td>794638</td>\n",
       "      <td>50898</td>\n",
       "      <td>24</td>\n",
       "      <td>3</td>\n",
       "      <td>2</td>\n",
       "      <td>2.0</td>\n",
       "    </tr>\n",
       "    <tr>\n",
       "      <th>223105</th>\n",
       "      <td>2160484</td>\n",
       "      <td>107525</td>\n",
       "      <td>16</td>\n",
       "      <td>3</td>\n",
       "      <td>2</td>\n",
       "      <td>30.0</td>\n",
       "    </tr>\n",
       "    <tr>\n",
       "      <th>230807</th>\n",
       "      <td>1918001</td>\n",
       "      <td>188546</td>\n",
       "      <td>14</td>\n",
       "      <td>3</td>\n",
       "      <td>2</td>\n",
       "      <td>16.0</td>\n",
       "    </tr>\n",
       "    <tr>\n",
       "      <th>266232</th>\n",
       "      <td>1782114</td>\n",
       "      <td>106752</td>\n",
       "      <td>1</td>\n",
       "      <td>3</td>\n",
       "      <td>2</td>\n",
       "      <td>NaN</td>\n",
       "    </tr>\n",
       "    <tr>\n",
       "      <th>273805</th>\n",
       "      <td>1112182</td>\n",
       "      <td>202304</td>\n",
       "      <td>84</td>\n",
       "      <td>3</td>\n",
       "      <td>2</td>\n",
       "      <td>6.0</td>\n",
       "    </tr>\n",
       "    <tr>\n",
       "      <th>284038</th>\n",
       "      <td>2845099</td>\n",
       "      <td>31189</td>\n",
       "      <td>11</td>\n",
       "      <td>3</td>\n",
       "      <td>2</td>\n",
       "      <td>7.0</td>\n",
       "    </tr>\n",
       "    <tr>\n",
       "      <th>311713</th>\n",
       "      <td>1021560</td>\n",
       "      <td>53767</td>\n",
       "      <td>3</td>\n",
       "      <td>3</td>\n",
       "      <td>2</td>\n",
       "      <td>9.0</td>\n",
       "    </tr>\n",
       "    <tr>\n",
       "      <th>321100</th>\n",
       "      <td>408114</td>\n",
       "      <td>68324</td>\n",
       "      <td>4</td>\n",
       "      <td>3</td>\n",
       "      <td>2</td>\n",
       "      <td>18.0</td>\n",
       "    </tr>\n",
       "    <tr>\n",
       "      <th>323900</th>\n",
       "      <td>1919531</td>\n",
       "      <td>191501</td>\n",
       "      <td>32</td>\n",
       "      <td>3</td>\n",
       "      <td>2</td>\n",
       "      <td>7.0</td>\n",
       "    </tr>\n",
       "    <tr>\n",
       "      <th>345917</th>\n",
       "      <td>2232988</td>\n",
       "      <td>82565</td>\n",
       "      <td>1</td>\n",
       "      <td>3</td>\n",
       "      <td>2</td>\n",
       "      <td>NaN</td>\n",
       "    </tr>\n",
       "    <tr>\n",
       "      <th>371905</th>\n",
       "      <td>391768</td>\n",
       "      <td>57671</td>\n",
       "      <td>19</td>\n",
       "      <td>3</td>\n",
       "      <td>2</td>\n",
       "      <td>10.0</td>\n",
       "    </tr>\n",
       "    <tr>\n",
       "      <th>394347</th>\n",
       "      <td>467134</td>\n",
       "      <td>63189</td>\n",
       "      <td>21</td>\n",
       "      <td>3</td>\n",
       "      <td>2</td>\n",
       "      <td>2.0</td>\n",
       "    </tr>\n",
       "    <tr>\n",
       "      <th>411408</th>\n",
       "      <td>1286742</td>\n",
       "      <td>183220</td>\n",
       "      <td>48</td>\n",
       "      <td>3</td>\n",
       "      <td>2</td>\n",
       "      <td>4.0</td>\n",
       "    </tr>\n",
       "    <tr>\n",
       "      <th>415163</th>\n",
       "      <td>2282673</td>\n",
       "      <td>86751</td>\n",
       "      <td>49</td>\n",
       "      <td>3</td>\n",
       "      <td>2</td>\n",
       "      <td>2.0</td>\n",
       "    </tr>\n",
       "    <tr>\n",
       "      <th>441599</th>\n",
       "      <td>2125197</td>\n",
       "      <td>14050</td>\n",
       "      <td>48</td>\n",
       "      <td>3</td>\n",
       "      <td>2</td>\n",
       "      <td>3.0</td>\n",
       "    </tr>\n",
       "  </tbody>\n",
       "</table>\n",
       "</div>"
      ],
      "text/plain": [
       "        order_id  user_id  order_number  order_dow  order_hour_of_day  \\\n",
       "145574    794638    50898            24          3                  2   \n",
       "223105   2160484   107525            16          3                  2   \n",
       "230807   1918001   188546            14          3                  2   \n",
       "266232   1782114   106752             1          3                  2   \n",
       "273805   1112182   202304            84          3                  2   \n",
       "284038   2845099    31189            11          3                  2   \n",
       "311713   1021560    53767             3          3                  2   \n",
       "321100    408114    68324             4          3                  2   \n",
       "323900   1919531   191501            32          3                  2   \n",
       "345917   2232988    82565             1          3                  2   \n",
       "371905    391768    57671            19          3                  2   \n",
       "394347    467134    63189            21          3                  2   \n",
       "411408   1286742   183220            48          3                  2   \n",
       "415163   2282673    86751            49          3                  2   \n",
       "441599   2125197    14050            48          3                  2   \n",
       "\n",
       "        days_since_prior_order  \n",
       "145574                     2.0  \n",
       "223105                    30.0  \n",
       "230807                    16.0  \n",
       "266232                     NaN  \n",
       "273805                     6.0  \n",
       "284038                     7.0  \n",
       "311713                     9.0  \n",
       "321100                    18.0  \n",
       "323900                     7.0  \n",
       "345917                     NaN  \n",
       "371905                    10.0  \n",
       "394347                     2.0  \n",
       "411408                     4.0  \n",
       "415163                     2.0  \n",
       "441599                     3.0  "
      ]
     },
     "execution_count": 9,
     "metadata": {},
     "output_type": "execute_result"
    }
   ],
   "source": [
    "# Revisa si hay pedidos duplicados\n",
    "instacart_orders[instacart_orders.duplicated()] # Busca los valores duplicados en los pedidos únicos\n"
   ]
  },
  {
   "cell_type": "markdown",
   "id": "PEkwUX_gvt5A",
   "metadata": {
    "id": "PEkwUX_gvt5A"
   },
   "source": [
    "¿Tienes líneas duplicadas? Si sí, ¿qué tienen en común?\n",
    "\n",
    "Existen un total de 15 filas duplicadas en instacart_orders, y tienen en común que todos se realizaron el mismo día (miércoles) a las 2 de la mañana."
   ]
  },
  {
   "cell_type": "code",
   "execution_count": 10,
   "id": "0d44de5d",
   "metadata": {
    "id": "0d44de5d"
   },
   "outputs": [
    {
     "name": "stdout",
     "output_type": "stream",
     "text": [
      "        order_id  user_id  order_number  order_dow  order_hour_of_day  \\\n",
      "4838     2766110   162084            41          3                  2   \n",
      "5156     2190225   138285            18          3                  2   \n",
      "15506     553049    58599            13          3                  2   \n",
      "18420     382357   120200            19          3                  2   \n",
      "24691     690242    77357             2          3                  2   \n",
      "...          ...      ...           ...        ...                ...   \n",
      "457013   3384021    14881             6          3                  2   \n",
      "458816    910166   164782            18          3                  2   \n",
      "459635   1680532   106435             6          3                  2   \n",
      "468324    222962    54979            59          3                  2   \n",
      "477526   2592344    46860            38          3                  2   \n",
      "\n",
      "        days_since_prior_order  \n",
      "4838                      16.0  \n",
      "5156                      11.0  \n",
      "15506                      7.0  \n",
      "18420                     11.0  \n",
      "24691                      9.0  \n",
      "...                        ...  \n",
      "457013                    30.0  \n",
      "458816                     4.0  \n",
      "459635                    21.0  \n",
      "468324                     3.0  \n",
      "477526                     3.0  \n",
      "\n",
      "[121 rows x 6 columns]\n"
     ]
    }
   ],
   "source": [
    "# Basándote en tus hallazgos,\n",
    "# Verifica todos los pedidos que se hicieron el miércoles a las 2:00 a.m.\n",
    "\n",
    "#'order_dow': día de la semana en que se hizo el pedido (0 si es domingo).\n",
    "#'order_hour_of_day': hora del día en que se hizo el pedido.\n",
    "\n",
    "ped_mier_2am = (instacart_orders['order_dow'] == 3) & (instacart_orders['order_hour_of_day'] == 2)\n",
    "print(instacart_orders[ped_mier_2am])"
   ]
  },
  {
   "cell_type": "markdown",
   "id": "vu2OWyoqwOx5",
   "metadata": {
    "id": "vu2OWyoqwOx5"
   },
   "source": [
    "¿Qué sugiere este resultado?\n",
    "\n",
    "Existen 121 pedidos realizados los miercoles a las 2 am, por lo que se puede decir que son datos válidos para el estudio."
   ]
  },
  {
   "cell_type": "code",
   "execution_count": 11,
   "id": "480563c7",
   "metadata": {
    "id": "480563c7"
   },
   "outputs": [
    {
     "data": {
      "text/html": [
       "<div>\n",
       "<style scoped>\n",
       "    .dataframe tbody tr th:only-of-type {\n",
       "        vertical-align: middle;\n",
       "    }\n",
       "\n",
       "    .dataframe tbody tr th {\n",
       "        vertical-align: top;\n",
       "    }\n",
       "\n",
       "    .dataframe thead th {\n",
       "        text-align: right;\n",
       "    }\n",
       "</style>\n",
       "<table border=\"1\" class=\"dataframe\">\n",
       "  <thead>\n",
       "    <tr style=\"text-align: right;\">\n",
       "      <th></th>\n",
       "      <th>order_id</th>\n",
       "      <th>user_id</th>\n",
       "      <th>order_number</th>\n",
       "      <th>order_dow</th>\n",
       "      <th>order_hour_of_day</th>\n",
       "      <th>days_since_prior_order</th>\n",
       "    </tr>\n",
       "  </thead>\n",
       "  <tbody>\n",
       "    <tr>\n",
       "      <th>0</th>\n",
       "      <td>1515936</td>\n",
       "      <td>183418</td>\n",
       "      <td>11</td>\n",
       "      <td>6</td>\n",
       "      <td>13</td>\n",
       "      <td>30.0</td>\n",
       "    </tr>\n",
       "    <tr>\n",
       "      <th>1</th>\n",
       "      <td>1690866</td>\n",
       "      <td>163593</td>\n",
       "      <td>5</td>\n",
       "      <td>5</td>\n",
       "      <td>12</td>\n",
       "      <td>9.0</td>\n",
       "    </tr>\n",
       "    <tr>\n",
       "      <th>2</th>\n",
       "      <td>1454967</td>\n",
       "      <td>39980</td>\n",
       "      <td>4</td>\n",
       "      <td>5</td>\n",
       "      <td>19</td>\n",
       "      <td>2.0</td>\n",
       "    </tr>\n",
       "    <tr>\n",
       "      <th>3</th>\n",
       "      <td>1768857</td>\n",
       "      <td>82516</td>\n",
       "      <td>56</td>\n",
       "      <td>0</td>\n",
       "      <td>20</td>\n",
       "      <td>10.0</td>\n",
       "    </tr>\n",
       "    <tr>\n",
       "      <th>4</th>\n",
       "      <td>3007858</td>\n",
       "      <td>196724</td>\n",
       "      <td>2</td>\n",
       "      <td>4</td>\n",
       "      <td>12</td>\n",
       "      <td>17.0</td>\n",
       "    </tr>\n",
       "    <tr>\n",
       "      <th>...</th>\n",
       "      <td>...</td>\n",
       "      <td>...</td>\n",
       "      <td>...</td>\n",
       "      <td>...</td>\n",
       "      <td>...</td>\n",
       "      <td>...</td>\n",
       "    </tr>\n",
       "    <tr>\n",
       "      <th>478962</th>\n",
       "      <td>3210681</td>\n",
       "      <td>5617</td>\n",
       "      <td>5</td>\n",
       "      <td>1</td>\n",
       "      <td>14</td>\n",
       "      <td>7.0</td>\n",
       "    </tr>\n",
       "    <tr>\n",
       "      <th>478963</th>\n",
       "      <td>3270802</td>\n",
       "      <td>112087</td>\n",
       "      <td>2</td>\n",
       "      <td>3</td>\n",
       "      <td>13</td>\n",
       "      <td>6.0</td>\n",
       "    </tr>\n",
       "    <tr>\n",
       "      <th>478964</th>\n",
       "      <td>885349</td>\n",
       "      <td>82944</td>\n",
       "      <td>16</td>\n",
       "      <td>2</td>\n",
       "      <td>11</td>\n",
       "      <td>6.0</td>\n",
       "    </tr>\n",
       "    <tr>\n",
       "      <th>478965</th>\n",
       "      <td>216274</td>\n",
       "      <td>4391</td>\n",
       "      <td>3</td>\n",
       "      <td>3</td>\n",
       "      <td>8</td>\n",
       "      <td>8.0</td>\n",
       "    </tr>\n",
       "    <tr>\n",
       "      <th>478966</th>\n",
       "      <td>2071924</td>\n",
       "      <td>1730</td>\n",
       "      <td>18</td>\n",
       "      <td>1</td>\n",
       "      <td>14</td>\n",
       "      <td>15.0</td>\n",
       "    </tr>\n",
       "  </tbody>\n",
       "</table>\n",
       "<p>478952 rows × 6 columns</p>\n",
       "</div>"
      ],
      "text/plain": [
       "        order_id  user_id  order_number  order_dow  order_hour_of_day  \\\n",
       "0        1515936   183418            11          6                 13   \n",
       "1        1690866   163593             5          5                 12   \n",
       "2        1454967    39980             4          5                 19   \n",
       "3        1768857    82516            56          0                 20   \n",
       "4        3007858   196724             2          4                 12   \n",
       "...          ...      ...           ...        ...                ...   \n",
       "478962   3210681     5617             5          1                 14   \n",
       "478963   3270802   112087             2          3                 13   \n",
       "478964    885349    82944            16          2                 11   \n",
       "478965    216274     4391             3          3                  8   \n",
       "478966   2071924     1730            18          1                 14   \n",
       "\n",
       "        days_since_prior_order  \n",
       "0                         30.0  \n",
       "1                          9.0  \n",
       "2                          2.0  \n",
       "3                         10.0  \n",
       "4                         17.0  \n",
       "...                        ...  \n",
       "478962                     7.0  \n",
       "478963                     6.0  \n",
       "478964                     6.0  \n",
       "478965                     8.0  \n",
       "478966                    15.0  \n",
       "\n",
       "[478952 rows x 6 columns]"
      ]
     },
     "execution_count": 11,
     "metadata": {},
     "output_type": "execute_result"
    }
   ],
   "source": [
    "# Elimina los pedidos duplicados\n",
    "instacart_orders.drop_duplicates()"
   ]
  },
  {
   "cell_type": "code",
   "execution_count": 12,
   "id": "0b2396a2",
   "metadata": {
    "id": "0b2396a2"
   },
   "outputs": [
    {
     "data": {
      "text/html": [
       "<div>\n",
       "<style scoped>\n",
       "    .dataframe tbody tr th:only-of-type {\n",
       "        vertical-align: middle;\n",
       "    }\n",
       "\n",
       "    .dataframe tbody tr th {\n",
       "        vertical-align: top;\n",
       "    }\n",
       "\n",
       "    .dataframe thead th {\n",
       "        text-align: right;\n",
       "    }\n",
       "</style>\n",
       "<table border=\"1\" class=\"dataframe\">\n",
       "  <thead>\n",
       "    <tr style=\"text-align: right;\">\n",
       "      <th></th>\n",
       "      <th>order_id</th>\n",
       "      <th>user_id</th>\n",
       "      <th>order_number</th>\n",
       "      <th>order_dow</th>\n",
       "      <th>order_hour_of_day</th>\n",
       "      <th>days_since_prior_order</th>\n",
       "    </tr>\n",
       "  </thead>\n",
       "  <tbody>\n",
       "    <tr>\n",
       "      <th>145574</th>\n",
       "      <td>794638</td>\n",
       "      <td>50898</td>\n",
       "      <td>24</td>\n",
       "      <td>3</td>\n",
       "      <td>2</td>\n",
       "      <td>2.0</td>\n",
       "    </tr>\n",
       "    <tr>\n",
       "      <th>223105</th>\n",
       "      <td>2160484</td>\n",
       "      <td>107525</td>\n",
       "      <td>16</td>\n",
       "      <td>3</td>\n",
       "      <td>2</td>\n",
       "      <td>30.0</td>\n",
       "    </tr>\n",
       "    <tr>\n",
       "      <th>230807</th>\n",
       "      <td>1918001</td>\n",
       "      <td>188546</td>\n",
       "      <td>14</td>\n",
       "      <td>3</td>\n",
       "      <td>2</td>\n",
       "      <td>16.0</td>\n",
       "    </tr>\n",
       "    <tr>\n",
       "      <th>266232</th>\n",
       "      <td>1782114</td>\n",
       "      <td>106752</td>\n",
       "      <td>1</td>\n",
       "      <td>3</td>\n",
       "      <td>2</td>\n",
       "      <td>NaN</td>\n",
       "    </tr>\n",
       "    <tr>\n",
       "      <th>273805</th>\n",
       "      <td>1112182</td>\n",
       "      <td>202304</td>\n",
       "      <td>84</td>\n",
       "      <td>3</td>\n",
       "      <td>2</td>\n",
       "      <td>6.0</td>\n",
       "    </tr>\n",
       "    <tr>\n",
       "      <th>284038</th>\n",
       "      <td>2845099</td>\n",
       "      <td>31189</td>\n",
       "      <td>11</td>\n",
       "      <td>3</td>\n",
       "      <td>2</td>\n",
       "      <td>7.0</td>\n",
       "    </tr>\n",
       "    <tr>\n",
       "      <th>311713</th>\n",
       "      <td>1021560</td>\n",
       "      <td>53767</td>\n",
       "      <td>3</td>\n",
       "      <td>3</td>\n",
       "      <td>2</td>\n",
       "      <td>9.0</td>\n",
       "    </tr>\n",
       "    <tr>\n",
       "      <th>321100</th>\n",
       "      <td>408114</td>\n",
       "      <td>68324</td>\n",
       "      <td>4</td>\n",
       "      <td>3</td>\n",
       "      <td>2</td>\n",
       "      <td>18.0</td>\n",
       "    </tr>\n",
       "    <tr>\n",
       "      <th>323900</th>\n",
       "      <td>1919531</td>\n",
       "      <td>191501</td>\n",
       "      <td>32</td>\n",
       "      <td>3</td>\n",
       "      <td>2</td>\n",
       "      <td>7.0</td>\n",
       "    </tr>\n",
       "    <tr>\n",
       "      <th>345917</th>\n",
       "      <td>2232988</td>\n",
       "      <td>82565</td>\n",
       "      <td>1</td>\n",
       "      <td>3</td>\n",
       "      <td>2</td>\n",
       "      <td>NaN</td>\n",
       "    </tr>\n",
       "    <tr>\n",
       "      <th>371905</th>\n",
       "      <td>391768</td>\n",
       "      <td>57671</td>\n",
       "      <td>19</td>\n",
       "      <td>3</td>\n",
       "      <td>2</td>\n",
       "      <td>10.0</td>\n",
       "    </tr>\n",
       "    <tr>\n",
       "      <th>394347</th>\n",
       "      <td>467134</td>\n",
       "      <td>63189</td>\n",
       "      <td>21</td>\n",
       "      <td>3</td>\n",
       "      <td>2</td>\n",
       "      <td>2.0</td>\n",
       "    </tr>\n",
       "    <tr>\n",
       "      <th>411408</th>\n",
       "      <td>1286742</td>\n",
       "      <td>183220</td>\n",
       "      <td>48</td>\n",
       "      <td>3</td>\n",
       "      <td>2</td>\n",
       "      <td>4.0</td>\n",
       "    </tr>\n",
       "    <tr>\n",
       "      <th>415163</th>\n",
       "      <td>2282673</td>\n",
       "      <td>86751</td>\n",
       "      <td>49</td>\n",
       "      <td>3</td>\n",
       "      <td>2</td>\n",
       "      <td>2.0</td>\n",
       "    </tr>\n",
       "    <tr>\n",
       "      <th>441599</th>\n",
       "      <td>2125197</td>\n",
       "      <td>14050</td>\n",
       "      <td>48</td>\n",
       "      <td>3</td>\n",
       "      <td>2</td>\n",
       "      <td>3.0</td>\n",
       "    </tr>\n",
       "  </tbody>\n",
       "</table>\n",
       "</div>"
      ],
      "text/plain": [
       "        order_id  user_id  order_number  order_dow  order_hour_of_day  \\\n",
       "145574    794638    50898            24          3                  2   \n",
       "223105   2160484   107525            16          3                  2   \n",
       "230807   1918001   188546            14          3                  2   \n",
       "266232   1782114   106752             1          3                  2   \n",
       "273805   1112182   202304            84          3                  2   \n",
       "284038   2845099    31189            11          3                  2   \n",
       "311713   1021560    53767             3          3                  2   \n",
       "321100    408114    68324             4          3                  2   \n",
       "323900   1919531   191501            32          3                  2   \n",
       "345917   2232988    82565             1          3                  2   \n",
       "371905    391768    57671            19          3                  2   \n",
       "394347    467134    63189            21          3                  2   \n",
       "411408   1286742   183220            48          3                  2   \n",
       "415163   2282673    86751            49          3                  2   \n",
       "441599   2125197    14050            48          3                  2   \n",
       "\n",
       "        days_since_prior_order  \n",
       "145574                     2.0  \n",
       "223105                    30.0  \n",
       "230807                    16.0  \n",
       "266232                     NaN  \n",
       "273805                     6.0  \n",
       "284038                     7.0  \n",
       "311713                     9.0  \n",
       "321100                    18.0  \n",
       "323900                     7.0  \n",
       "345917                     NaN  \n",
       "371905                    10.0  \n",
       "394347                     2.0  \n",
       "411408                     4.0  \n",
       "415163                     2.0  \n",
       "441599                     3.0  "
      ]
     },
     "execution_count": 12,
     "metadata": {},
     "output_type": "execute_result"
    }
   ],
   "source": [
    "# Vuelve a verificar si hay filas duplicadas\n",
    "instacart_orders[instacart_orders.duplicated()]"
   ]
  },
  {
   "cell_type": "code",
   "execution_count": 13,
   "id": "f6113ef1",
   "metadata": {
    "id": "f6113ef1"
   },
   "outputs": [
    {
     "data": {
      "text/html": [
       "<div>\n",
       "<style scoped>\n",
       "    .dataframe tbody tr th:only-of-type {\n",
       "        vertical-align: middle;\n",
       "    }\n",
       "\n",
       "    .dataframe tbody tr th {\n",
       "        vertical-align: top;\n",
       "    }\n",
       "\n",
       "    .dataframe thead th {\n",
       "        text-align: right;\n",
       "    }\n",
       "</style>\n",
       "<table border=\"1\" class=\"dataframe\">\n",
       "  <thead>\n",
       "    <tr style=\"text-align: right;\">\n",
       "      <th></th>\n",
       "      <th>order_id</th>\n",
       "      <th>user_id</th>\n",
       "      <th>order_number</th>\n",
       "      <th>order_dow</th>\n",
       "      <th>order_hour_of_day</th>\n",
       "      <th>days_since_prior_order</th>\n",
       "    </tr>\n",
       "  </thead>\n",
       "  <tbody>\n",
       "    <tr>\n",
       "      <th>145574</th>\n",
       "      <td>794638</td>\n",
       "      <td>50898</td>\n",
       "      <td>24</td>\n",
       "      <td>3</td>\n",
       "      <td>2</td>\n",
       "      <td>2.0</td>\n",
       "    </tr>\n",
       "    <tr>\n",
       "      <th>223105</th>\n",
       "      <td>2160484</td>\n",
       "      <td>107525</td>\n",
       "      <td>16</td>\n",
       "      <td>3</td>\n",
       "      <td>2</td>\n",
       "      <td>30.0</td>\n",
       "    </tr>\n",
       "    <tr>\n",
       "      <th>230807</th>\n",
       "      <td>1918001</td>\n",
       "      <td>188546</td>\n",
       "      <td>14</td>\n",
       "      <td>3</td>\n",
       "      <td>2</td>\n",
       "      <td>16.0</td>\n",
       "    </tr>\n",
       "    <tr>\n",
       "      <th>266232</th>\n",
       "      <td>1782114</td>\n",
       "      <td>106752</td>\n",
       "      <td>1</td>\n",
       "      <td>3</td>\n",
       "      <td>2</td>\n",
       "      <td>NaN</td>\n",
       "    </tr>\n",
       "    <tr>\n",
       "      <th>273805</th>\n",
       "      <td>1112182</td>\n",
       "      <td>202304</td>\n",
       "      <td>84</td>\n",
       "      <td>3</td>\n",
       "      <td>2</td>\n",
       "      <td>6.0</td>\n",
       "    </tr>\n",
       "    <tr>\n",
       "      <th>284038</th>\n",
       "      <td>2845099</td>\n",
       "      <td>31189</td>\n",
       "      <td>11</td>\n",
       "      <td>3</td>\n",
       "      <td>2</td>\n",
       "      <td>7.0</td>\n",
       "    </tr>\n",
       "    <tr>\n",
       "      <th>311713</th>\n",
       "      <td>1021560</td>\n",
       "      <td>53767</td>\n",
       "      <td>3</td>\n",
       "      <td>3</td>\n",
       "      <td>2</td>\n",
       "      <td>9.0</td>\n",
       "    </tr>\n",
       "    <tr>\n",
       "      <th>321100</th>\n",
       "      <td>408114</td>\n",
       "      <td>68324</td>\n",
       "      <td>4</td>\n",
       "      <td>3</td>\n",
       "      <td>2</td>\n",
       "      <td>18.0</td>\n",
       "    </tr>\n",
       "    <tr>\n",
       "      <th>323900</th>\n",
       "      <td>1919531</td>\n",
       "      <td>191501</td>\n",
       "      <td>32</td>\n",
       "      <td>3</td>\n",
       "      <td>2</td>\n",
       "      <td>7.0</td>\n",
       "    </tr>\n",
       "    <tr>\n",
       "      <th>345917</th>\n",
       "      <td>2232988</td>\n",
       "      <td>82565</td>\n",
       "      <td>1</td>\n",
       "      <td>3</td>\n",
       "      <td>2</td>\n",
       "      <td>NaN</td>\n",
       "    </tr>\n",
       "    <tr>\n",
       "      <th>371905</th>\n",
       "      <td>391768</td>\n",
       "      <td>57671</td>\n",
       "      <td>19</td>\n",
       "      <td>3</td>\n",
       "      <td>2</td>\n",
       "      <td>10.0</td>\n",
       "    </tr>\n",
       "    <tr>\n",
       "      <th>394347</th>\n",
       "      <td>467134</td>\n",
       "      <td>63189</td>\n",
       "      <td>21</td>\n",
       "      <td>3</td>\n",
       "      <td>2</td>\n",
       "      <td>2.0</td>\n",
       "    </tr>\n",
       "    <tr>\n",
       "      <th>411408</th>\n",
       "      <td>1286742</td>\n",
       "      <td>183220</td>\n",
       "      <td>48</td>\n",
       "      <td>3</td>\n",
       "      <td>2</td>\n",
       "      <td>4.0</td>\n",
       "    </tr>\n",
       "    <tr>\n",
       "      <th>415163</th>\n",
       "      <td>2282673</td>\n",
       "      <td>86751</td>\n",
       "      <td>49</td>\n",
       "      <td>3</td>\n",
       "      <td>2</td>\n",
       "      <td>2.0</td>\n",
       "    </tr>\n",
       "    <tr>\n",
       "      <th>441599</th>\n",
       "      <td>2125197</td>\n",
       "      <td>14050</td>\n",
       "      <td>48</td>\n",
       "      <td>3</td>\n",
       "      <td>2</td>\n",
       "      <td>3.0</td>\n",
       "    </tr>\n",
       "  </tbody>\n",
       "</table>\n",
       "</div>"
      ],
      "text/plain": [
       "        order_id  user_id  order_number  order_dow  order_hour_of_day  \\\n",
       "145574    794638    50898            24          3                  2   \n",
       "223105   2160484   107525            16          3                  2   \n",
       "230807   1918001   188546            14          3                  2   \n",
       "266232   1782114   106752             1          3                  2   \n",
       "273805   1112182   202304            84          3                  2   \n",
       "284038   2845099    31189            11          3                  2   \n",
       "311713   1021560    53767             3          3                  2   \n",
       "321100    408114    68324             4          3                  2   \n",
       "323900   1919531   191501            32          3                  2   \n",
       "345917   2232988    82565             1          3                  2   \n",
       "371905    391768    57671            19          3                  2   \n",
       "394347    467134    63189            21          3                  2   \n",
       "411408   1286742   183220            48          3                  2   \n",
       "415163   2282673    86751            49          3                  2   \n",
       "441599   2125197    14050            48          3                  2   \n",
       "\n",
       "        days_since_prior_order  \n",
       "145574                     2.0  \n",
       "223105                    30.0  \n",
       "230807                    16.0  \n",
       "266232                     NaN  \n",
       "273805                     6.0  \n",
       "284038                     7.0  \n",
       "311713                     9.0  \n",
       "321100                    18.0  \n",
       "323900                     7.0  \n",
       "345917                     NaN  \n",
       "371905                    10.0  \n",
       "394347                     2.0  \n",
       "411408                     4.0  \n",
       "415163                     2.0  \n",
       "441599                     3.0  "
      ]
     },
     "execution_count": 13,
     "metadata": {},
     "output_type": "execute_result"
    }
   ],
   "source": [
    "# Vuelve a verificar únicamente si hay IDs duplicados de pedidos\n",
    "instacart_orders[instacart_orders['order_id'].duplicated()]"
   ]
  },
  {
   "cell_type": "markdown",
   "id": "5e8905ae",
   "metadata": {
    "id": "5e8905ae"
   },
   "source": [
    "Describe brevemente tus hallazgos y lo que hiciste con ellos\n",
    "\n",
    "Existen 15 filas totalmente duplicadas, sin embargo, no se pueden eliminar mediante el comando drop_duplicates()."
   ]
  },
  {
   "cell_type": "markdown",
   "id": "45e6bc46",
   "metadata": {
    "id": "45e6bc46"
   },
   "source": [
    "### `products` data frame"
   ]
  },
  {
   "cell_type": "code",
   "execution_count": 14,
   "id": "5f526b5b-8175-46fa-a0fd-441767d50e64",
   "metadata": {
    "id": "5f526b5b-8175-46fa-a0fd-441767d50e64"
   },
   "outputs": [
    {
     "data": {
      "text/html": [
       "<div>\n",
       "<style scoped>\n",
       "    .dataframe tbody tr th:only-of-type {\n",
       "        vertical-align: middle;\n",
       "    }\n",
       "\n",
       "    .dataframe tbody tr th {\n",
       "        vertical-align: top;\n",
       "    }\n",
       "\n",
       "    .dataframe thead th {\n",
       "        text-align: right;\n",
       "    }\n",
       "</style>\n",
       "<table border=\"1\" class=\"dataframe\">\n",
       "  <thead>\n",
       "    <tr style=\"text-align: right;\">\n",
       "      <th></th>\n",
       "      <th>product_id</th>\n",
       "      <th>product_name</th>\n",
       "      <th>aisle_id</th>\n",
       "      <th>department_id</th>\n",
       "    </tr>\n",
       "  </thead>\n",
       "  <tbody>\n",
       "  </tbody>\n",
       "</table>\n",
       "</div>"
      ],
      "text/plain": [
       "Empty DataFrame\n",
       "Columns: [product_id, product_name, aisle_id, department_id]\n",
       "Index: []"
      ]
     },
     "execution_count": 14,
     "metadata": {},
     "output_type": "execute_result"
    }
   ],
   "source": [
    "# Verifica si hay filas totalmente duplicadas\n",
    "products[products.duplicated()]"
   ]
  },
  {
   "cell_type": "code",
   "execution_count": 15,
   "id": "88daa4f4",
   "metadata": {
    "id": "88daa4f4"
   },
   "outputs": [
    {
     "data": {
      "text/plain": [
       "49673"
      ]
     },
     "execution_count": 15,
     "metadata": {},
     "output_type": "execute_result"
    }
   ],
   "source": [
    "# Revisa únicamente si hay ID de departamentos duplicados\n",
    "products['department_id'].duplicated().sum()"
   ]
  },
  {
   "cell_type": "code",
   "execution_count": 16,
   "id": "c773f0bf",
   "metadata": {
    "id": "c773f0bf"
   },
   "outputs": [
    {
     "name": "stdout",
     "output_type": "stream",
     "text": [
      "1361\n"
     ]
    }
   ],
   "source": [
    "# Revisa únicamente si hay nombres duplicados de productos (convierte los nombres a letras mayúsculas para compararlos mejor)\n",
    "product_names = products['product_name'].str.upper()\n",
    "product_names = product_names.duplicated()\n",
    "print(product_names.sum())"
   ]
  },
  {
   "cell_type": "code",
   "execution_count": 17,
   "id": "01efd02e",
   "metadata": {
    "id": "01efd02e"
   },
   "outputs": [
    {
     "data": {
      "text/html": [
       "<div>\n",
       "<style scoped>\n",
       "    .dataframe tbody tr th:only-of-type {\n",
       "        vertical-align: middle;\n",
       "    }\n",
       "\n",
       "    .dataframe tbody tr th {\n",
       "        vertical-align: top;\n",
       "    }\n",
       "\n",
       "    .dataframe thead th {\n",
       "        text-align: right;\n",
       "    }\n",
       "</style>\n",
       "<table border=\"1\" class=\"dataframe\">\n",
       "  <thead>\n",
       "    <tr style=\"text-align: right;\">\n",
       "      <th></th>\n",
       "      <th>product_id</th>\n",
       "      <th>product_name</th>\n",
       "      <th>aisle_id</th>\n",
       "      <th>department_id</th>\n",
       "    </tr>\n",
       "  </thead>\n",
       "  <tbody>\n",
       "    <tr>\n",
       "      <th>0</th>\n",
       "      <td>1</td>\n",
       "      <td>Chocolate Sandwich Cookies</td>\n",
       "      <td>61</td>\n",
       "      <td>19</td>\n",
       "    </tr>\n",
       "    <tr>\n",
       "      <th>1</th>\n",
       "      <td>2</td>\n",
       "      <td>All-Seasons Salt</td>\n",
       "      <td>104</td>\n",
       "      <td>13</td>\n",
       "    </tr>\n",
       "    <tr>\n",
       "      <th>2</th>\n",
       "      <td>3</td>\n",
       "      <td>Robust Golden Unsweetened Oolong Tea</td>\n",
       "      <td>94</td>\n",
       "      <td>7</td>\n",
       "    </tr>\n",
       "    <tr>\n",
       "      <th>3</th>\n",
       "      <td>4</td>\n",
       "      <td>Smart Ones Classic Favorites Mini Rigatoni Wit...</td>\n",
       "      <td>38</td>\n",
       "      <td>1</td>\n",
       "    </tr>\n",
       "    <tr>\n",
       "      <th>4</th>\n",
       "      <td>5</td>\n",
       "      <td>Green Chile Anytime Sauce</td>\n",
       "      <td>5</td>\n",
       "      <td>13</td>\n",
       "    </tr>\n",
       "    <tr>\n",
       "      <th>...</th>\n",
       "      <td>...</td>\n",
       "      <td>...</td>\n",
       "      <td>...</td>\n",
       "      <td>...</td>\n",
       "    </tr>\n",
       "    <tr>\n",
       "      <th>49689</th>\n",
       "      <td>49690</td>\n",
       "      <td>HIGH PERFORMANCE ENERGY DRINK</td>\n",
       "      <td>64</td>\n",
       "      <td>7</td>\n",
       "    </tr>\n",
       "    <tr>\n",
       "      <th>49690</th>\n",
       "      <td>49691</td>\n",
       "      <td>ORIGINAL PANCAKE &amp; WAFFLE MIX</td>\n",
       "      <td>130</td>\n",
       "      <td>14</td>\n",
       "    </tr>\n",
       "    <tr>\n",
       "      <th>49691</th>\n",
       "      <td>49692</td>\n",
       "      <td>ORGANIC INSTANT OATMEAL LIGHT MAPLE BROWN SUGAR</td>\n",
       "      <td>130</td>\n",
       "      <td>14</td>\n",
       "    </tr>\n",
       "    <tr>\n",
       "      <th>49692</th>\n",
       "      <td>49693</td>\n",
       "      <td>SPRING WATER BODY WASH</td>\n",
       "      <td>127</td>\n",
       "      <td>11</td>\n",
       "    </tr>\n",
       "    <tr>\n",
       "      <th>49693</th>\n",
       "      <td>49694</td>\n",
       "      <td>BURRITO- STEAK &amp; CHEESE</td>\n",
       "      <td>38</td>\n",
       "      <td>1</td>\n",
       "    </tr>\n",
       "  </tbody>\n",
       "</table>\n",
       "<p>49694 rows × 4 columns</p>\n",
       "</div>"
      ],
      "text/plain": [
       "       product_id                                       product_name  \\\n",
       "0               1                         Chocolate Sandwich Cookies   \n",
       "1               2                                   All-Seasons Salt   \n",
       "2               3               Robust Golden Unsweetened Oolong Tea   \n",
       "3               4  Smart Ones Classic Favorites Mini Rigatoni Wit...   \n",
       "4               5                          Green Chile Anytime Sauce   \n",
       "...           ...                                                ...   \n",
       "49689       49690                      HIGH PERFORMANCE ENERGY DRINK   \n",
       "49690       49691                      ORIGINAL PANCAKE & WAFFLE MIX   \n",
       "49691       49692    ORGANIC INSTANT OATMEAL LIGHT MAPLE BROWN SUGAR   \n",
       "49692       49693                             SPRING WATER BODY WASH   \n",
       "49693       49694                            BURRITO- STEAK & CHEESE   \n",
       "\n",
       "       aisle_id  department_id  \n",
       "0            61             19  \n",
       "1           104             13  \n",
       "2            94              7  \n",
       "3            38              1  \n",
       "4             5             13  \n",
       "...         ...            ...  \n",
       "49689        64              7  \n",
       "49690       130             14  \n",
       "49691       130             14  \n",
       "49692       127             11  \n",
       "49693        38              1  \n",
       "\n",
       "[49694 rows x 4 columns]"
      ]
     },
     "execution_count": 17,
     "metadata": {},
     "output_type": "execute_result"
    }
   ],
   "source": [
    "# Revisa si hay nombres duplicados de productos no faltantes\n",
    "products[(~products['department_id'].isna())]"
   ]
  },
  {
   "cell_type": "markdown",
   "id": "9da8d293",
   "metadata": {
    "id": "9da8d293"
   },
   "source": [
    "Existen algunos duplicados según cada columna, sin embargo, se los deja solo demostrados para poder corregirlos más adelante según sea necesario dentro del proyecto."
   ]
  },
  {
   "cell_type": "markdown",
   "id": "60f30db1",
   "metadata": {
    "id": "60f30db1"
   },
   "source": [
    "### `departments` data frame"
   ]
  },
  {
   "cell_type": "code",
   "execution_count": 18,
   "id": "fb410ad4-0fbf-4b80-bb09-23fdea79afe3",
   "metadata": {
    "id": "fb410ad4-0fbf-4b80-bb09-23fdea79afe3"
   },
   "outputs": [
    {
     "data": {
      "text/html": [
       "<div>\n",
       "<style scoped>\n",
       "    .dataframe tbody tr th:only-of-type {\n",
       "        vertical-align: middle;\n",
       "    }\n",
       "\n",
       "    .dataframe tbody tr th {\n",
       "        vertical-align: top;\n",
       "    }\n",
       "\n",
       "    .dataframe thead th {\n",
       "        text-align: right;\n",
       "    }\n",
       "</style>\n",
       "<table border=\"1\" class=\"dataframe\">\n",
       "  <thead>\n",
       "    <tr style=\"text-align: right;\">\n",
       "      <th></th>\n",
       "      <th>department_id</th>\n",
       "      <th>department</th>\n",
       "    </tr>\n",
       "  </thead>\n",
       "  <tbody>\n",
       "  </tbody>\n",
       "</table>\n",
       "</div>"
      ],
      "text/plain": [
       "Empty DataFrame\n",
       "Columns: [department_id, department]\n",
       "Index: []"
      ]
     },
     "execution_count": 18,
     "metadata": {},
     "output_type": "execute_result"
    }
   ],
   "source": [
    "# Corregir los tipos de datos\n",
    "departments['department_id'] = departments['department_id'].astype(int)\n",
    "departments['department'] = departments['department'].astype(str)\n",
    "\n",
    "# Revisa si hay filas totalmente duplicadas\n",
    "departments[departments.duplicated()]"
   ]
  },
  {
   "cell_type": "code",
   "execution_count": 19,
   "id": "332b12bb",
   "metadata": {
    "id": "332b12bb"
   },
   "outputs": [
    {
     "data": {
      "text/html": [
       "<div>\n",
       "<style scoped>\n",
       "    .dataframe tbody tr th:only-of-type {\n",
       "        vertical-align: middle;\n",
       "    }\n",
       "\n",
       "    .dataframe tbody tr th {\n",
       "        vertical-align: top;\n",
       "    }\n",
       "\n",
       "    .dataframe thead th {\n",
       "        text-align: right;\n",
       "    }\n",
       "</style>\n",
       "<table border=\"1\" class=\"dataframe\">\n",
       "  <thead>\n",
       "    <tr style=\"text-align: right;\">\n",
       "      <th></th>\n",
       "      <th>department_id</th>\n",
       "      <th>department</th>\n",
       "    </tr>\n",
       "  </thead>\n",
       "  <tbody>\n",
       "  </tbody>\n",
       "</table>\n",
       "</div>"
      ],
      "text/plain": [
       "Empty DataFrame\n",
       "Columns: [department_id, department]\n",
       "Index: []"
      ]
     },
     "execution_count": 19,
     "metadata": {},
     "output_type": "execute_result"
    }
   ],
   "source": [
    "# Revisa únicamente si hay IDs duplicadas de productos\n",
    "departments[departments['department_id'].duplicated()]"
   ]
  },
  {
   "cell_type": "markdown",
   "id": "bd30d78e",
   "metadata": {
    "id": "bd30d78e"
   },
   "source": [
    "No existen valores duplicados dentro de este dataframe."
   ]
  },
  {
   "cell_type": "markdown",
   "id": "889349c1",
   "metadata": {
    "id": "889349c1"
   },
   "source": [
    "### `aisles` data frame"
   ]
  },
  {
   "cell_type": "code",
   "execution_count": 20,
   "id": "9da89fb9-4679-40f5-ad0d-c34df753a3f8",
   "metadata": {
    "id": "9da89fb9-4679-40f5-ad0d-c34df753a3f8"
   },
   "outputs": [
    {
     "data": {
      "text/html": [
       "<div>\n",
       "<style scoped>\n",
       "    .dataframe tbody tr th:only-of-type {\n",
       "        vertical-align: middle;\n",
       "    }\n",
       "\n",
       "    .dataframe tbody tr th {\n",
       "        vertical-align: top;\n",
       "    }\n",
       "\n",
       "    .dataframe thead th {\n",
       "        text-align: right;\n",
       "    }\n",
       "</style>\n",
       "<table border=\"1\" class=\"dataframe\">\n",
       "  <thead>\n",
       "    <tr style=\"text-align: right;\">\n",
       "      <th></th>\n",
       "      <th>aisle_id</th>\n",
       "      <th>aisle</th>\n",
       "    </tr>\n",
       "  </thead>\n",
       "  <tbody>\n",
       "  </tbody>\n",
       "</table>\n",
       "</div>"
      ],
      "text/plain": [
       "Empty DataFrame\n",
       "Columns: [aisle_id, aisle]\n",
       "Index: []"
      ]
     },
     "execution_count": 20,
     "metadata": {},
     "output_type": "execute_result"
    }
   ],
   "source": [
    "# Corregir los tipos de datos\n",
    "aisles['aisle_id'] = aisles['aisle_id'].astype(int)\n",
    "aisles['aisle'] = aisles['aisle'].astype(str)\n",
    "\n",
    "# Revisa si hay filas totalmente duplicadas\n",
    "aisles[aisles.duplicated()]"
   ]
  },
  {
   "cell_type": "code",
   "execution_count": 21,
   "id": "da7c2822",
   "metadata": {
    "id": "da7c2822"
   },
   "outputs": [
    {
     "data": {
      "text/html": [
       "<div>\n",
       "<style scoped>\n",
       "    .dataframe tbody tr th:only-of-type {\n",
       "        vertical-align: middle;\n",
       "    }\n",
       "\n",
       "    .dataframe tbody tr th {\n",
       "        vertical-align: top;\n",
       "    }\n",
       "\n",
       "    .dataframe thead th {\n",
       "        text-align: right;\n",
       "    }\n",
       "</style>\n",
       "<table border=\"1\" class=\"dataframe\">\n",
       "  <thead>\n",
       "    <tr style=\"text-align: right;\">\n",
       "      <th></th>\n",
       "      <th>aisle_id</th>\n",
       "      <th>aisle</th>\n",
       "    </tr>\n",
       "  </thead>\n",
       "  <tbody>\n",
       "  </tbody>\n",
       "</table>\n",
       "</div>"
      ],
      "text/plain": [
       "Empty DataFrame\n",
       "Columns: [aisle_id, aisle]\n",
       "Index: []"
      ]
     },
     "execution_count": 21,
     "metadata": {},
     "output_type": "execute_result"
    }
   ],
   "source": [
    "# Revisa únicamente si hay IDs duplicadas de productos\n",
    "aisles[aisles['aisle_id'].duplicated()]"
   ]
  },
  {
   "cell_type": "markdown",
   "id": "ac63826f",
   "metadata": {
    "id": "ac63826f"
   },
   "source": [
    "No existen valores duplicados dentro de este dataframe."
   ]
  },
  {
   "cell_type": "markdown",
   "id": "274cd06a",
   "metadata": {
    "id": "274cd06a"
   },
   "source": [
    "### `order_products` data frame"
   ]
  },
  {
   "cell_type": "code",
   "execution_count": 22,
   "id": "52326689-84a8-4b8f-a881-7c68780f62c9",
   "metadata": {
    "id": "52326689-84a8-4b8f-a881-7c68780f62c9"
   },
   "outputs": [
    {
     "data": {
      "text/html": [
       "<div>\n",
       "<style scoped>\n",
       "    .dataframe tbody tr th:only-of-type {\n",
       "        vertical-align: middle;\n",
       "    }\n",
       "\n",
       "    .dataframe tbody tr th {\n",
       "        vertical-align: top;\n",
       "    }\n",
       "\n",
       "    .dataframe thead th {\n",
       "        text-align: right;\n",
       "    }\n",
       "</style>\n",
       "<table border=\"1\" class=\"dataframe\">\n",
       "  <thead>\n",
       "    <tr style=\"text-align: right;\">\n",
       "      <th></th>\n",
       "      <th>order_id</th>\n",
       "      <th>product_id</th>\n",
       "      <th>add_to_cart_order</th>\n",
       "      <th>reordered</th>\n",
       "    </tr>\n",
       "  </thead>\n",
       "  <tbody>\n",
       "  </tbody>\n",
       "</table>\n",
       "</div>"
      ],
      "text/plain": [
       "Empty DataFrame\n",
       "Columns: [order_id, product_id, add_to_cart_order, reordered]\n",
       "Index: []"
      ]
     },
     "execution_count": 22,
     "metadata": {},
     "output_type": "execute_result"
    }
   ],
   "source": [
    "# Corregir los tipos de datos\n",
    "#order_products['order_id'] = order_products['order_id'].astype(int)\n",
    "order_products['product_id'] = order_products['product_id'].astype(int)\n",
    "#order_products['add_to_cart_order'] = order_products['add_to_cart_order'].astype(int)\n",
    "order_products['reordered'] = order_products['reordered'].astype(int)\n",
    "\n",
    "# Revisa si hay filas totalmente duplicadas\n",
    "order_products[order_products.duplicated()]"
   ]
  },
  {
   "cell_type": "code",
   "execution_count": 23,
   "id": "7b861391",
   "metadata": {
    "id": "7b861391",
    "scrolled": true
   },
   "outputs": [
    {
     "data": {
      "text/plain": [
       "4545007"
      ]
     },
     "execution_count": 23,
     "metadata": {},
     "output_type": "execute_result"
    }
   ],
   "source": [
    "# Vuelve a verificar si hay cualquier otro duplicado engañoso\n",
    "order_products['order_id'].duplicated().count()"
   ]
  },
  {
   "cell_type": "markdown",
   "id": "0b890492",
   "metadata": {
    "id": "0b890492"
   },
   "source": [
    "No existen filas totalmente duplicadas dentro de este dataframe, sin embargo, si se encontro duplicados engañosos dentro de (order_id)"
   ]
  },
  {
   "cell_type": "markdown",
   "id": "1e46de76",
   "metadata": {
    "id": "1e46de76"
   },
   "source": [
    "## Encuentra y elimina los valores ausentes\n",
    "\n",
    "Al trabajar con valores duplicados, pudimos observar que también nos falta investigar valores ausentes:\n",
    "\n",
    "* La columna `'product_name'` de la tabla products.\n",
    "* La columna `'days_since_prior_order'` de la tabla orders.\n",
    "* La columna `'add_to_cart_order'` de la tabla order_productos."
   ]
  },
  {
   "cell_type": "markdown",
   "id": "c0aebd78",
   "metadata": {
    "id": "c0aebd78"
   },
   "source": [
    "### `products` data frame"
   ]
  },
  {
   "cell_type": "code",
   "execution_count": 24,
   "id": "fe4a8b0f",
   "metadata": {
    "id": "fe4a8b0f"
   },
   "outputs": [
    {
     "name": "stdout",
     "output_type": "stream",
     "text": [
      "       product_id product_name  aisle_id  department_id\n",
      "37             38          NaN       100             21\n",
      "71             72          NaN       100             21\n",
      "109           110          NaN       100             21\n",
      "296           297          NaN       100             21\n",
      "416           417          NaN       100             21\n",
      "...           ...          ...       ...            ...\n",
      "49552       49553          NaN       100             21\n",
      "49574       49575          NaN       100             21\n",
      "49640       49641          NaN       100             21\n",
      "49663       49664          NaN       100             21\n",
      "49668       49669          NaN       100             21\n",
      "\n",
      "[1258 rows x 4 columns]\n"
     ]
    }
   ],
   "source": [
    "# Encuentra los valores ausentes en la columna 'product_name'\n",
    "product_name_null = products[products['product_name'].isna()]\n",
    "print(product_name_null)"
   ]
  },
  {
   "cell_type": "markdown",
   "id": "-A6x1AbJhjkp",
   "metadata": {
    "id": "-A6x1AbJhjkp"
   },
   "source": [
    "Existen 1258 filas donde no se tiene un nombre de un producto."
   ]
  },
  {
   "cell_type": "code",
   "execution_count": 25,
   "id": "e96167bc",
   "metadata": {
    "id": "e96167bc"
   },
   "outputs": [
    {
     "name": "stdout",
     "output_type": "stream",
     "text": [
      "Los valores ausentes en 'product_name' se relacionan con diferentes valores en 'aisle_id': [100].\n"
     ]
    }
   ],
   "source": [
    "#  ¿Todos los nombres de productos ausentes están relacionados con el pasillo con ID 100?\n",
    "product_name_unique = product_name_null['aisle_id'].unique()\n",
    "\n",
    "if len(product_name_unique) == 100:\n",
    "    print(f\"Todos los valores ausentes en '{'product_name'}' se relacionan con el valor '{product_name_unique[0]}' en '{aisle_id}'.\")\n",
    "else:\n",
    "    print(f\"Los valores ausentes en '{'product_name'}' se relacionan con diferentes valores en '{'aisle_id'}': {product_name_unique}.\")"
   ]
  },
  {
   "cell_type": "markdown",
   "id": "WRpIfXRphpSL",
   "metadata": {
    "id": "WRpIfXRphpSL"
   },
   "source": [
    "Los valores ausentes en 'product_name' se relacionan con diferentes valores en 'aisle_id': [100]."
   ]
  },
  {
   "cell_type": "code",
   "execution_count": 26,
   "id": "8fd0a541",
   "metadata": {
    "id": "8fd0a541"
   },
   "outputs": [
    {
     "name": "stdout",
     "output_type": "stream",
     "text": [
      "Los valores ausentes en 'product_name' se relacionan con diferentes valores en 'department_id': [21].\n"
     ]
    }
   ],
   "source": [
    "# ¿Todos los nombres de productos ausentes están relacionados con el departamento con ID 21?\n",
    "product_name_unique = product_name_null['department_id'].unique()\n",
    "\n",
    "if len(product_name_unique) == 21:\n",
    "    print(f\"Todos los valores ausentes en '{'product_name'}' se relacionan con el valor '{product_name_unique[0]}' en '{department_id}'.\")\n",
    "else:\n",
    "    print(f\"Los valores ausentes en '{'product_name'}' se relacionan con diferentes valores en '{'department_id'}': {product_name_unique}.\")"
   ]
  },
  {
   "cell_type": "markdown",
   "id": "qDpdYn1Fht_I",
   "metadata": {
    "id": "qDpdYn1Fht_I"
   },
   "source": [
    "Los valores ausentes en 'product_name' se relacionan con diferentes valores en 'department_id': [21]."
   ]
  },
  {
   "cell_type": "code",
   "execution_count": 27,
   "id": "325c3464",
   "metadata": {
    "id": "325c3464"
   },
   "outputs": [
    {
     "name": "stdout",
     "output_type": "stream",
     "text": [
      "    aisle_id    aisle  department_id department\n",
      "20       NaN      NaN           21.0    missing\n",
      "99     100.0  missing            NaN        NaN\n"
     ]
    }
   ],
   "source": [
    "# Usa las tablas department y aisle para revisar los datos del pasillo con ID 100 y el departamento con ID 21.\n",
    "aisle_100 = aisles['aisle_id'] == 100\n",
    "aisle_fil = aisles[aisle_100]\n",
    "\n",
    "department_21 = departments['department_id'] == 21\n",
    "department_fil = departments[department_21]\n",
    "\n",
    "datos_aisle_department = pd.concat([aisle_fil,department_fil], axis = 'columns')\n",
    "print(datos_aisle_department)"
   ]
  },
  {
   "cell_type": "markdown",
   "id": "nqhSTUPhhvEJ",
   "metadata": {
    "id": "nqhSTUPhhvEJ"
   },
   "source": [
    "Los datos del pasillo con ID 100 y el departamento con ID 21 coinciden con tener valores ausentes."
   ]
  },
  {
   "cell_type": "code",
   "execution_count": 28,
   "id": "6b295120",
   "metadata": {
    "id": "6b295120"
   },
   "outputs": [
    {
     "name": "stdout",
     "output_type": "stream",
     "text": [
      "       product_id                                       product_name  \\\n",
      "39542       39543                                   Water- Sparkling   \n",
      "33105       33106                                  Organic Firm Tofu   \n",
      "48303       48304                                 Tropical Trail Mix   \n",
      "2025         2026                              Traditional Multipack   \n",
      "40146       40147  Despicable Me Bello! Strawberry Banana/Bello! ...   \n",
      "46045       46046  Pillsbury Funfetti Vibrant Green Vanilla Frosting   \n",
      "46157       46158                     Disinfecting Wipes Lemon Scent   \n",
      "45406       45407                                         Cooked Ham   \n",
      "18025       18026                        English Tea Scones Original   \n",
      "18630       18631  Baked with Whole Grain Xtra Cheddar Baked Snac...   \n",
      "\n",
      "       aisle_id  department_id  \n",
      "39542       115              7  \n",
      "33105        14             20  \n",
      "48303       125             19  \n",
      "2025        125             19  \n",
      "40146       120             16  \n",
      "46045        97             13  \n",
      "46157       114             17  \n",
      "45406        96             20  \n",
      "18025        93              3  \n",
      "18630        78             19  \n"
     ]
    }
   ],
   "source": [
    "# Completa los nombres de productos ausentes con 'Unknown'\n",
    "products['product_name'].fillna(value = 'Unknown',inplace = True)\n",
    "print(products.sample(10))"
   ]
  },
  {
   "cell_type": "markdown",
   "id": "fc70e5ad",
   "metadata": {
    "id": "fc70e5ad"
   },
   "source": [
    "Se pudo reemplazar correctamente los valores NaN por Unknown, y mediante la ejecución de la implesión con sample se puede verificar."
   ]
  },
  {
   "cell_type": "markdown",
   "id": "7eb45c86",
   "metadata": {
    "id": "7eb45c86"
   },
   "source": [
    "### `orders` data frame"
   ]
  },
  {
   "cell_type": "code",
   "execution_count": 29,
   "id": "93e41d96",
   "metadata": {
    "id": "93e41d96"
   },
   "outputs": [
    {
     "name": "stdout",
     "output_type": "stream",
     "text": [
      "order_id                      0\n",
      "user_id                       0\n",
      "order_number                  0\n",
      "order_dow                     0\n",
      "order_hour_of_day             0\n",
      "days_since_prior_order    28819\n",
      "dtype: int64\n"
     ]
    }
   ],
   "source": [
    "# Encuentra los valores ausentes\n",
    "print(instacart_orders.isna().sum())"
   ]
  },
  {
   "cell_type": "code",
   "execution_count": 30,
   "id": "166e5a86",
   "metadata": {
    "id": "166e5a86"
   },
   "outputs": [
    {
     "data": {
      "text/plain": [
       "0"
      ]
     },
     "execution_count": 30,
     "metadata": {},
     "output_type": "execute_result"
    }
   ],
   "source": [
    "# ¿Hay algún valor ausente que no sea el primer pedido del cliente?\n",
    "instacart_orders['order_number'].isna().sum()"
   ]
  },
  {
   "cell_type": "markdown",
   "id": "4e23d089",
   "metadata": {
    "id": "4e23d089"
   },
   "source": [
    "Describe brevemente tus hallazgos y lo que hiciste con ellos.\n",
    "\n",
    "No hay valores ausentes de pedidos y existen 15 valores duplicados."
   ]
  },
  {
   "cell_type": "markdown",
   "id": "69dc9ca4",
   "metadata": {
    "id": "69dc9ca4"
   },
   "source": [
    "### `order_products` data frame"
   ]
  },
  {
   "cell_type": "code",
   "execution_count": 31,
   "id": "b8240253",
   "metadata": {
    "id": "b8240253"
   },
   "outputs": [
    {
     "data": {
      "text/plain": [
       "order_id               0\n",
       "product_id             0\n",
       "add_to_cart_order    836\n",
       "reordered              0\n",
       "dtype: int64"
      ]
     },
     "execution_count": 31,
     "metadata": {},
     "output_type": "execute_result"
    }
   ],
   "source": [
    "# Encuentra los valores ausentes\n",
    "order_products.isna().sum()"
   ]
  },
  {
   "cell_type": "code",
   "execution_count": 32,
   "id": "9a78e5ee",
   "metadata": {
    "id": "9a78e5ee"
   },
   "outputs": [
    {
     "name": "stdout",
     "output_type": "stream",
     "text": [
      "Valor mínimo: 1.0\n",
      "Valor máximo: 64.0\n"
     ]
    }
   ],
   "source": [
    "# ¿Cuáles son los valores mínimos y máximos en esta columna?\n",
    "val_min = order_products['add_to_cart_order'].min()\n",
    "val_max = order_products['add_to_cart_order'].max()\n",
    "\n",
    "print('Valor mínimo:',val_min)\n",
    "print('Valor máximo:',val_max)"
   ]
  },
  {
   "cell_type": "markdown",
   "id": "-Z2Ja215jW78",
   "metadata": {
    "id": "-Z2Ja215jW78"
   },
   "source": [
    "El valor mínimo es de 1.0 y el valor máximo es de 64.0 pedidos en un carrito."
   ]
  },
  {
   "cell_type": "code",
   "execution_count": 33,
   "id": "ab9d0c2b",
   "metadata": {
    "id": "ab9d0c2b"
   },
   "outputs": [
    {
     "name": "stdout",
     "output_type": "stream",
     "text": [
      "         order_id  product_id  add_to_cart_order  reordered\n",
      "737       2449164        5068                NaN          0\n",
      "9926      1968313       43867                NaN          0\n",
      "14394     2926893       11688                NaN          0\n",
      "16418     1717990        4142                NaN          0\n",
      "30114     1959075       42828                NaN          1\n",
      "...           ...         ...                ...        ...\n",
      "4505662   1800005        7411                NaN          0\n",
      "4511400   1633337         260                NaN          0\n",
      "4517562    404157        9517                NaN          0\n",
      "4534112   1673227       17835                NaN          0\n",
      "4535739   1832957       17949                NaN          1\n",
      "\n",
      "[836 rows x 4 columns]\n"
     ]
    }
   ],
   "source": [
    "# Guarda todas las IDs de pedidos que tengan un valor ausente en 'add_to_cart_order'\n",
    "add_to_cart_order_val_nul = order_products[order_products['add_to_cart_order'].isna()]\n",
    "\n",
    "print(add_to_cart_order_val_nul)"
   ]
  },
  {
   "cell_type": "code",
   "execution_count": 34,
   "id": "54c31695",
   "metadata": {
    "id": "54c31695"
   },
   "outputs": [
    {
     "name": "stdout",
     "output_type": "stream",
     "text": [
      "         order_id  product_id  add_to_cart_order  reordered\n",
      "737       2449164        5068                NaN          0\n",
      "9926      1968313       43867                NaN          0\n",
      "14394     2926893       11688                NaN          0\n",
      "16418     1717990        4142                NaN          0\n",
      "30114     1959075       42828                NaN          1\n",
      "...           ...         ...                ...        ...\n",
      "4505662   1800005        7411                NaN          0\n",
      "4511400   1633337         260                NaN          0\n",
      "4517562    404157        9517                NaN          0\n",
      "4534112   1673227       17835                NaN          0\n",
      "4535739   1832957       17949                NaN          1\n",
      "\n",
      "[832 rows x 4 columns]\n",
      "order_id\n",
      "9310        1\n",
      "61355      63\n",
      "102236     31\n",
      "129627      5\n",
      "165801      6\n",
      "           ..\n",
      "2999801     6\n",
      "3125735    22\n",
      "3308010    51\n",
      "3347453     7\n",
      "3383594     5\n",
      "Name: product_id, Length: 70, dtype: int64\n",
      "order_id\n",
      "9310        1\n",
      "747668      1\n",
      "1598369     1\n",
      "1677118     1\n",
      "2170451     1\n",
      "           ..\n",
      "1959075    34\n",
      "171934     40\n",
      "2136777    44\n",
      "3308010    51\n",
      "61355      63\n",
      "Name: product_id, Length: 70, dtype: int64\n",
      "order_id\n",
      "9310        1\n",
      "61355      63\n",
      "102236     31\n",
      "129627      5\n",
      "165801      6\n",
      "           ..\n",
      "2999801     6\n",
      "3125735    22\n",
      "3308010    51\n",
      "3347453     7\n",
      "3383594     5\n",
      "Name: product_id, Length: 70, dtype: int64 Valor mínimo 1\n"
     ]
    }
   ],
   "source": [
    "# ¿Todos los pedidos con valores ausentes tienen más de 64 productos?\n",
    "add_to_cart_order_val_nul_64 = add_to_cart_order_val_nul[add_to_cart_order_val_nul['product_id'] >= 64]\n",
    "\n",
    "print(add_to_cart_order_val_nul_64)\n",
    "\n",
    "\n",
    "\n",
    "# Agrupa todos los pedidos con datos ausentes por su ID de pedido.\n",
    "\n",
    "add_to_cart_order_val_nul_64 = add_to_cart_order_val_nul.groupby('order_id')['product_id'].count()\n",
    "\n",
    "print(add_to_cart_order_val_nul_64)\n",
    "\n",
    "add_to_cart_order_val_nul_64_sort = add_to_cart_order_val_nul_64.sort_values(ascending = True)\n",
    "\n",
    "print(add_to_cart_order_val_nul_64_sort)\n",
    "\n",
    "\n",
    "# Cuenta el número de 'product_id' en cada pedido y revisa el valor mínimo del conteo.\n",
    "print(add_to_cart_order_val_nul_64, 'Valor mínimo',add_to_cart_order_val_nul_64.min())\n"
   ]
  },
  {
   "cell_type": "markdown",
   "id": "p9V6pddtjglj",
   "metadata": {
    "id": "p9V6pddtjglj"
   },
   "source": [
    "Describe brevemente cuáles son tus hallazgos."
   ]
  },
  {
   "cell_type": "code",
   "execution_count": 35,
   "id": "7a987d08",
   "metadata": {
    "id": "7a987d08"
   },
   "outputs": [
    {
     "data": {
      "text/plain": [
       "0          17\n",
       "1           1\n",
       "2           1\n",
       "3          35\n",
       "4           5\n",
       "           ..\n",
       "4545002    12\n",
       "4545003     9\n",
       "4545004     4\n",
       "4545005     8\n",
       "4545006     9\n",
       "Name: add_to_cart_order, Length: 4545007, dtype: int64"
      ]
     },
     "execution_count": 35,
     "metadata": {},
     "output_type": "execute_result"
    }
   ],
   "source": [
    "# Remplaza los valores ausentes en la columna 'add_to_cart? con 999 y convierte la columna al tipo entero.\n",
    "order_products['add_to_cart_order'].fillna('999', inplace = True)\n",
    "order_products['add_to_cart_order'].astype('int')"
   ]
  },
  {
   "cell_type": "markdown",
   "id": "fea4bcc7",
   "metadata": {
    "id": "fea4bcc7"
   },
   "source": [
    "Ahora la columna add_to_cart_order puede mostrar datos reales, y en el caso donde fueron desconocidos simplemente muestra 999."
   ]
  },
  {
   "cell_type": "markdown",
   "id": "RnplPFY1gSrb",
   "metadata": {
    "id": "RnplPFY1gSrb"
   },
   "source": [
    "## Conclusiones\n",
    "\n",
    "Se debe revisar todos los datos que puedan ser relevantes para el desarrollo del proyecto, y en base a eso, se debe verificar y se puede cambiar los tipos de datos según sea necesario para de esta manera, poder facilitar el análisis de los datos en cuestión.\n"
   ]
  },
  {
   "cell_type": "markdown",
   "id": "UjrOIwTcz3ri",
   "metadata": {
    "id": "UjrOIwTcz3ri"
   },
   "source": [
    "# Paso 3. Análisis de los datos\n",
    "\n",
    "Una vez los datos estén procesados y listos, haz el siguiente análisis:"
   ]
  },
  {
   "cell_type": "markdown",
   "id": "turkish-kidney",
   "metadata": {
    "id": "turkish-kidney"
   },
   "source": [
    "# [A] Fácil (deben completarse todos para aprobar)\n",
    "\n",
    "1. Verifica que los valores en las columnas `'order_hour_of_day'` y `'order_dow'` en la tabla orders sean razonables (es decir, `'order_hour_of_day'` oscile entre 0 y 23 y `'order_dow'` oscile entre 0 y 6).\n",
    "2. Crea un gráfico que muestre el número de personas que hacen pedidos dependiendo de la hora del día.\n",
    "3. Crea un gráfico que muestre qué día de la semana la gente hace sus compras.\n",
    "4. Crea un gráfico que muestre el tiempo que la gente espera hasta hacer su siguiente pedido, y comenta sobre los valores mínimos y máximos."
   ]
  },
  {
   "cell_type": "markdown",
   "id": "short-capability",
   "metadata": {
    "id": "short-capability"
   },
   "source": [
    "### [A1] Verifica que los valores sean sensibles"
   ]
  },
  {
   "cell_type": "code",
   "execution_count": 36,
   "id": "growing-fruit",
   "metadata": {
    "id": "growing-fruit"
   },
   "outputs": [
    {
     "name": "stdout",
     "output_type": "stream",
     "text": [
      "count    478967.000000\n",
      "mean         13.446676\n",
      "std           4.224986\n",
      "min           0.000000\n",
      "25%          10.000000\n",
      "50%          13.000000\n",
      "75%          16.000000\n",
      "max          23.000000\n",
      "Name: order_hour_of_day, dtype: float64\n",
      "\n",
      "\n",
      "185170     0\n",
      "171230     0\n",
      "12191      0\n",
      "354365     0\n",
      "354352     0\n",
      "          ..\n",
      "168867    23\n",
      "420912    23\n",
      "266130    23\n",
      "143538    23\n",
      "192245    23\n",
      "Name: order_hour_of_day, Length: 478967, dtype: int64\n"
     ]
    }
   ],
   "source": [
    "print(instacart_orders['order_hour_of_day'].describe())\n",
    "\n",
    "print('\\n')\n",
    "\n",
    "print(instacart_orders['order_hour_of_day'].sort_values(ascending = True))"
   ]
  },
  {
   "cell_type": "code",
   "execution_count": 37,
   "id": "accessory-malaysia",
   "metadata": {
    "id": "accessory-malaysia"
   },
   "outputs": [
    {
     "name": "stdout",
     "output_type": "stream",
     "text": [
      "\n",
      "\n",
      "142011    0\n",
      "325859    0\n",
      "203830    0\n",
      "203825    0\n",
      "64243     0\n",
      "         ..\n",
      "331977    6\n",
      "331974    6\n",
      "331966    6\n",
      "61562     6\n",
      "0         6\n",
      "Name: order_dow, Length: 478967, dtype: int64\n"
     ]
    }
   ],
   "source": [
    "instacart_orders['order_dow'].describe()\n",
    "\n",
    "print('\\n')\n",
    "\n",
    "print(instacart_orders['order_dow'].sort_values(ascending = True))"
   ]
  },
  {
   "cell_type": "markdown",
   "id": "hmR2GNQ6lCsX",
   "metadata": {
    "id": "hmR2GNQ6lCsX"
   },
   "source": [
    "Los valores son sensibles y correctos para su respectivo manejo."
   ]
  },
  {
   "cell_type": "markdown",
   "id": "a6743a70",
   "metadata": {
    "id": "a6743a70"
   },
   "source": [
    "### [A2] Para cada hora del día, ¿cuántas personas hacen órdenes?"
   ]
  },
  {
   "cell_type": "code",
   "execution_count": 38,
   "id": "a36cca27",
   "metadata": {
    "id": "a36cca27"
   },
   "outputs": [
    {
     "data": {
      "image/png": "[encoded data removed]",
      "text/plain": [
       "<Figure size 640x480 with 1 Axes>"
      ]
     },
     "metadata": {},
     "output_type": "display_data"
    }
   ],
   "source": [
    "hour_of_day = instacart_orders.groupby('order_hour_of_day')['order_id'].count()\n",
    "\n",
    "hour_of_day.plot(kind = 'bar',\n",
    "                 title = 'Número de ordenes por hora',\n",
    "                 xlabel = 'Hora del día', \n",
    "                 ylabel = 'Pedidos de clientes')\n",
    "\n",
    "plt.show()"
   ]
  },
  {
   "cell_type": "markdown",
   "id": "11270eed",
   "metadata": {
    "id": "11270eed"
   },
   "source": [
    "Se puede observar através del grafico de barras que el mayor flujo de pedidos se presenta entre las 9 y las 5 de la tarde."
   ]
  },
  {
   "cell_type": "markdown",
   "id": "documented-command",
   "metadata": {
    "id": "documented-command"
   },
   "source": [
    "### [A3] ¿Qué día de la semana compran víveres las personas?"
   ]
  },
  {
   "cell_type": "code",
   "execution_count": 39,
   "id": "chief-digit",
   "metadata": {
    "id": "chief-digit"
   },
   "outputs": [
    {
     "data": {
      "image/png": "[encoded data removed]",
      "text/plain": [
       "<Figure size 640x480 with 1 Axes>"
      ]
     },
     "metadata": {},
     "output_type": "display_data"
    }
   ],
   "source": [
    "day_of_order = instacart_orders.groupby('order_dow')['order_id'].count()\n",
    "\n",
    "day_of_order.plot(kind = 'bar',\n",
    "                 title = 'Días de la semana con ordenes realizadas',\n",
    "                 xlabel = 'Día de pedido', \n",
    "                 ylabel = 'Cantidad de pedidos')\n",
    "\n",
    "plt.show()"
   ]
  },
  {
   "cell_type": "markdown",
   "id": "dominant-lightning",
   "metadata": {
    "id": "dominant-lightning"
   },
   "source": [
    "Las personas compran la mayor cantidad de víveres en domingo."
   ]
  },
  {
   "cell_type": "markdown",
   "id": "cutting-concert",
   "metadata": {
    "id": "cutting-concert"
   },
   "source": [
    "### [A4] ¿Cuánto tiempo esperan las personas hasta hacer otro pedido? Comenta sobre los valores mínimos y máximos."
   ]
  },
  {
   "cell_type": "code",
   "execution_count": 40,
   "id": "c231f523",
   "metadata": {
    "id": "c231f523"
   },
   "outputs": [
    {
     "data": {
      "image/png": "[encoded data removed]",
      "text/plain": [
       "<Figure size 640x480 with 1 Axes>"
      ]
     },
     "metadata": {},
     "output_type": "display_data"
    }
   ],
   "source": [
    "day_of_order = instacart_orders.groupby('days_since_prior_order')['order_id'].count()\n",
    "\n",
    "day_of_order.plot(kind = 'bar',\n",
    "                 title = 'Tiempo de demora entre pedidos',\n",
    "                 xlabel = 'Días trascurridos desde el último pedido', \n",
    "                 ylabel = 'Cantidad de pedidos')\n",
    "\n",
    "plt.show()\n"
   ]
  },
  {
   "cell_type": "markdown",
   "id": "discrete-vertex",
   "metadata": {
    "id": "discrete-vertex"
   },
   "source": [
    "En el gráfico de barras se puede observar que las personas tienen un pico de reincidencia de pedidos entre el dia 7 y el dia 30 despues de su primer pedido."
   ]
  },
  {
   "cell_type": "markdown",
   "id": "tight-staff",
   "metadata": {
    "id": "tight-staff"
   },
   "source": [
    "# [B] Intermedio (deben completarse todos para aprobar)\n",
    "\n",
    "1. ¿Existe alguna diferencia entre las distribuciones `'order_hour_of_day'` de los miércoles y los sábados? Traza gráficos de barra de `'order_hour_of_day'` para ambos días en la misma figura y describe las diferencias que observes.\n",
    "2. Grafica la distribución para el número de órdenes que hacen los clientes (es decir, cuántos clientes hicieron solo 1 pedido, cuántos hicieron 2, cuántos 3, y así sucesivamente...).\n",
    "3. ¿Cuáles son los 20 principales productos que se piden con más frecuencia (muestra su identificación y nombre)?"
   ]
  },
  {
   "cell_type": "markdown",
   "id": "packed-classic",
   "metadata": {
    "id": "packed-classic"
   },
   "source": [
    "### [B1] Diferencia entre miércoles y sábados para  `'order_hour_of_day'`. Traza gráficos de barra para los dos días y describe las diferencias que veas."
   ]
  },
  {
   "cell_type": "code",
   "execution_count": 41,
   "id": "d89b8403",
   "metadata": {
    "id": "d89b8403"
   },
   "outputs": [
    {
     "data": {
      "image/png": "[encoded data removed]",
      "text/plain": [
       "<Figure size 640x480 with 1 Axes>"
      ]
     },
     "metadata": {},
     "output_type": "display_data"
    }
   ],
   "source": [
    "wed_orders = instacart_orders[instacart_orders['order_dow'] == 3].groupby('order_hour_of_day')['order_id'].count()\n",
    "\n",
    "wed_orders.plot(kind = 'bar',\n",
    "                title = 'Pedidos realizados en cada hora del miércoles',\n",
    "                xlabel = 'Hora del día en que se realizo el pedido',\n",
    "                ylabel = 'Número de pedidos realizados')\n",
    "\n",
    "plt.show()"
   ]
  },
  {
   "cell_type": "code",
   "execution_count": 42,
   "id": "94e54e8a",
   "metadata": {
    "id": "94e54e8a"
   },
   "outputs": [
    {
     "data": {
      "image/png": "[encoded data removed]",
      "text/plain": [
       "<Figure size 640x480 with 1 Axes>"
      ]
     },
     "metadata": {},
     "output_type": "display_data"
    }
   ],
   "source": [
    "sat_orders = instacart_orders[instacart_orders['order_dow'] == 6].groupby('order_hour_of_day')['order_id'].count()\n",
    "\n",
    "sat_orders.plot(kind = 'bar',\n",
    "                title = 'Pedidos realizados en cada hora del sábado',\n",
    "                xlabel = 'Hora del día en que se realizo el pedido',\n",
    "                ylabel = 'Número de pedidos realizados')\n",
    "\n",
    "plt.show()"
   ]
  },
  {
   "cell_type": "code",
   "execution_count": 43,
   "id": "797c90a8",
   "metadata": {
    "id": "797c90a8"
   },
   "outputs": [
    {
     "name": "stdout",
     "output_type": "stream",
     "text": [
      "                   wed_order_id  sat_order_id\n",
      "order_hour_of_day                            \n",
      "0                           373           464\n",
      "1                           215           254\n",
      "2                           121           177\n",
      "3                           101           125\n",
      "4                           108           118\n",
      "5                           170           161\n",
      "6                           643           451\n",
      "7                          1732          1619\n",
      "8                          3125          3246\n",
      "9                          4490          4311\n",
      "10                         5026          4919\n",
      "11                         5004          5116\n",
      "12                         4688          5132\n",
      "13                         4674          5323\n",
      "14                         4774          5375\n",
      "15                         5163          5188\n",
      "16                         4976          5029\n",
      "17                         4175          4295\n",
      "18                         3463          3338\n",
      "19                         2652          2610\n",
      "20                         1917          1847\n",
      "21                         1450          1473\n",
      "22                         1154          1185\n",
      "23                          718           893\n"
     ]
    }
   ],
   "source": [
    "both_orders = pd.concat([wed_orders,sat_orders], axis = 1)\n",
    "both_orders.columns = ['wed_order_id','sat_order_id']\n",
    "\n",
    "print(both_orders)"
   ]
  },
  {
   "cell_type": "code",
   "execution_count": 44,
   "id": "35bcea30",
   "metadata": {
    "id": "35bcea30"
   },
   "outputs": [
    {
     "data": {
      "image/png": "[encoded data removed]",
      "text/plain": [
       "<Figure size 640x480 with 1 Axes>"
      ]
     },
     "metadata": {},
     "output_type": "display_data"
    }
   ],
   "source": [
    "both_orders.plot(kind = 'bar',\n",
    "                title = 'Diferencia entre miércoles y sábados para  pedidos realizados por hora',\n",
    "                xlabel = 'Hora del día en que se realizo el pedido',\n",
    "                ylabel = 'Número de pedidos realizados')\n",
    "\n",
    "plt.legend(['Pedidos del miércoles','Pedidos del sábado'])\n",
    "plt.show()"
   ]
  },
  {
   "cell_type": "markdown",
   "id": "charitable-congo",
   "metadata": {
    "id": "charitable-congo"
   },
   "source": [
    "Las personas realizan la mayor cantidad de pedidos entre las 9 am y las 5 pm con mayor frecuencia en los sábados."
   ]
  },
  {
   "cell_type": "markdown",
   "id": "e3891143",
   "metadata": {
    "id": "e3891143"
   },
   "source": [
    "### [B2] ¿Cuál es la distribución para el número de pedidos por cliente?"
   ]
  },
  {
   "cell_type": "code",
   "execution_count": 45,
   "id": "d8c26c23",
   "metadata": {
    "id": "d8c26c23"
   },
   "outputs": [
    {
     "name": "stdout",
     "output_type": "stream",
     "text": [
      "    user_id  num_pedidos\n",
      "0         1        28819\n",
      "1         2        28633\n",
      "2         3        28686\n",
      "3         4        28704\n",
      "4         5        25661\n",
      "..      ...          ...\n",
      "95       96          220\n",
      "96       97          221\n",
      "97       98          191\n",
      "98       99          169\n",
      "99      100          194\n",
      "\n",
      "[100 rows x 2 columns]\n"
     ]
    }
   ],
   "source": [
    "# Agrupar por 'user_id' y contar el número de pedidos por cliente\n",
    "dist_order = instacart_orders.groupby('order_number')['order_id'].count().reset_index()\n",
    "\n",
    "# Renombrar la columna resultante para mayor claridad\n",
    "dist_order.columns = ['user_id', 'num_pedidos']\n",
    "\n",
    "print(dist_order)"
   ]
  },
  {
   "cell_type": "code",
   "execution_count": 46,
   "id": "00e69a66",
   "metadata": {
    "id": "00e69a66"
   },
   "outputs": [
    {
     "data": {
      "image/png": "[encoded data removed]",
      "text/plain": [
       "<Figure size 640x480 with 1 Axes>"
      ]
     },
     "metadata": {},
     "output_type": "display_data"
    }
   ],
   "source": [
    "dist_order.hist(column = 'num_pedidos', bins = 30)\n",
    "\n",
    "plt.title('Distribución del Número de Pedidos por Cliente')\n",
    "plt.xlabel('Número de Pedidos')\n",
    "plt.ylabel('Frecuencia de pedidos')\n",
    "plt.show()\n"
   ]
  },
  {
   "cell_type": "markdown",
   "id": "d2eff7d5",
   "metadata": {
    "id": "d2eff7d5"
   },
   "source": [
    "La mayot cantidad de frecuencia de pedidos supone la mayot cantidad por los primeros 2500 pedidos realizados."
   ]
  },
  {
   "cell_type": "markdown",
   "id": "54a0319c",
   "metadata": {
    "id": "54a0319c"
   },
   "source": [
    "### [B3] ¿Cuáles son los 20 productos más populares (muestra su ID y nombre)?"
   ]
  },
  {
   "cell_type": "code",
   "execution_count": 47,
   "id": "exterior-arizona",
   "metadata": {
    "id": "exterior-arizona",
    "scrolled": true
   },
   "outputs": [
    {
     "name": "stdout",
     "output_type": "stream",
     "text": [
      "       product_id  num_pedidos\n",
      "0           24852        66050\n",
      "1           13176        53297\n",
      "2           21137        37039\n",
      "3           21903        33971\n",
      "4           47209        29773\n",
      "...           ...          ...\n",
      "45568       10543            1\n",
      "45569        5222            1\n",
      "45570        2347            1\n",
      "45571       11893            1\n",
      "45572       32074            1\n",
      "\n",
      "[45573 rows x 2 columns]\n"
     ]
    }
   ],
   "source": [
    "# Cuenta el número de veces que un producto ha sido pedido\n",
    "popular_product = order_products['product_id'].value_counts().reset_index()\n",
    "popular_product.columns = ['product_id', 'num_pedidos']\n",
    "\n",
    "print(popular_product)"
   ]
  },
  {
   "cell_type": "code",
   "execution_count": 48,
   "id": "universal-facial",
   "metadata": {
    "id": "universal-facial"
   },
   "outputs": [
    {
     "name": "stdout",
     "output_type": "stream",
     "text": [
      "       product_id  num_pedidos                           product_name  \\\n",
      "0           24852        66050                                 Banana   \n",
      "1           13176        53297                 Bag of Organic Bananas   \n",
      "2           21137        37039                   Organic Strawberries   \n",
      "3           21903        33971                   Organic Baby Spinach   \n",
      "4           47209        29773                   Organic Hass Avocado   \n",
      "...           ...          ...                                    ...   \n",
      "45568       10543            1         Blueberry Premium Fruit Spread   \n",
      "45569        5222            1              Organic Beef & Burger Rub   \n",
      "45570        2347            1  Premium Mo' Beta Fruit Smoothie Blend   \n",
      "45571       11893            1                                Unknown   \n",
      "45572       32074            1          Unscented Sensitive Body Wash   \n",
      "\n",
      "       aisle_id  department_id  \n",
      "0            24              4  \n",
      "1            24              4  \n",
      "2            24              4  \n",
      "3           123              4  \n",
      "4            24              4  \n",
      "...         ...            ...  \n",
      "45568        88             13  \n",
      "45569       104             13  \n",
      "45570        31              7  \n",
      "45571       100             21  \n",
      "45572       127             11  \n",
      "\n",
      "[45573 rows x 5 columns]\n"
     ]
    }
   ],
   "source": [
    "# Combinamos el resultado con el dataframe 'products' para poder obtener el nombre de los productos.\n",
    "popular_product = popular_product.merge(products, on='product_id', how='left')\n",
    "\n",
    "print(popular_product)"
   ]
  },
  {
   "cell_type": "code",
   "execution_count": 49,
   "id": "bbcdd20b",
   "metadata": {
    "id": "bbcdd20b"
   },
   "outputs": [
    {
     "name": "stdout",
     "output_type": "stream",
     "text": [
      "Los 20 productos mas populares son:\n",
      "\n",
      "\n",
      "    product_id              product_name\n",
      "0        24852                    Banana\n",
      "1        13176    Bag of Organic Bananas\n",
      "2        21137      Organic Strawberries\n",
      "3        21903      Organic Baby Spinach\n",
      "4        47209      Organic Hass Avocado\n",
      "5        47766           Organic Avocado\n",
      "6        47626               Large Lemon\n",
      "7        16797              Strawberries\n",
      "8        26209                     Limes\n",
      "9        27845        Organic Whole Milk\n",
      "10       27966       Organic Raspberries\n",
      "11       22935      Organic Yellow Onion\n",
      "12       24964            Organic Garlic\n",
      "13       45007          Organic Zucchini\n",
      "14       39275       Organic Blueberries\n",
      "15       49683            Cucumber Kirby\n",
      "16       28204        Organic Fuji Apple\n",
      "17        5876             Organic Lemon\n",
      "18        8277  Apple Honeycrisp Organic\n",
      "19       40706    Organic Grape Tomatoes\n"
     ]
    }
   ],
   "source": [
    "top_20_popular_products = popular_product.head(20)\n",
    "top_20_popular_products = top_20_popular_products[['product_id', 'product_name']]\n",
    "\n",
    "print('Los 20 productos mas populares son:')\n",
    "print('\\n')\n",
    "print(top_20_popular_products)"
   ]
  },
  {
   "cell_type": "markdown",
   "id": "7df00f47",
   "metadata": {
    "id": "7df00f47"
   },
   "source": [
    "Se pueden ver cuales son los productos más populares, y partiendo de quí se puede presumir que son los que primero se comprarían."
   ]
  },
  {
   "cell_type": "markdown",
   "id": "gross-theme",
   "metadata": {
    "id": "gross-theme"
   },
   "source": [
    "# [C] Difícil (deben completarse todos para aprobar)\n",
    "\n",
    "1. ¿Cuántos artículos suelen comprar las personas en un pedido? ¿Cómo es la distribución?\n",
    "2. ¿Cuáles son los 20 principales artículos que vuelven a pedirse con mayor frecuencia (muestra sus nombres e IDs de los productos)?\n",
    "3. Para cada producto, ¿cuál es la tasa de repetición del pedido (número de repeticiones de pedido/total de pedidos?\n",
    "4. Para cada cliente, ¿qué proporción de los productos que pidió ya los había pedido? Calcula la tasa de repetición de pedido para cada usuario en lugar de para cada producto.\n",
    "5. ¿Cuáles son los 20 principales artículos que la gente pone primero en sus carritos (muestra las IDs de los productos, sus nombres, y el número de veces en que fueron el primer artículo en añadirse al carrito)?"
   ]
  },
  {
   "cell_type": "markdown",
   "id": "romantic-deposit",
   "metadata": {
    "id": "romantic-deposit"
   },
   "source": [
    "### [C1] ¿Cuántos artículos compran normalmente las personas en un pedido? ¿Cómo es la distribución?"
   ]
  },
  {
   "cell_type": "code",
   "execution_count": 50,
   "id": "virtual-punch",
   "metadata": {
    "id": "virtual-punch"
   },
   "outputs": [
    {
     "name": "stdout",
     "output_type": "stream",
     "text": [
      "        order_id  product_id\n",
      "0              4          13\n",
      "1              9          15\n",
      "2             11           5\n",
      "3             19           3\n",
      "4             20           8\n",
      "...          ...         ...\n",
      "450041   3421034          17\n",
      "450042   3421053           9\n",
      "450043   3421071           5\n",
      "450044   3421077           4\n",
      "450045   3421079           1\n",
      "\n",
      "[450046 rows x 2 columns]\n"
     ]
    }
   ],
   "source": [
    "# Cuenta el número de artículos por pedido\n",
    "art_per_order = order_products.groupby('order_id')['product_id'].count().reset_index() \n",
    "\n",
    "print(art_per_order)"
   ]
  },
  {
   "cell_type": "code",
   "execution_count": 51,
   "id": "sensitive-breathing",
   "metadata": {
    "id": "sensitive-breathing"
   },
   "outputs": [
    {
     "data": {
      "image/png": "[encoded data removed]",
      "text/plain": [
       "<Figure size 640x480 with 1 Axes>"
      ]
     },
     "metadata": {},
     "output_type": "display_data"
    }
   ],
   "source": [
    "art_per_order.hist(column = 'product_id', bins = 30)\n",
    "plt.title('Distribución del Número de Artículos por Pedido')\n",
    "plt.xlabel('Número de Artículos')\n",
    "plt.ylabel('Frecuencia de pedidos')\n",
    "plt.show()"
   ]
  },
  {
   "cell_type": "code",
   "execution_count": null,
   "id": "completed-frank",
   "metadata": {
    "id": "completed-frank"
   },
   "outputs": [],
   "source": []
  },
  {
   "cell_type": "markdown",
   "id": "designed-mortality",
   "metadata": {
    "id": "designed-mortality"
   },
   "source": [
    "La mayoria de personas copran un máximo de 10 artículos o menos por pedido."
   ]
  },
  {
   "cell_type": "markdown",
   "id": "5e6b5537",
   "metadata": {
    "id": "5e6b5537"
   },
   "source": [
    "### [C2] ¿Cuáles son los 20 principales artículos que vuelven a pedirse con mayor frecuencia (muestra sus nombres e IDs de los productos)?"
   ]
  },
  {
   "cell_type": "code",
   "execution_count": 52,
   "id": "9374e55a",
   "metadata": {
    "id": "9374e55a"
   },
   "outputs": [],
   "source": [
    "\"\"\"order_products.csv: cada fila corresponde a un artículo pedido en un pedido.\n",
    "'order_id': número de ID que identifica de manera única cada pedido.\n",
    "'product_id': número ID que identifica de manera única cada producto.\n",
    "'add_to_cart_order': el orden secuencial en el que se añadió cada artículo en el carrito.\n",
    "'reordered': 0 si el cliente nunca ha pedido este producto antes, 1 si lo ha pedido.\"\"\"\n",
    "\n",
    "# Productos que han sido reordenados\n",
    "reorder_products = order_products[order_products['reordered'] == 1]\n",
    "\n",
    "# Contar el número de veces que cada producto ha sido reordenado\n",
    "frec_reorder = reorder_products['product_id'].value_counts()"
   ]
  },
  {
   "cell_type": "code",
   "execution_count": 53,
   "id": "possible-change",
   "metadata": {
    "id": "possible-change",
    "scrolled": true
   },
   "outputs": [
    {
     "name": "stdout",
     "output_type": "stream",
     "text": [
      "         order_id  product_id add_to_cart_order  reordered  \\\n",
      "0          567889        1560               1.0          1   \n",
      "1         2261212       26683               1.0          1   \n",
      "2          491251        8670              35.0          1   \n",
      "3         2571142        1940               5.0          1   \n",
      "4         2456893       21616               4.0          1   \n",
      "...           ...         ...               ...        ...   \n",
      "2683833   1622300       24852               1.0          1   \n",
      "2683834   1125324       40600               6.0          1   \n",
      "2683835    577211       15290              12.0          1   \n",
      "2683836    692640       47766               4.0          1   \n",
      "2683837    319435         691               8.0          1   \n",
      "\n",
      "                                              product_name  aisle_id  \\\n",
      "0                                               Bag Of Ice        37   \n",
      "1        Cafe Latte Pure Lightly Sweetened Iced Coffee ...        91   \n",
      "2                                           Diced Tomatoes        81   \n",
      "3                              Organic 2% Reduced Fat Milk        84   \n",
      "4                                     Organic Baby Arugula       123   \n",
      "...                                                    ...       ...   \n",
      "2683833                                             Banana        24   \n",
      "2683834               Cheese Stuffed Crust Pepperoni Pizza        79   \n",
      "2683835                                 Orange Bell Pepper        83   \n",
      "2683836                                    Organic Avocado        24   \n",
      "2683837           Organic Promise Strawberry Fields Cereal       121   \n",
      "\n",
      "         department_id  \n",
      "0                    1  \n",
      "1                   16  \n",
      "2                   15  \n",
      "3                   16  \n",
      "4                    4  \n",
      "...                ...  \n",
      "2683833              4  \n",
      "2683834              1  \n",
      "2683835              4  \n",
      "2683836              4  \n",
      "2683837             14  \n",
      "\n",
      "[2683838 rows x 7 columns]\n"
     ]
    }
   ],
   "source": [
    "\"\"\"'product_id': número ID que identifica de manera única cada producto.\n",
    "'product_name': nombre del producto.\n",
    "'aisle_id': número ID que identifica de manera única cada categoría de pasillo de víveres.\n",
    "'department_id': número ID que identifica de manera única cada departamento de víveres.\"\"\"\n",
    "\n",
    "\n",
    "# Combinamos el resultado con el dataframe 'products' para poder obtener el nombre de los productos.\n",
    "frec_reorder_products = reorder_products.merge(products, on='product_id', how='left')\n",
    "\n",
    "print(frec_reorder_products)"
   ]
  },
  {
   "cell_type": "code",
   "execution_count": 54,
   "id": "professional-surfing",
   "metadata": {
    "id": "professional-surfing",
    "scrolled": true
   },
   "outputs": [
    {
     "name": "stdout",
     "output_type": "stream",
     "text": [
      "<pandas.core.groupby.generic.SeriesGroupBy object at 0x7f70fd27dbb0>\n"
     ]
    }
   ],
   "source": [
    "# Contar el número de veces que cada producto ha sido reordenado\n",
    "#frec_reorder_products = pd.DataFrame(frec_reorder_products) # Convertir series de nuevo a DataFrame\n",
    "\n",
    "principal_reorder = frec_reorder_products.groupby('product_id')['product_name']\n",
    "\n",
    "print(principal_reorder)\n"
   ]
  },
  {
   "cell_type": "code",
   "execution_count": 55,
   "id": "48dd3658",
   "metadata": {
    "id": "48dd3658"
   },
   "outputs": [
    {
     "name": "stdout",
     "output_type": "stream",
     "text": [
      "0                                            Bag Of Ice\n",
      "1     Cafe Latte Pure Lightly Sweetened Iced Coffee ...\n",
      "2                                        Diced Tomatoes\n",
      "3                           Organic 2% Reduced Fat Milk\n",
      "4                                  Organic Baby Arugula\n",
      "5                                         Hass Avocados\n",
      "6                       Natural Provolone Cheese Slices\n",
      "7                      Whole Natural Value Pack Almonds\n",
      "8                              Organic Cold Brew Coffee\n",
      "9                      Organic Raw Multigreen Kobmbucha\n",
      "10    Total 2% Greek Strained Yogurt with Cherry 5.3 oz\n",
      "11                            Iced Coffee Lightly Sweet\n",
      "12                              California Endive Farms\n",
      "13                                        Tilapia Filet\n",
      "14                          Organic Cheese Frozen Pizza\n",
      "15                                 Organic Baby Arugula\n",
      "16                        Organic Roasted Turkey Breast\n",
      "17                               Trilogy Kombucha Drink\n",
      "18                               Bag of Organic Bananas\n",
      "19                                 Organic Baby Spinach\n",
      "Name: product_name, dtype: object\n"
     ]
    }
   ],
   "source": [
    "# Seleccionar los 20 productos más frecuentemente reordenados\n",
    "top_20_reorder = principal_reorder.head(20)\n",
    "\n",
    "print(top_20_reorder.head(20))\n",
    "\n"
   ]
  },
  {
   "cell_type": "markdown",
   "id": "80e70c74",
   "metadata": {
    "id": "80e70c74"
   },
   "source": [
    "Como se puede observar, se tienen productos variados y se puede entender que serían los productos con mayor ventas."
   ]
  },
  {
   "cell_type": "markdown",
   "id": "9d312b14",
   "metadata": {
    "id": "9d312b14"
   },
   "source": [
    "### [C3] Para cada producto, ¿cuál es la proporción de las veces que se pide y que se vuelve a pedir?"
   ]
  },
  {
   "cell_type": "code",
   "execution_count": 56,
   "id": "8ae9f4b1",
   "metadata": {
    "id": "8ae9f4b1"
   },
   "outputs": [
    {
     "name": "stdout",
     "output_type": "stream",
     "text": [
      "       product_id  total_pedidos\n",
      "0           24852          66050\n",
      "1           13176          53297\n",
      "2           21137          37039\n",
      "3           21903          33971\n",
      "4           47209          29773\n",
      "...           ...            ...\n",
      "45568       10543              1\n",
      "45569        5222              1\n",
      "45570        2347              1\n",
      "45571       11893              1\n",
      "45572       32074              1\n",
      "\n",
      "[45573 rows x 2 columns]\n",
      "       product_id  total_reordenes\n",
      "0           24852            55763\n",
      "1           13176            44450\n",
      "2           21137            28639\n",
      "3           21903            26233\n",
      "4           47209            23629\n",
      "...           ...              ...\n",
      "36223        2591                1\n",
      "36224       29201                1\n",
      "36225       27154                1\n",
      "36226       10789                1\n",
      "36227        2049                1\n",
      "\n",
      "[36228 rows x 2 columns]\n"
     ]
    }
   ],
   "source": [
    "# Contar el número total de veces que cada producto se ha pedido\n",
    "total_order_per_product = order_products['product_id'].value_counts().reset_index()\n",
    "total_order_per_product.columns = ['product_id', 'total_pedidos']\n",
    "\n",
    "print(total_order_per_product)\n",
    "\n",
    "# Filtrar las filas donde reordered es 1\n",
    "reorder_products = order_products[order_products['reordered'] == 1]\n",
    "\n",
    "# Contar el número de veces que cada producto ha sido reordenado\n",
    "total_reorder_per_product = reorder_products['product_id'].value_counts().reset_index()\n",
    "total_reorder_per_product.columns = ['product_id', 'total_reordenes']\n",
    "\n",
    "print(total_reorder_per_product)\n",
    "\n"
   ]
  },
  {
   "cell_type": "code",
   "execution_count": 57,
   "id": "103e7fe1",
   "metadata": {
    "id": "103e7fe1"
   },
   "outputs": [
    {
     "name": "stdout",
     "output_type": "stream",
     "text": [
      "       product_id  total_pedidos  total_reordenes\n",
      "0           24852          66050          55763.0\n",
      "1           13176          53297          44450.0\n",
      "2           21137          37039          28639.0\n",
      "3           21903          33971          26233.0\n",
      "4           47209          29773          23629.0\n",
      "...           ...            ...              ...\n",
      "45568       10543              1              NaN\n",
      "45569        5222              1              NaN\n",
      "45570        2347              1              NaN\n",
      "45571       11893              1              NaN\n",
      "45572       32074              1              NaN\n",
      "\n",
      "[45573 rows x 3 columns]\n",
      "       product_id  total_pedidos  total_reordenes  proporcion_reordenes\n",
      "0           24852          66050          55763.0              0.844254\n",
      "1           13176          53297          44450.0              0.834006\n",
      "2           21137          37039          28639.0              0.773212\n",
      "3           21903          33971          26233.0              0.772217\n",
      "4           47209          29773          23629.0              0.793639\n",
      "...           ...            ...              ...                   ...\n",
      "45568       10543              1              0.0              0.000000\n",
      "45569        5222              1              0.0              0.000000\n",
      "45570        2347              1              0.0              0.000000\n",
      "45571       11893              1              0.0              0.000000\n",
      "45572       32074              1              0.0              0.000000\n",
      "\n",
      "[45573 rows x 4 columns]\n"
     ]
    }
   ],
   "source": [
    "# Combinar los DataFrames de pedidos totales y reordenes\n",
    "propotion = total_order_per_product.merge(total_reorder_per_product, on='product_id', how='left')\n",
    "\n",
    "print(propotion)\n",
    "\n",
    "# Rellenar valores nulos en total_reordenes con 0\n",
    "propotion['total_reordenes'].fillna(0, inplace=True)\n",
    "\n",
    "# Calcular la proporción de reordenes\n",
    "propotion['proporcion_reordenes'] = propotion['total_reordenes'] / propotion['total_pedidos']\n",
    "\n",
    "print(propotion)"
   ]
  },
  {
   "cell_type": "code",
   "execution_count": 58,
   "id": "social-individual",
   "metadata": {
    "id": "social-individual"
   },
   "outputs": [
    {
     "name": "stdout",
     "output_type": "stream",
     "text": [
      "    product_id  total_pedidos  total_reordenes  proporcion_reordenes  \\\n",
      "0        24852          66050          55763.0              0.844254   \n",
      "1        13176          53297          44450.0              0.834006   \n",
      "2        21137          37039          28639.0              0.773212   \n",
      "3        21903          33971          26233.0              0.772217   \n",
      "4        47209          29773          23629.0              0.793639   \n",
      "5        47766          24689          18743.0              0.759164   \n",
      "6        47626          21495          15044.0              0.699884   \n",
      "7        16797          20018          13945.0              0.696623   \n",
      "8        26209          19690          13327.0              0.676841   \n",
      "9        27845          19600          16251.0              0.829133   \n",
      "10       27966          19197          14748.0              0.768245   \n",
      "11       22935          15898          11145.0              0.701032   \n",
      "12       24964          15292          10411.0              0.680813   \n",
      "13       45007          14584          10076.0              0.690894   \n",
      "14       39275          13879           8799.0              0.633979   \n",
      "15       49683          13675           9538.0              0.697477   \n",
      "16       28204          12544           8989.0              0.716598   \n",
      "17        5876          12232           8412.0              0.687704   \n",
      "18        8277          11993           8836.0              0.736763   \n",
      "19       40706          11781           7793.0              0.661489   \n",
      "\n",
      "                product_name  \n",
      "0                     Banana  \n",
      "1     Bag of Organic Bananas  \n",
      "2       Organic Strawberries  \n",
      "3       Organic Baby Spinach  \n",
      "4       Organic Hass Avocado  \n",
      "5            Organic Avocado  \n",
      "6                Large Lemon  \n",
      "7               Strawberries  \n",
      "8                      Limes  \n",
      "9         Organic Whole Milk  \n",
      "10       Organic Raspberries  \n",
      "11      Organic Yellow Onion  \n",
      "12            Organic Garlic  \n",
      "13          Organic Zucchini  \n",
      "14       Organic Blueberries  \n",
      "15            Cucumber Kirby  \n",
      "16        Organic Fuji Apple  \n",
      "17             Organic Lemon  \n",
      "18  Apple Honeycrisp Organic  \n",
      "19    Organic Grape Tomatoes  \n"
     ]
    }
   ],
   "source": [
    "# Unir con el DataFrame de productos para obtener los nombres de los productos\n",
    "propotions = propotion.merge(products[['product_id', 'product_name']], on='product_id', how='left')\n",
    "\n",
    "print(propotions.head(20))"
   ]
  },
  {
   "cell_type": "markdown",
   "id": "I10dEIAyldcO",
   "metadata": {
    "id": "I10dEIAyldcO"
   },
   "source": [
    "Se puede verificar que las bananas son los productos que más se vuelven a pedir con un índice superior al 80%"
   ]
  },
  {
   "cell_type": "markdown",
   "id": "subject-boxing",
   "metadata": {
    "id": "subject-boxing"
   },
   "source": [
    "### [C4] Para cada cliente, ¿qué proporción de sus productos ya los había pedido?"
   ]
  },
  {
   "cell_type": "code",
   "execution_count": 59,
   "id": "medical-couple",
   "metadata": {
    "id": "medical-couple",
    "scrolled": true
   },
   "outputs": [
    {
     "name": "stdout",
     "output_type": "stream",
     "text": [
      "        user_id  total_pedidos\n",
      "0             2             26\n",
      "1             4              2\n",
      "2             5             12\n",
      "3             6              4\n",
      "4             7             14\n",
      "...         ...            ...\n",
      "149621   206203             27\n",
      "149622   206206             21\n",
      "149623   206207             46\n",
      "149624   206208            125\n",
      "149625   206209             25\n",
      "\n",
      "[149626 rows x 2 columns]\n",
      "        user_id  total_reordenes\n",
      "0             2                1\n",
      "1             5                8\n",
      "2             7               13\n",
      "3            11                3\n",
      "4            12                3\n",
      "...         ...              ...\n",
      "132986   206203                6\n",
      "132987   206206               15\n",
      "132988   206207               41\n",
      "132989   206208               87\n",
      "132990   206209                8\n",
      "\n",
      "[132991 rows x 2 columns]\n"
     ]
    }
   ],
   "source": [
    "# Unir el DataFrame orders con order_products para obtener user_id en order_products\n",
    "orders_products_merged = pd.merge(order_products, instacart_orders[['order_id', 'user_id']], on='order_id', how='left')\n",
    "\n",
    "# Contar el número total de productos pedidos por cada cliente\n",
    "total_ped_per_user = orders_products_merged.groupby('user_id')['product_id'].count().reset_index()\n",
    "total_ped_per_user.columns = ['user_id', 'total_pedidos']\n",
    "\n",
    "print(total_ped_per_user)\n",
    "\n",
    "# Contar el número total de productos reordenados por cada cliente\n",
    "total_reorders_per_user = orders_products_merged[orders_products_merged['reordered'] == 1].groupby('user_id')['product_id'].count().reset_index()\n",
    "total_reorders_per_user.columns = ['user_id', 'total_reordenes']\n",
    "\n",
    "print(total_reorders_per_user)"
   ]
  },
  {
   "cell_type": "code",
   "execution_count": 60,
   "id": "8892e4b4",
   "metadata": {
    "id": "8892e4b4"
   },
   "outputs": [
    {
     "name": "stdout",
     "output_type": "stream",
     "text": [
      "    user_id  total_pedidos  total_reordenes  proporcion_reordenes\n",
      "0         2             26              1.0              0.038462\n",
      "1         4              2              0.0              0.000000\n",
      "2         5             12              8.0              0.666667\n",
      "3         6              4              0.0              0.000000\n",
      "4         7             14             13.0              0.928571\n",
      "5        11             15              3.0              0.200000\n",
      "6        12             12              3.0              0.250000\n",
      "7        13             23             13.0              0.565217\n",
      "8        14             61             22.0              0.360656\n",
      "9        15             13              7.0              0.538462\n",
      "10       16             32             17.0              0.531250\n",
      "11       17             53             38.0              0.716981\n",
      "12       19             48             14.0              0.291667\n",
      "13       20              4              0.0              0.000000\n",
      "14       21             20              8.0              0.400000\n",
      "15       22              6              6.0              1.000000\n",
      "16       24              2              1.0              0.500000\n",
      "17       26             16              7.0              0.437500\n",
      "18       27             85             56.0              0.658824\n",
      "19       28             44             22.0              0.500000\n",
      "\n",
      "\n",
      "La estadistica en cuanto a la proporcion de reordenes es:\n",
      "\n",
      "\n",
      "count    149626.000000\n",
      "mean          0.494853\n",
      "std           0.292685\n",
      "min           0.000000\n",
      "25%           0.272727\n",
      "50%           0.500000\n",
      "75%           0.724138\n",
      "max           1.000000\n",
      "Name: proporcion_reordenes, dtype: float64\n"
     ]
    }
   ],
   "source": [
    "# Combinar los DataFrames de pedidos totales y reordenes\n",
    "propotion2 = total_ped_per_user.merge(total_reorders_per_user, on='user_id', how='left')\n",
    "\n",
    "# Rellenar valores nulos en total_reordenes con 0\n",
    "propotion2['total_reordenes'].fillna(0, inplace=True)\n",
    "\n",
    "# Calcular la proporción de reordenes\n",
    "propotion2['proporcion_reordenes'] = propotion2['total_reordenes'] / propotion2['total_pedidos']\n",
    "\n",
    "# Mostrar los resultados\n",
    "print(propotion2.head(20))\n",
    "print('\\n')\n",
    "print('La estadistica en cuanto a la proporcion de reordenes es:')\n",
    "print('\\n')\n",
    "print(propotion2['proporcion_reordenes'].describe())\n"
   ]
  },
  {
   "cell_type": "markdown",
   "id": "BgJSvXDsleXz",
   "metadata": {
    "id": "BgJSvXDsleXz"
   },
   "source": [
    "Existe una media de 49% de productos que son reordenados por los clientes, no obstante, tambien hay clientes que no vuelven a reordenar los mismos productos y otrso que reordenan toda la cantidad de los productos que compraron anteriormente."
   ]
  },
  {
   "cell_type": "markdown",
   "id": "92d35137",
   "metadata": {
    "id": "92d35137"
   },
   "source": [
    "### [C5] ¿Cuáles son los 20 principales artículos que las personas ponen primero en sus carritos?"
   ]
  },
  {
   "cell_type": "code",
   "execution_count": 61,
   "id": "0ae57274",
   "metadata": {
    "id": "0ae57274",
    "scrolled": true
   },
   "outputs": [
    {
     "name": "stdout",
     "output_type": "stream",
     "text": [
      "       product_id  frecuencia\n",
      "0           24852       15562\n",
      "1           13176       11026\n",
      "2           27845        4363\n",
      "3           21137        3946\n",
      "4           47209        3390\n",
      "...           ...         ...\n",
      "26755       10628           1\n",
      "26756        8581           1\n",
      "26757       35216           1\n",
      "26758       43412           1\n",
      "26759        4094           1\n",
      "\n",
      "[26760 rows x 2 columns]\n"
     ]
    }
   ],
   "source": [
    "# Filtrar las filas donde 'add_to_cart_order' es 1\n",
    "first_articles = order_products[order_products['add_to_cart_order'] == 1]\n",
    "\n",
    "# Contar la frecuencia de los productos añadidos primero al carrito\n",
    "frec_first_articles = first_articles['product_id'].value_counts().reset_index()\n",
    "frec_first_articles.columns = ['product_id', 'frecuencia']\n",
    "\n",
    "print(frec_first_articles)"
   ]
  },
  {
   "cell_type": "code",
   "execution_count": 62,
   "id": "forty-netherlands",
   "metadata": {
    "id": "forty-netherlands",
    "scrolled": true
   },
   "outputs": [
    {
     "name": "stdout",
     "output_type": "stream",
     "text": [
      "    product_id                 product_name  frecuencia\n",
      "0        24852                       Banana       15562\n",
      "1        13176       Bag of Organic Bananas       11026\n",
      "2        27845           Organic Whole Milk        4363\n",
      "3        21137         Organic Strawberries        3946\n",
      "4        47209         Organic Hass Avocado        3390\n",
      "5        21903         Organic Baby Spinach        3336\n",
      "6        47766              Organic Avocado        3044\n",
      "7        19660                 Spring Water        2336\n",
      "8        16797                 Strawberries        2308\n",
      "9        27966          Organic Raspberries        2024\n",
      "10       44632   Sparkling Water Grapefruit        1914\n",
      "11       49235          Organic Half & Half        1797\n",
      "12       47626                  Large Lemon        1737\n",
      "13         196                         Soda        1733\n",
      "14       38689     Organic Reduced Fat Milk        1397\n",
      "15       26209                        Limes        1370\n",
      "16       12341                Hass Avocados        1340\n",
      "17        5785  Organic Reduced Fat 2% Milk        1310\n",
      "18       27086                  Half & Half        1309\n",
      "19       22935         Organic Yellow Onion        1246\n"
     ]
    }
   ],
   "source": [
    "# Unir con el DataFrame de productos para obtener los nombres de los productos\n",
    "top_20_first_articles = frec_first_articles.merge(products[['product_id', 'product_name']], on='product_id', how='left')\n",
    "\n",
    "# Seleccionar las columnas relevantes\n",
    "top_20_first_articles = top_20_first_articles[['product_id', 'product_name', 'frecuencia']]\n",
    "\n",
    "# Mostrar los resultados\n",
    "print(top_20_first_articles.head(20))"
   ]
  },
  {
   "cell_type": "code",
   "execution_count": null,
   "id": "08e41ec2",
   "metadata": {
    "id": "08e41ec2"
   },
   "outputs": [],
   "source": [
    "Las bananas son los artículos que por casi cuatro veces mas las personas ponen en sus carritos con diferencia del tercer artículo en adelante."
   ]
  },
  {
   "cell_type": "markdown",
   "id": "28ce9872",
   "metadata": {
    "id": "28ce9872"
   },
   "source": [
    "Escribe aquí tus conclusiones"
   ]
  },
  {
   "cell_type": "markdown",
   "id": "uITbFCEoDosC",
   "metadata": {
    "id": "uITbFCEoDosC"
   },
   "source": [
    "### Conclusion general del proyecto:"
   ]
  },
  {
   "cell_type": "markdown",
   "id": "3fdcbd56",
   "metadata": {
    "id": "Nk-4GS7mDwqY"
   },
   "source": [
    "Por medio de la realización de este proyecto, se pudo verificar como son los distintos hábitos de compra de los clientes de la empresa de Instacart. Se pudo determinar diversos parámetros como los artículos que mas se venden, los que son reordenados con mas frecuencia, su distribución, entre otros, lo cual es útil para que la empresa pueda desarrollar un plan de ventas especiico con base en los productos que se venden mas."
   ]
  }
 ],
 "metadata": {
  "ExecuteTimeLog": [
   {
    "duration": 7,
    "start_time": "2024-05-17T00:17:46.101Z"
   },
   {
    "duration": 1725,
    "start_time": "2024-05-17T00:17:46.111Z"
   },
   {
    "duration": 18,
    "start_time": "2024-05-17T00:17:47.839Z"
   },
   {
    "duration": 17,
    "start_time": "2024-05-17T00:17:47.860Z"
   },
   {
    "duration": 13,
    "start_time": "2024-05-17T00:17:48.280Z"
   },
   {
    "duration": 15,
    "start_time": "2024-05-17T00:17:50.441Z"
   },
   {
    "duration": 13,
    "start_time": "2024-05-17T00:17:51.396Z"
   },
   {
    "duration": 17,
    "start_time": "2024-05-17T00:18:00.136Z"
   },
   {
    "duration": 181,
    "start_time": "2024-05-17T00:18:45.000Z"
   },
   {
    "duration": 14,
    "start_time": "2024-05-17T00:19:23.900Z"
   },
   {
    "duration": 235,
    "start_time": "2024-05-17T00:21:48.840Z"
   },
   {
    "duration": 188,
    "start_time": "2024-05-17T00:22:35.701Z"
   },
   {
    "duration": 182,
    "start_time": "2024-05-17T00:22:46.247Z"
   },
   {
    "duration": 170,
    "start_time": "2024-05-17T00:25:34.067Z"
   },
   {
    "duration": 1248,
    "start_time": "2024-05-17T00:26:09.979Z"
   },
   {
    "duration": 73,
    "start_time": "2024-05-17T00:26:30.683Z"
   },
   {
    "duration": 59,
    "start_time": "2024-05-17T00:26:34.147Z"
   },
   {
    "duration": 26,
    "start_time": "2024-05-17T00:58:30.825Z"
   },
   {
    "duration": 22,
    "start_time": "2024-05-17T01:01:48.750Z"
   },
   {
    "duration": 24,
    "start_time": "2024-05-17T01:02:16.186Z"
   },
   {
    "duration": 17,
    "start_time": "2024-05-17T01:02:51.057Z"
   },
   {
    "duration": 85,
    "start_time": "2024-05-17T01:03:07.924Z"
   },
   {
    "duration": 15,
    "start_time": "2024-05-17T01:57:01.512Z"
   },
   {
    "duration": 19,
    "start_time": "2024-05-17T01:57:21.944Z"
   },
   {
    "duration": 8,
    "start_time": "2024-05-17T01:57:37.836Z"
   },
   {
    "duration": 7,
    "start_time": "2024-05-17T01:57:43.891Z"
   },
   {
    "duration": 6,
    "start_time": "2024-05-17T01:58:08.210Z"
   },
   {
    "duration": 6,
    "start_time": "2024-05-17T01:58:16.886Z"
   },
   {
    "duration": 33,
    "start_time": "2024-05-17T02:00:12.713Z"
   },
   {
    "duration": 18,
    "start_time": "2024-05-17T02:00:26.530Z"
   },
   {
    "duration": 23,
    "start_time": "2024-05-17T02:01:31.674Z"
   },
   {
    "duration": 26,
    "start_time": "2024-05-17T02:01:42.132Z"
   },
   {
    "duration": 25,
    "start_time": "2024-05-17T02:02:17.145Z"
   },
   {
    "duration": 30,
    "start_time": "2024-05-17T02:02:36.968Z"
   },
   {
    "duration": 31,
    "start_time": "2024-05-17T02:02:48.315Z"
   },
   {
    "duration": 31,
    "start_time": "2024-05-17T02:02:56.365Z"
   },
   {
    "duration": 32,
    "start_time": "2024-05-17T02:55:17.797Z"
   },
   {
    "duration": 32,
    "start_time": "2024-05-17T02:55:27.798Z"
   },
   {
    "duration": 6,
    "start_time": "2024-05-17T03:10:59.506Z"
   },
   {
    "duration": 18,
    "start_time": "2024-05-17T03:11:10.932Z"
   },
   {
    "duration": 23,
    "start_time": "2024-05-17T03:11:36.960Z"
   },
   {
    "duration": 9,
    "start_time": "2024-05-17T03:13:25.917Z"
   },
   {
    "duration": 9,
    "start_time": "2024-05-17T03:14:21.084Z"
   },
   {
    "duration": 7,
    "start_time": "2024-05-17T03:14:36.369Z"
   },
   {
    "duration": 10,
    "start_time": "2024-05-17T03:14:51.854Z"
   },
   {
    "duration": 1538,
    "start_time": "2024-05-17T03:25:47.225Z"
   },
   {
    "duration": 17,
    "start_time": "2024-05-17T03:25:59.020Z"
   },
   {
    "duration": 16,
    "start_time": "2024-05-17T03:26:05.485Z"
   },
   {
    "duration": 11,
    "start_time": "2024-05-17T03:26:06.219Z"
   },
   {
    "duration": 13,
    "start_time": "2024-05-17T03:26:07.030Z"
   },
   {
    "duration": 13,
    "start_time": "2024-05-17T03:26:07.790Z"
   },
   {
    "duration": 3,
    "start_time": "2024-05-17T03:26:25.565Z"
   },
   {
    "duration": 1605,
    "start_time": "2024-05-17T03:26:26.330Z"
   },
   {
    "duration": 17,
    "start_time": "2024-05-17T03:26:27.939Z"
   },
   {
    "duration": 17,
    "start_time": "2024-05-17T03:26:27.959Z"
   },
   {
    "duration": 12,
    "start_time": "2024-05-17T03:26:28.338Z"
   },
   {
    "duration": 14,
    "start_time": "2024-05-17T03:26:29.064Z"
   },
   {
    "duration": 12,
    "start_time": "2024-05-17T03:26:29.733Z"
   },
   {
    "duration": 14,
    "start_time": "2024-05-17T03:26:42.225Z"
   },
   {
    "duration": 30,
    "start_time": "2024-05-17T03:26:58.435Z"
   },
   {
    "duration": 13,
    "start_time": "2024-05-17T03:27:07.484Z"
   },
   {
    "duration": 4,
    "start_time": "2024-05-17T03:27:42.420Z"
   },
   {
    "duration": 1477,
    "start_time": "2024-05-17T03:27:42.868Z"
   },
   {
    "duration": 17,
    "start_time": "2024-05-17T03:27:44.348Z"
   },
   {
    "duration": 17,
    "start_time": "2024-05-17T03:27:44.368Z"
   },
   {
    "duration": 12,
    "start_time": "2024-05-17T03:27:44.410Z"
   },
   {
    "duration": 13,
    "start_time": "2024-05-17T03:27:49.667Z"
   },
   {
    "duration": 13,
    "start_time": "2024-05-17T03:27:51.164Z"
   },
   {
    "duration": 17,
    "start_time": "2024-05-17T03:27:57.018Z"
   },
   {
    "duration": 17,
    "start_time": "2024-05-17T03:28:07.997Z"
   },
   {
    "duration": 20,
    "start_time": "2024-05-17T03:28:25.462Z"
   },
   {
    "duration": 221,
    "start_time": "2024-05-17T03:28:34.980Z"
   },
   {
    "duration": 197,
    "start_time": "2024-05-17T03:28:41.493Z"
   },
   {
    "duration": 12,
    "start_time": "2024-05-17T03:28:52.775Z"
   },
   {
    "duration": 221,
    "start_time": "2024-05-17T03:29:08.445Z"
   },
   {
    "duration": 247,
    "start_time": "2024-05-17T03:29:11.880Z"
   },
   {
    "duration": 212,
    "start_time": "2024-05-17T03:29:18.366Z"
   },
   {
    "duration": 7,
    "start_time": "2024-05-17T03:35:44.683Z"
   },
   {
    "duration": 10,
    "start_time": "2024-05-17T03:50:52.466Z"
   },
   {
    "duration": 13,
    "start_time": "2024-05-17T03:52:31.992Z"
   },
   {
    "duration": 9,
    "start_time": "2024-05-17T03:53:35.266Z"
   },
   {
    "duration": 1610,
    "start_time": "2024-05-17T03:55:42.981Z"
   },
   {
    "duration": 412,
    "start_time": "2024-05-17T04:01:17.762Z"
   },
   {
    "duration": 18,
    "start_time": "2024-05-17T04:04:59.058Z"
   },
   {
    "duration": 316,
    "start_time": "2024-05-18T04:01:43.933Z"
   },
   {
    "duration": 4326,
    "start_time": "2024-05-18T04:01:48.948Z"
   },
   {
    "duration": 1812,
    "start_time": "2024-05-18T04:01:53.278Z"
   },
   {
    "duration": 24,
    "start_time": "2024-05-18T04:01:55.092Z"
   },
   {
    "duration": 18,
    "start_time": "2024-05-18T04:01:55.122Z"
   },
   {
    "duration": 11,
    "start_time": "2024-05-18T04:01:55.143Z"
   },
   {
    "duration": 52,
    "start_time": "2024-05-18T04:01:55.158Z"
   },
   {
    "duration": 15,
    "start_time": "2024-05-18T04:01:55.213Z"
   },
   {
    "duration": 16,
    "start_time": "2024-05-18T04:01:55.230Z"
   },
   {
    "duration": 226,
    "start_time": "2024-05-18T04:01:55.249Z"
   },
   {
    "duration": 29,
    "start_time": "2024-05-18T04:01:55.480Z"
   },
   {
    "duration": 226,
    "start_time": "2024-05-18T04:01:55.512Z"
   },
   {
    "duration": 203,
    "start_time": "2024-05-18T04:01:55.741Z"
   },
   {
    "duration": 80,
    "start_time": "2024-05-18T04:01:55.947Z"
   },
   {
    "duration": 0,
    "start_time": "2024-05-18T04:01:56.030Z"
   },
   {
    "duration": 0,
    "start_time": "2024-05-18T04:01:56.033Z"
   },
   {
    "duration": 0,
    "start_time": "2024-05-18T04:01:56.034Z"
   },
   {
    "duration": 0,
    "start_time": "2024-05-18T04:01:56.037Z"
   },
   {
    "duration": 0,
    "start_time": "2024-05-18T04:01:56.039Z"
   },
   {
    "duration": 0,
    "start_time": "2024-05-18T04:01:56.041Z"
   },
   {
    "duration": 11,
    "start_time": "2024-05-18T04:01:57.512Z"
   },
   {
    "duration": 12,
    "start_time": "2024-05-18T04:01:57.890Z"
   },
   {
    "duration": 1374,
    "start_time": "2024-05-18T04:02:00.369Z"
   },
   {
    "duration": 419,
    "start_time": "2024-05-18T04:02:01.747Z"
   },
   {
    "duration": 18,
    "start_time": "2024-05-18T04:02:08.065Z"
   },
   {
    "duration": 7,
    "start_time": "2024-05-18T04:02:56.210Z"
   },
   {
    "duration": 15,
    "start_time": "2024-05-18T04:03:07.332Z"
   },
   {
    "duration": 29,
    "start_time": "2024-05-18T04:29:21.618Z"
   },
   {
    "duration": 26,
    "start_time": "2024-05-18T04:30:05.907Z"
   },
   {
    "duration": 7,
    "start_time": "2024-05-18T04:30:24.784Z"
   },
   {
    "duration": 5,
    "start_time": "2024-05-18T04:32:57.477Z"
   },
   {
    "duration": 4299,
    "start_time": "2024-05-19T01:24:00.925Z"
   },
   {
    "duration": 1715,
    "start_time": "2024-05-19T01:24:05.227Z"
   },
   {
    "duration": 21,
    "start_time": "2024-05-19T01:24:06.945Z"
   },
   {
    "duration": 37,
    "start_time": "2024-05-19T01:24:06.970Z"
   },
   {
    "duration": 13,
    "start_time": "2024-05-19T01:24:07.010Z"
   },
   {
    "duration": 14,
    "start_time": "2024-05-19T01:24:07.026Z"
   },
   {
    "duration": 15,
    "start_time": "2024-05-19T01:24:07.043Z"
   },
   {
    "duration": 54,
    "start_time": "2024-05-19T01:24:07.061Z"
   },
   {
    "duration": 203,
    "start_time": "2024-05-19T01:24:07.119Z"
   },
   {
    "duration": 13,
    "start_time": "2024-05-19T01:24:07.327Z"
   },
   {
    "duration": 222,
    "start_time": "2024-05-19T01:24:07.343Z"
   },
   {
    "duration": 207,
    "start_time": "2024-05-19T01:24:07.567Z"
   },
   {
    "duration": 422,
    "start_time": "2024-05-19T01:24:07.779Z"
   },
   {
    "duration": 25,
    "start_time": "2024-05-19T01:24:14.792Z"
   },
   {
    "duration": 7,
    "start_time": "2024-05-19T01:24:15.254Z"
   },
   {
    "duration": 35,
    "start_time": "2024-05-19T01:24:15.807Z"
   },
   {
    "duration": 19,
    "start_time": "2024-05-19T01:24:16.185Z"
   },
   {
    "duration": 22,
    "start_time": "2024-05-19T01:24:19.326Z"
   },
   {
    "duration": 21,
    "start_time": "2024-05-19T01:24:20.314Z"
   },
   {
    "duration": 9,
    "start_time": "2024-05-19T01:24:49.156Z"
   },
   {
    "duration": 37,
    "start_time": "2024-05-19T01:25:26.727Z"
   },
   {
    "duration": 56,
    "start_time": "2024-05-19T01:25:56.479Z"
   },
   {
    "duration": 23,
    "start_time": "2024-05-19T01:26:04.784Z"
   },
   {
    "duration": 8,
    "start_time": "2024-05-19T01:26:07.836Z"
   },
   {
    "duration": 30,
    "start_time": "2024-05-19T01:26:09.346Z"
   },
   {
    "duration": 18,
    "start_time": "2024-05-19T01:26:10.775Z"
   },
   {
    "duration": 10,
    "start_time": "2024-05-19T01:26:16.065Z"
   },
   {
    "duration": 23,
    "start_time": "2024-05-19T01:26:17.345Z"
   },
   {
    "duration": 9,
    "start_time": "2024-05-19T01:26:37.320Z"
   },
   {
    "duration": 10,
    "start_time": "2024-05-19T01:26:42.906Z"
   },
   {
    "duration": 8,
    "start_time": "2024-05-19T01:26:44.262Z"
   },
   {
    "duration": 1413,
    "start_time": "2024-05-19T01:26:51.311Z"
   },
   {
    "duration": 399,
    "start_time": "2024-05-19T01:26:53.316Z"
   },
   {
    "duration": 14,
    "start_time": "2024-05-19T01:27:13.759Z"
   },
   {
    "duration": 6,
    "start_time": "2024-05-19T01:27:15.755Z"
   },
   {
    "duration": 5,
    "start_time": "2024-05-19T01:27:20.037Z"
   },
   {
    "duration": 6,
    "start_time": "2024-05-19T02:05:34.302Z"
   },
   {
    "duration": 16,
    "start_time": "2024-05-19T02:27:56.472Z"
   },
   {
    "duration": 328,
    "start_time": "2024-05-19T17:10:37.794Z"
   },
   {
    "duration": 22,
    "start_time": "2024-05-19T17:10:48.057Z"
   },
   {
    "duration": 4315,
    "start_time": "2024-05-19T17:10:58.441Z"
   },
   {
    "duration": 1776,
    "start_time": "2024-05-19T17:11:02.760Z"
   },
   {
    "duration": 18,
    "start_time": "2024-05-19T17:11:04.539Z"
   },
   {
    "duration": 16,
    "start_time": "2024-05-19T17:11:04.562Z"
   },
   {
    "duration": 33,
    "start_time": "2024-05-19T17:11:04.581Z"
   },
   {
    "duration": 16,
    "start_time": "2024-05-19T17:11:04.618Z"
   },
   {
    "duration": 13,
    "start_time": "2024-05-19T17:11:04.637Z"
   },
   {
    "duration": 17,
    "start_time": "2024-05-19T17:11:04.653Z"
   },
   {
    "duration": 201,
    "start_time": "2024-05-19T17:11:04.711Z"
   },
   {
    "duration": 18,
    "start_time": "2024-05-19T17:11:04.917Z"
   },
   {
    "duration": 223,
    "start_time": "2024-05-19T17:11:04.938Z"
   },
   {
    "duration": 187,
    "start_time": "2024-05-19T17:11:05.164Z"
   },
   {
    "duration": 67,
    "start_time": "2024-05-19T17:11:05.354Z"
   },
   {
    "duration": 25,
    "start_time": "2024-05-19T17:11:05.424Z"
   },
   {
    "duration": 7,
    "start_time": "2024-05-19T17:11:05.452Z"
   },
   {
    "duration": 67,
    "start_time": "2024-05-19T17:11:05.462Z"
   },
   {
    "duration": 18,
    "start_time": "2024-05-19T17:11:05.532Z"
   },
   {
    "duration": 9,
    "start_time": "2024-05-19T17:11:06.133Z"
   },
   {
    "duration": 8,
    "start_time": "2024-05-19T17:11:06.523Z"
   },
   {
    "duration": 9,
    "start_time": "2024-05-19T17:11:07.315Z"
   },
   {
    "duration": 8,
    "start_time": "2024-05-19T17:11:08.650Z"
   },
   {
    "duration": 1350,
    "start_time": "2024-05-19T17:11:10.235Z"
   },
   {
    "duration": 405,
    "start_time": "2024-05-19T17:11:11.588Z"
   },
   {
    "duration": 13,
    "start_time": "2024-05-19T17:11:14.805Z"
   },
   {
    "duration": 6,
    "start_time": "2024-05-19T17:11:16.322Z"
   },
   {
    "duration": 6,
    "start_time": "2024-05-19T17:11:17.291Z"
   },
   {
    "duration": 70,
    "start_time": "2024-05-19T17:11:18.755Z"
   },
   {
    "duration": 730,
    "start_time": "2024-05-19T17:11:27.069Z"
   },
   {
    "duration": 87,
    "start_time": "2024-05-19T17:12:15.741Z"
   },
   {
    "duration": 5,
    "start_time": "2024-05-19T17:17:16.421Z"
   },
   {
    "duration": 80,
    "start_time": "2024-05-19T17:17:47.638Z"
   },
   {
    "duration": 4,
    "start_time": "2024-05-19T17:18:04.202Z"
   },
   {
    "duration": 5,
    "start_time": "2024-05-19T17:18:21.437Z"
   },
   {
    "duration": 524,
    "start_time": "2024-05-19T17:40:24.676Z"
   },
   {
    "duration": 80,
    "start_time": "2024-05-19T17:41:01.327Z"
   },
   {
    "duration": 7,
    "start_time": "2024-05-19T17:41:27.215Z"
   },
   {
    "duration": 5,
    "start_time": "2024-05-19T17:43:25.516Z"
   },
   {
    "duration": 6,
    "start_time": "2024-05-19T17:44:29.361Z"
   },
   {
    "duration": 6,
    "start_time": "2024-05-19T17:45:30.664Z"
   },
   {
    "duration": 9,
    "start_time": "2024-05-19T17:48:08.961Z"
   },
   {
    "duration": 13,
    "start_time": "2024-05-19T17:48:22.417Z"
   },
   {
    "duration": 7,
    "start_time": "2024-05-19T17:51:51.482Z"
   },
   {
    "duration": 13,
    "start_time": "2024-05-19T17:52:36.510Z"
   },
   {
    "duration": 12,
    "start_time": "2024-05-19T17:52:44.821Z"
   },
   {
    "duration": 13,
    "start_time": "2024-05-19T17:52:58.826Z"
   },
   {
    "duration": 14,
    "start_time": "2024-05-19T17:53:12.282Z"
   },
   {
    "duration": 16,
    "start_time": "2024-05-19T17:53:14.671Z"
   },
   {
    "duration": 11,
    "start_time": "2024-05-19T17:53:16.998Z"
   },
   {
    "duration": 18,
    "start_time": "2024-05-19T17:53:18.379Z"
   },
   {
    "duration": 41,
    "start_time": "2024-05-19T17:53:21.327Z"
   },
   {
    "duration": 24,
    "start_time": "2024-05-19T17:53:24.273Z"
   },
   {
    "duration": 23,
    "start_time": "2024-05-19T17:53:28.751Z"
   },
   {
    "duration": 20,
    "start_time": "2024-05-19T18:02:51.553Z"
   },
   {
    "duration": 31,
    "start_time": "2024-05-19T18:03:00.621Z"
   },
   {
    "duration": 29,
    "start_time": "2024-05-19T18:16:46.385Z"
   },
   {
    "duration": 57,
    "start_time": "2024-05-19T18:17:26.032Z"
   },
   {
    "duration": 14,
    "start_time": "2024-05-19T18:17:53.698Z"
   },
   {
    "duration": 16,
    "start_time": "2024-05-19T18:18:08.867Z"
   },
   {
    "duration": 6423,
    "start_time": "2024-05-19T18:23:42.087Z"
   },
   {
    "duration": 5652,
    "start_time": "2024-05-19T18:23:53.542Z"
   },
   {
    "duration": 5789,
    "start_time": "2024-05-19T18:24:11.007Z"
   },
   {
    "duration": 39,
    "start_time": "2024-05-19T19:00:08.551Z"
   },
   {
    "duration": 489,
    "start_time": "2024-05-19T19:00:26.484Z"
   },
   {
    "duration": 174,
    "start_time": "2024-05-19T19:00:42.762Z"
   },
   {
    "duration": 146,
    "start_time": "2024-05-19T19:00:52.440Z"
   },
   {
    "duration": 100,
    "start_time": "2024-05-19T19:03:18.432Z"
   },
   {
    "duration": 8,
    "start_time": "2024-05-19T19:03:28.073Z"
   },
   {
    "duration": 27,
    "start_time": "2024-05-19T19:07:51.226Z"
   },
   {
    "duration": 45,
    "start_time": "2024-05-19T19:08:12.586Z"
   },
   {
    "duration": 6,
    "start_time": "2024-05-19T19:09:35.876Z"
   },
   {
    "duration": 62,
    "start_time": "2024-05-19T19:10:02.030Z"
   },
   {
    "duration": 6,
    "start_time": "2024-05-19T19:10:30.456Z"
   },
   {
    "duration": 7,
    "start_time": "2024-05-19T19:10:41.199Z"
   },
   {
    "duration": 117,
    "start_time": "2024-05-19T19:10:53.861Z"
   },
   {
    "duration": 46,
    "start_time": "2024-05-19T19:11:02.961Z"
   },
   {
    "duration": 49,
    "start_time": "2024-05-19T19:11:13.926Z"
   },
   {
    "duration": 28,
    "start_time": "2024-05-19T19:34:00.017Z"
   },
   {
    "duration": 10,
    "start_time": "2024-05-19T19:34:39.840Z"
   },
   {
    "duration": 388,
    "start_time": "2024-05-20T03:14:02.186Z"
   },
   {
    "duration": 4363,
    "start_time": "2024-05-20T03:14:12.245Z"
   },
   {
    "duration": 1710,
    "start_time": "2024-05-20T03:14:16.613Z"
   },
   {
    "duration": 19,
    "start_time": "2024-05-20T03:14:18.326Z"
   },
   {
    "duration": 16,
    "start_time": "2024-05-20T03:14:18.350Z"
   },
   {
    "duration": 39,
    "start_time": "2024-05-20T03:14:18.368Z"
   },
   {
    "duration": 17,
    "start_time": "2024-05-20T03:14:18.410Z"
   },
   {
    "duration": 13,
    "start_time": "2024-05-20T03:14:18.431Z"
   },
   {
    "duration": 64,
    "start_time": "2024-05-20T03:14:18.448Z"
   },
   {
    "duration": 194,
    "start_time": "2024-05-20T03:14:18.515Z"
   },
   {
    "duration": 14,
    "start_time": "2024-05-20T03:14:18.714Z"
   },
   {
    "duration": 231,
    "start_time": "2024-05-20T03:14:18.731Z"
   },
   {
    "duration": 202,
    "start_time": "2024-05-20T03:14:18.965Z"
   },
   {
    "duration": 67,
    "start_time": "2024-05-20T03:14:19.170Z"
   },
   {
    "duration": 27,
    "start_time": "2024-05-20T03:14:19.777Z"
   },
   {
    "duration": 7,
    "start_time": "2024-05-20T03:14:20.128Z"
   },
   {
    "duration": 35,
    "start_time": "2024-05-20T03:14:20.578Z"
   },
   {
    "duration": 19,
    "start_time": "2024-05-20T03:14:20.963Z"
   },
   {
    "duration": 10,
    "start_time": "2024-05-20T03:14:22.388Z"
   },
   {
    "duration": 8,
    "start_time": "2024-05-20T03:14:22.715Z"
   },
   {
    "duration": 9,
    "start_time": "2024-05-20T03:14:23.993Z"
   },
   {
    "duration": 9,
    "start_time": "2024-05-20T03:14:24.166Z"
   },
   {
    "duration": 1418,
    "start_time": "2024-05-20T03:14:25.630Z"
   },
   {
    "duration": 406,
    "start_time": "2024-05-20T03:14:27.052Z"
   },
   {
    "duration": 13,
    "start_time": "2024-05-20T03:14:28.263Z"
   },
   {
    "duration": 5,
    "start_time": "2024-05-20T03:14:29.555Z"
   },
   {
    "duration": 5,
    "start_time": "2024-05-20T03:14:30.755Z"
   },
   {
    "duration": 12,
    "start_time": "2024-05-20T03:14:32.033Z"
   },
   {
    "duration": 12,
    "start_time": "2024-05-20T03:14:33.417Z"
   },
   {
    "duration": 164,
    "start_time": "2024-05-20T03:14:44.093Z"
   },
   {
    "duration": 7,
    "start_time": "2024-05-20T03:14:50.847Z"
   },
   {
    "duration": 28,
    "start_time": "2024-05-20T03:15:04.134Z"
   },
   {
    "duration": 47,
    "start_time": "2024-05-20T03:15:04.823Z"
   },
   {
    "duration": 14,
    "start_time": "2024-05-20T03:15:07.794Z"
   },
   {
    "duration": 4620,
    "start_time": "2024-05-21T03:17:18.971Z"
   },
   {
    "duration": 1888,
    "start_time": "2024-05-21T03:17:23.596Z"
   },
   {
    "duration": 22,
    "start_time": "2024-05-21T03:17:25.487Z"
   },
   {
    "duration": 17,
    "start_time": "2024-05-21T03:17:25.516Z"
   },
   {
    "duration": 12,
    "start_time": "2024-05-21T03:17:25.536Z"
   },
   {
    "duration": 19,
    "start_time": "2024-05-21T03:17:25.551Z"
   },
   {
    "duration": 49,
    "start_time": "2024-05-21T03:17:25.572Z"
   },
   {
    "duration": 18,
    "start_time": "2024-05-21T03:17:25.623Z"
   },
   {
    "duration": 221,
    "start_time": "2024-05-21T03:17:25.644Z"
   },
   {
    "duration": 13,
    "start_time": "2024-05-21T03:17:25.870Z"
   },
   {
    "duration": 218,
    "start_time": "2024-05-21T03:17:25.886Z"
   },
   {
    "duration": 189,
    "start_time": "2024-05-21T03:17:26.109Z"
   },
   {
    "duration": 61,
    "start_time": "2024-05-21T03:17:26.301Z"
   },
   {
    "duration": 54,
    "start_time": "2024-05-21T03:17:26.366Z"
   },
   {
    "duration": 9,
    "start_time": "2024-05-21T03:17:26.423Z"
   },
   {
    "duration": 41,
    "start_time": "2024-05-21T03:17:26.435Z"
   },
   {
    "duration": 47,
    "start_time": "2024-05-21T03:17:26.478Z"
   },
   {
    "duration": 10,
    "start_time": "2024-05-21T03:17:26.528Z"
   },
   {
    "duration": 9,
    "start_time": "2024-05-21T03:17:26.541Z"
   },
   {
    "duration": 57,
    "start_time": "2024-05-21T03:17:26.553Z"
   },
   {
    "duration": 8,
    "start_time": "2024-05-21T03:17:26.616Z"
   },
   {
    "duration": 1419,
    "start_time": "2024-05-21T03:17:26.627Z"
   },
   {
    "duration": 398,
    "start_time": "2024-05-21T03:17:28.049Z"
   },
   {
    "duration": 13,
    "start_time": "2024-05-21T03:17:28.453Z"
   },
   {
    "duration": 7,
    "start_time": "2024-05-21T03:17:28.470Z"
   },
   {
    "duration": 30,
    "start_time": "2024-05-21T03:17:28.480Z"
   },
   {
    "duration": 13,
    "start_time": "2024-05-21T03:17:28.514Z"
   },
   {
    "duration": 12,
    "start_time": "2024-05-21T03:17:29.141Z"
   },
   {
    "duration": 148,
    "start_time": "2024-05-21T03:17:30.350Z"
   },
   {
    "duration": 7,
    "start_time": "2024-05-21T03:17:31.266Z"
   },
   {
    "duration": 28,
    "start_time": "2024-05-21T03:17:41.974Z"
   },
   {
    "duration": 48,
    "start_time": "2024-05-21T03:17:45.025Z"
   },
   {
    "duration": 16,
    "start_time": "2024-05-21T03:18:23.359Z"
   },
   {
    "duration": 1188,
    "start_time": "2024-05-21T03:18:24.827Z"
   },
   {
    "duration": 75,
    "start_time": "2024-05-21T03:21:02.393Z"
   },
   {
    "duration": 7,
    "start_time": "2024-05-21T03:33:56.677Z"
   },
   {
    "duration": 10,
    "start_time": "2024-05-21T03:34:31.831Z"
   },
   {
    "duration": 12,
    "start_time": "2024-05-21T03:39:08.405Z"
   },
   {
    "duration": 10,
    "start_time": "2024-05-21T03:39:20.824Z"
   },
   {
    "duration": 10,
    "start_time": "2024-05-21T04:04:45.814Z"
   },
   {
    "duration": 14,
    "start_time": "2024-05-21T04:05:29.090Z"
   },
   {
    "duration": 4761,
    "start_time": "2024-05-21T13:13:20.536Z"
   },
   {
    "duration": 1860,
    "start_time": "2024-05-21T13:13:25.301Z"
   },
   {
    "duration": 22,
    "start_time": "2024-05-21T13:13:27.165Z"
   },
   {
    "duration": 16,
    "start_time": "2024-05-21T13:13:27.193Z"
   },
   {
    "duration": 29,
    "start_time": "2024-05-21T13:13:27.213Z"
   },
   {
    "duration": 23,
    "start_time": "2024-05-21T13:13:27.245Z"
   },
   {
    "duration": 15,
    "start_time": "2024-05-21T13:13:27.274Z"
   },
   {
    "duration": 18,
    "start_time": "2024-05-21T13:13:27.332Z"
   },
   {
    "duration": 248,
    "start_time": "2024-05-21T13:13:27.354Z"
   },
   {
    "duration": 30,
    "start_time": "2024-05-21T13:13:27.609Z"
   },
   {
    "duration": 290,
    "start_time": "2024-05-21T13:13:27.645Z"
   },
   {
    "duration": 204,
    "start_time": "2024-05-21T13:13:27.938Z"
   },
   {
    "duration": 59,
    "start_time": "2024-05-21T13:13:28.148Z"
   },
   {
    "duration": 25,
    "start_time": "2024-05-21T13:13:28.230Z"
   },
   {
    "duration": 7,
    "start_time": "2024-05-21T13:13:28.258Z"
   },
   {
    "duration": 67,
    "start_time": "2024-05-21T13:13:28.269Z"
   },
   {
    "duration": 24,
    "start_time": "2024-05-21T13:13:28.341Z"
   },
   {
    "duration": 14,
    "start_time": "2024-05-21T13:13:28.368Z"
   },
   {
    "duration": 11,
    "start_time": "2024-05-21T13:13:28.386Z"
   },
   {
    "duration": 41,
    "start_time": "2024-05-21T13:13:28.400Z"
   },
   {
    "duration": 10,
    "start_time": "2024-05-21T13:13:28.448Z"
   },
   {
    "duration": 1435,
    "start_time": "2024-05-21T13:13:28.461Z"
   },
   {
    "duration": 419,
    "start_time": "2024-05-21T13:13:29.898Z"
   },
   {
    "duration": 18,
    "start_time": "2024-05-21T13:13:30.320Z"
   },
   {
    "duration": 6,
    "start_time": "2024-05-21T13:13:30.340Z"
   },
   {
    "duration": 7,
    "start_time": "2024-05-21T13:13:30.351Z"
   },
   {
    "duration": 11,
    "start_time": "2024-05-21T13:13:30.523Z"
   },
   {
    "duration": 14,
    "start_time": "2024-05-21T13:13:31.007Z"
   },
   {
    "duration": 152,
    "start_time": "2024-05-21T13:13:32.812Z"
   },
   {
    "duration": 7,
    "start_time": "2024-05-21T13:13:32.967Z"
   },
   {
    "duration": 28,
    "start_time": "2024-05-21T13:13:34.187Z"
   },
   {
    "duration": 47,
    "start_time": "2024-05-21T13:13:34.433Z"
   },
   {
    "duration": 14,
    "start_time": "2024-05-21T13:13:35.417Z"
   },
   {
    "duration": 19,
    "start_time": "2024-05-21T13:13:35.898Z"
   },
   {
    "duration": 1235,
    "start_time": "2024-05-21T13:14:53.122Z"
   },
   {
    "duration": 74,
    "start_time": "2024-05-21T13:15:17.160Z"
   },
   {
    "duration": 3,
    "start_time": "2024-05-21T13:15:37.609Z"
   },
   {
    "duration": 1484,
    "start_time": "2024-05-21T13:15:39.914Z"
   },
   {
    "duration": 17,
    "start_time": "2024-05-21T13:15:41.401Z"
   },
   {
    "duration": 17,
    "start_time": "2024-05-21T13:15:42.699Z"
   },
   {
    "duration": 11,
    "start_time": "2024-05-21T13:15:43.658Z"
   },
   {
    "duration": 15,
    "start_time": "2024-05-21T13:15:44.539Z"
   },
   {
    "duration": 346,
    "start_time": "2024-05-21T13:16:55.471Z"
   },
   {
    "duration": 176,
    "start_time": "2024-05-21T13:17:19.799Z"
   },
   {
    "duration": 467,
    "start_time": "2024-05-21T13:17:36.582Z"
   },
   {
    "duration": 455,
    "start_time": "2024-05-21T13:17:43.256Z"
   },
   {
    "duration": 466,
    "start_time": "2024-05-21T13:17:52.212Z"
   },
   {
    "duration": 444,
    "start_time": "2024-05-21T13:17:54.463Z"
   },
   {
    "duration": 501,
    "start_time": "2024-05-21T13:17:57.009Z"
   },
   {
    "duration": 442,
    "start_time": "2024-05-21T13:17:59.874Z"
   },
   {
    "duration": 470,
    "start_time": "2024-05-21T13:18:01.404Z"
   },
   {
    "duration": 458,
    "start_time": "2024-05-21T13:18:02.896Z"
   },
   {
    "duration": 465,
    "start_time": "2024-05-21T13:18:07.268Z"
   },
   {
    "duration": 454,
    "start_time": "2024-05-21T13:18:12.494Z"
   },
   {
    "duration": 456,
    "start_time": "2024-05-21T13:18:14.707Z"
   },
   {
    "duration": 467,
    "start_time": "2024-05-21T13:18:16.166Z"
   },
   {
    "duration": 448,
    "start_time": "2024-05-21T13:18:18.106Z"
   },
   {
    "duration": 455,
    "start_time": "2024-05-21T13:18:19.582Z"
   },
   {
    "duration": 450,
    "start_time": "2024-05-21T13:18:24.502Z"
   },
   {
    "duration": 477,
    "start_time": "2024-05-21T13:18:26.238Z"
   },
   {
    "duration": 465,
    "start_time": "2024-05-21T13:18:28.297Z"
   },
   {
    "duration": 466,
    "start_time": "2024-05-21T13:18:54.243Z"
   },
   {
    "duration": 8698,
    "start_time": "2024-05-21T22:42:56.572Z"
   },
   {
    "duration": 2183,
    "start_time": "2024-05-21T22:43:05.276Z"
   },
   {
    "duration": 37,
    "start_time": "2024-05-21T22:43:07.463Z"
   },
   {
    "duration": 86,
    "start_time": "2024-05-21T22:43:07.507Z"
   },
   {
    "duration": 33,
    "start_time": "2024-05-21T22:43:07.598Z"
   },
   {
    "duration": 94,
    "start_time": "2024-05-21T22:43:07.647Z"
   },
   {
    "duration": 62,
    "start_time": "2024-05-21T22:43:07.759Z"
   },
   {
    "duration": 43,
    "start_time": "2024-05-21T22:43:07.834Z"
   },
   {
    "duration": 386,
    "start_time": "2024-05-21T22:43:07.892Z"
   },
   {
    "duration": 25,
    "start_time": "2024-05-21T22:43:08.287Z"
   },
   {
    "duration": 383,
    "start_time": "2024-05-21T22:43:08.333Z"
   },
   {
    "duration": 352,
    "start_time": "2024-05-21T22:43:08.720Z"
   },
   {
    "duration": 134,
    "start_time": "2024-05-21T22:43:09.077Z"
   },
   {
    "duration": 68,
    "start_time": "2024-05-21T22:43:09.216Z"
   },
   {
    "duration": 10,
    "start_time": "2024-05-21T22:43:09.291Z"
   },
   {
    "duration": 70,
    "start_time": "2024-05-21T22:43:09.335Z"
   },
   {
    "duration": 46,
    "start_time": "2024-05-21T22:43:09.409Z"
   },
   {
    "duration": 14,
    "start_time": "2024-05-21T22:43:09.459Z"
   },
   {
    "duration": 56,
    "start_time": "2024-05-21T22:43:09.478Z"
   },
   {
    "duration": 16,
    "start_time": "2024-05-21T22:43:09.541Z"
   },
   {
    "duration": 18,
    "start_time": "2024-05-21T22:43:09.563Z"
   },
   {
    "duration": 2477,
    "start_time": "2024-05-21T22:43:09.630Z"
   },
   {
    "duration": 703,
    "start_time": "2024-05-21T22:43:12.111Z"
   },
   {
    "duration": 29,
    "start_time": "2024-05-21T22:43:12.820Z"
   },
   {
    "duration": 11,
    "start_time": "2024-05-21T22:43:12.855Z"
   },
   {
    "duration": 10,
    "start_time": "2024-05-21T22:43:12.873Z"
   },
   {
    "duration": 24,
    "start_time": "2024-05-21T22:43:12.935Z"
   },
   {
    "duration": 20,
    "start_time": "2024-05-21T22:43:12.971Z"
   },
   {
    "duration": 373,
    "start_time": "2024-05-21T22:43:12.995Z"
   },
   {
    "duration": 11,
    "start_time": "2024-05-21T22:43:13.372Z"
   },
   {
    "duration": 74,
    "start_time": "2024-05-21T22:43:13.388Z"
   },
   {
    "duration": 98,
    "start_time": "2024-05-21T22:43:13.466Z"
   },
   {
    "duration": 19,
    "start_time": "2024-05-21T22:43:13.569Z"
   },
   {
    "duration": 54,
    "start_time": "2024-05-21T22:43:13.593Z"
   },
   {
    "duration": 749,
    "start_time": "2024-05-21T22:43:13.657Z"
   },
   {
    "duration": 22,
    "start_time": "2024-05-21T22:52:13.975Z"
   },
   {
    "duration": 25,
    "start_time": "2024-05-21T22:56:58.443Z"
   },
   {
    "duration": 23,
    "start_time": "2024-05-21T23:01:56.077Z"
   },
   {
    "duration": 58,
    "start_time": "2024-05-21T23:04:21.924Z"
   },
   {
    "duration": 8,
    "start_time": "2024-05-21T23:05:08.119Z"
   },
   {
    "duration": 6,
    "start_time": "2024-05-21T23:05:34.375Z"
   },
   {
    "duration": 5,
    "start_time": "2024-05-21T23:05:43.326Z"
   },
   {
    "duration": 67,
    "start_time": "2024-05-21T23:05:48.479Z"
   },
   {
    "duration": 64,
    "start_time": "2024-05-21T23:06:02.414Z"
   },
   {
    "duration": 61,
    "start_time": "2024-05-21T23:06:58.856Z"
   },
   {
    "duration": 50,
    "start_time": "2024-05-21T23:11:47.549Z"
   },
   {
    "duration": 155,
    "start_time": "2024-05-21T23:27:16.150Z"
   },
   {
    "duration": 373,
    "start_time": "2024-05-21T23:27:29.113Z"
   },
   {
    "duration": 490,
    "start_time": "2024-05-21T23:37:32.010Z"
   },
   {
    "duration": 221,
    "start_time": "2024-05-21T23:48:05.705Z"
   },
   {
    "duration": 321,
    "start_time": "2024-05-21T23:54:50.365Z"
   },
   {
    "duration": 998,
    "start_time": "2024-05-21T23:55:25.002Z"
   },
   {
    "duration": 1698,
    "start_time": "2024-05-21T23:55:26.004Z"
   },
   {
    "duration": 24,
    "start_time": "2024-05-21T23:55:27.706Z"
   },
   {
    "duration": 18,
    "start_time": "2024-05-21T23:55:27.736Z"
   },
   {
    "duration": 13,
    "start_time": "2024-05-21T23:55:27.757Z"
   },
   {
    "duration": 60,
    "start_time": "2024-05-21T23:55:27.774Z"
   },
   {
    "duration": 13,
    "start_time": "2024-05-21T23:55:27.837Z"
   },
   {
    "duration": 18,
    "start_time": "2024-05-21T23:55:27.854Z"
   },
   {
    "duration": 212,
    "start_time": "2024-05-21T23:55:27.875Z"
   },
   {
    "duration": 13,
    "start_time": "2024-05-21T23:55:28.093Z"
   },
   {
    "duration": 206,
    "start_time": "2024-05-21T23:55:28.109Z"
   },
   {
    "duration": 194,
    "start_time": "2024-05-21T23:55:28.319Z"
   },
   {
    "duration": 57,
    "start_time": "2024-05-21T23:55:28.516Z"
   },
   {
    "duration": 25,
    "start_time": "2024-05-21T23:55:28.576Z"
   },
   {
    "duration": 32,
    "start_time": "2024-05-21T23:55:28.604Z"
   },
   {
    "duration": 37,
    "start_time": "2024-05-21T23:55:28.639Z"
   },
   {
    "duration": 50,
    "start_time": "2024-05-21T23:55:28.680Z"
   },
   {
    "duration": 9,
    "start_time": "2024-05-21T23:55:28.733Z"
   },
   {
    "duration": 10,
    "start_time": "2024-05-21T23:55:28.745Z"
   },
   {
    "duration": 11,
    "start_time": "2024-05-21T23:55:28.758Z"
   },
   {
    "duration": 9,
    "start_time": "2024-05-21T23:55:28.772Z"
   },
   {
    "duration": 1426,
    "start_time": "2024-05-21T23:55:28.831Z"
   },
   {
    "duration": 398,
    "start_time": "2024-05-21T23:55:30.260Z"
   },
   {
    "duration": 13,
    "start_time": "2024-05-21T23:55:30.661Z"
   },
   {
    "duration": 6,
    "start_time": "2024-05-21T23:55:30.677Z"
   },
   {
    "duration": 6,
    "start_time": "2024-05-21T23:55:30.686Z"
   },
   {
    "duration": 17,
    "start_time": "2024-05-21T23:55:30.731Z"
   },
   {
    "duration": 13,
    "start_time": "2024-05-21T23:55:30.757Z"
   },
   {
    "duration": 173,
    "start_time": "2024-05-21T23:55:30.773Z"
   },
   {
    "duration": 8,
    "start_time": "2024-05-21T23:55:30.949Z"
   },
   {
    "duration": 36,
    "start_time": "2024-05-21T23:55:30.960Z"
   },
   {
    "duration": 80,
    "start_time": "2024-05-21T23:55:30.999Z"
   },
   {
    "duration": 15,
    "start_time": "2024-05-21T23:55:31.083Z"
   },
   {
    "duration": 43,
    "start_time": "2024-05-21T23:55:31.101Z"
   },
   {
    "duration": 645,
    "start_time": "2024-05-21T23:55:31.150Z"
   },
   {
    "duration": 70,
    "start_time": "2024-05-21T23:55:31.798Z"
   },
   {
    "duration": 65,
    "start_time": "2024-05-21T23:55:31.872Z"
   },
   {
    "duration": 429,
    "start_time": "2024-05-21T23:55:31.940Z"
   },
   {
    "duration": 228,
    "start_time": "2024-05-21T23:55:32.372Z"
   },
   {
    "duration": 838,
    "start_time": "2024-05-22T01:05:20.027Z"
   },
   {
    "duration": 1922,
    "start_time": "2024-05-22T01:05:20.869Z"
   },
   {
    "duration": 19,
    "start_time": "2024-05-22T01:05:22.793Z"
   },
   {
    "duration": 29,
    "start_time": "2024-05-22T01:05:22.818Z"
   },
   {
    "duration": 13,
    "start_time": "2024-05-22T01:05:22.850Z"
   },
   {
    "duration": 19,
    "start_time": "2024-05-22T01:05:22.866Z"
   },
   {
    "duration": 56,
    "start_time": "2024-05-22T01:05:22.888Z"
   },
   {
    "duration": 20,
    "start_time": "2024-05-22T01:05:22.948Z"
   },
   {
    "duration": 238,
    "start_time": "2024-05-22T01:05:22.972Z"
   },
   {
    "duration": 23,
    "start_time": "2024-05-22T01:05:23.217Z"
   },
   {
    "duration": 219,
    "start_time": "2024-05-22T01:05:23.243Z"
   },
   {
    "duration": 196,
    "start_time": "2024-05-22T01:05:23.468Z"
   },
   {
    "duration": 77,
    "start_time": "2024-05-22T01:05:23.667Z"
   },
   {
    "duration": 37,
    "start_time": "2024-05-22T01:05:23.748Z"
   },
   {
    "duration": 8,
    "start_time": "2024-05-22T01:05:23.789Z"
   },
   {
    "duration": 78,
    "start_time": "2024-05-22T01:05:23.800Z"
   },
   {
    "duration": 23,
    "start_time": "2024-05-22T01:05:23.881Z"
   },
   {
    "duration": 31,
    "start_time": "2024-05-22T01:05:23.907Z"
   },
   {
    "duration": 10,
    "start_time": "2024-05-22T01:05:23.942Z"
   },
   {
    "duration": 12,
    "start_time": "2024-05-22T01:05:23.956Z"
   },
   {
    "duration": 10,
    "start_time": "2024-05-22T01:05:23.972Z"
   },
   {
    "duration": 1445,
    "start_time": "2024-05-22T01:05:23.985Z"
   },
   {
    "duration": 417,
    "start_time": "2024-05-22T01:05:25.433Z"
   },
   {
    "duration": 15,
    "start_time": "2024-05-22T01:05:25.853Z"
   },
   {
    "duration": 6,
    "start_time": "2024-05-22T01:05:25.871Z"
   },
   {
    "duration": 8,
    "start_time": "2024-05-22T01:05:25.881Z"
   },
   {
    "duration": 51,
    "start_time": "2024-05-22T01:05:25.892Z"
   },
   {
    "duration": 12,
    "start_time": "2024-05-22T01:05:25.952Z"
   },
   {
    "duration": 214,
    "start_time": "2024-05-22T01:05:25.969Z"
   },
   {
    "duration": 9,
    "start_time": "2024-05-22T01:05:26.186Z"
   },
   {
    "duration": 55,
    "start_time": "2024-05-22T01:05:26.198Z"
   },
   {
    "duration": 49,
    "start_time": "2024-05-22T01:05:26.256Z"
   },
   {
    "duration": 15,
    "start_time": "2024-05-22T01:05:26.332Z"
   },
   {
    "duration": 19,
    "start_time": "2024-05-22T01:05:26.350Z"
   },
   {
    "duration": 669,
    "start_time": "2024-05-22T01:05:26.372Z"
   },
   {
    "duration": 63,
    "start_time": "2024-05-22T01:05:27.044Z"
   },
   {
    "duration": 71,
    "start_time": "2024-05-22T01:05:27.109Z"
   },
   {
    "duration": 403,
    "start_time": "2024-05-22T01:05:27.183Z"
   },
   {
    "duration": 235,
    "start_time": "2024-05-22T01:05:27.589Z"
   },
   {
    "duration": 4435,
    "start_time": "2024-05-22T02:46:29.483Z"
   },
   {
    "duration": 1696,
    "start_time": "2024-05-22T02:46:33.922Z"
   },
   {
    "duration": 21,
    "start_time": "2024-05-22T02:46:35.624Z"
   },
   {
    "duration": 17,
    "start_time": "2024-05-22T02:46:35.650Z"
   },
   {
    "duration": 12,
    "start_time": "2024-05-22T02:46:35.670Z"
   },
   {
    "duration": 20,
    "start_time": "2024-05-22T02:46:35.709Z"
   },
   {
    "duration": 14,
    "start_time": "2024-05-22T02:46:35.732Z"
   },
   {
    "duration": 17,
    "start_time": "2024-05-22T02:46:35.749Z"
   },
   {
    "duration": 194,
    "start_time": "2024-05-22T02:46:35.810Z"
   },
   {
    "duration": 13,
    "start_time": "2024-05-22T02:46:36.012Z"
   },
   {
    "duration": 225,
    "start_time": "2024-05-22T02:46:36.027Z"
   },
   {
    "duration": 201,
    "start_time": "2024-05-22T02:46:36.254Z"
   },
   {
    "duration": 67,
    "start_time": "2024-05-22T02:46:36.458Z"
   },
   {
    "duration": 27,
    "start_time": "2024-05-22T02:46:36.529Z"
   },
   {
    "duration": 8,
    "start_time": "2024-05-22T02:46:36.559Z"
   },
   {
    "duration": 64,
    "start_time": "2024-05-22T02:46:36.571Z"
   },
   {
    "duration": 19,
    "start_time": "2024-05-22T02:46:36.638Z"
   },
   {
    "duration": 11,
    "start_time": "2024-05-22T02:46:36.660Z"
   },
   {
    "duration": 10,
    "start_time": "2024-05-22T02:46:36.711Z"
   },
   {
    "duration": 11,
    "start_time": "2024-05-22T02:46:36.725Z"
   },
   {
    "duration": 10,
    "start_time": "2024-05-22T02:46:36.739Z"
   },
   {
    "duration": 1457,
    "start_time": "2024-05-22T02:46:36.752Z"
   },
   {
    "duration": 420,
    "start_time": "2024-05-22T02:46:38.212Z"
   },
   {
    "duration": 12,
    "start_time": "2024-05-22T02:46:38.635Z"
   },
   {
    "duration": 6,
    "start_time": "2024-05-22T02:46:38.650Z"
   },
   {
    "duration": 6,
    "start_time": "2024-05-22T02:46:38.659Z"
   },
   {
    "duration": 12,
    "start_time": "2024-05-22T02:46:38.708Z"
   },
   {
    "duration": 12,
    "start_time": "2024-05-22T02:46:38.728Z"
   },
   {
    "duration": 190,
    "start_time": "2024-05-22T02:46:38.742Z"
   },
   {
    "duration": 8,
    "start_time": "2024-05-22T02:46:38.935Z"
   },
   {
    "duration": 39,
    "start_time": "2024-05-22T02:46:38.947Z"
   },
   {
    "duration": 49,
    "start_time": "2024-05-22T02:46:39.010Z"
   },
   {
    "duration": 14,
    "start_time": "2024-05-22T02:46:39.062Z"
   },
   {
    "duration": 46,
    "start_time": "2024-05-22T02:46:39.078Z"
   },
   {
    "duration": 640,
    "start_time": "2024-05-22T02:46:39.126Z"
   },
   {
    "duration": 72,
    "start_time": "2024-05-22T02:46:39.769Z"
   },
   {
    "duration": 64,
    "start_time": "2024-05-22T02:46:39.844Z"
   },
   {
    "duration": 367,
    "start_time": "2024-05-22T02:46:39.911Z"
   },
   {
    "duration": 233,
    "start_time": "2024-05-22T02:46:40.280Z"
   },
   {
    "duration": 310,
    "start_time": "2024-05-22T03:10:20.294Z"
   },
   {
    "duration": 696,
    "start_time": "2024-05-22T03:10:38.479Z"
   },
   {
    "duration": 1699,
    "start_time": "2024-05-22T03:10:39.179Z"
   },
   {
    "duration": 21,
    "start_time": "2024-05-22T03:10:40.880Z"
   },
   {
    "duration": 16,
    "start_time": "2024-05-22T03:10:40.910Z"
   },
   {
    "duration": 14,
    "start_time": "2024-05-22T03:10:40.930Z"
   },
   {
    "duration": 19,
    "start_time": "2024-05-22T03:10:40.948Z"
   },
   {
    "duration": 50,
    "start_time": "2024-05-22T03:10:40.970Z"
   },
   {
    "duration": 20,
    "start_time": "2024-05-22T03:10:41.023Z"
   },
   {
    "duration": 228,
    "start_time": "2024-05-22T03:10:41.046Z"
   },
   {
    "duration": 14,
    "start_time": "2024-05-22T03:10:41.279Z"
   },
   {
    "duration": 202,
    "start_time": "2024-05-22T03:10:41.309Z"
   },
   {
    "duration": 185,
    "start_time": "2024-05-22T03:10:41.514Z"
   },
   {
    "duration": 54,
    "start_time": "2024-05-22T03:10:41.710Z"
   },
   {
    "duration": 48,
    "start_time": "2024-05-22T03:10:41.767Z"
   },
   {
    "duration": 7,
    "start_time": "2024-05-22T03:10:41.818Z"
   },
   {
    "duration": 34,
    "start_time": "2024-05-22T03:10:41.829Z"
   },
   {
    "duration": 50,
    "start_time": "2024-05-22T03:10:41.866Z"
   },
   {
    "duration": 10,
    "start_time": "2024-05-22T03:10:41.920Z"
   },
   {
    "duration": 9,
    "start_time": "2024-05-22T03:10:41.933Z"
   },
   {
    "duration": 11,
    "start_time": "2024-05-22T03:10:41.945Z"
   },
   {
    "duration": 49,
    "start_time": "2024-05-22T03:10:41.960Z"
   },
   {
    "duration": 1411,
    "start_time": "2024-05-22T03:10:42.011Z"
   },
   {
    "duration": 413,
    "start_time": "2024-05-22T03:10:43.425Z"
   },
   {
    "duration": 15,
    "start_time": "2024-05-22T03:10:43.841Z"
   },
   {
    "duration": 6,
    "start_time": "2024-05-22T03:10:43.859Z"
   },
   {
    "duration": 6,
    "start_time": "2024-05-22T03:10:43.869Z"
   },
   {
    "duration": 15,
    "start_time": "2024-05-22T03:10:43.913Z"
   },
   {
    "duration": 20,
    "start_time": "2024-05-22T03:10:43.937Z"
   },
   {
    "duration": 179,
    "start_time": "2024-05-22T03:10:43.961Z"
   },
   {
    "duration": 14,
    "start_time": "2024-05-22T03:10:44.143Z"
   },
   {
    "duration": 52,
    "start_time": "2024-05-22T03:10:44.161Z"
   },
   {
    "duration": 47,
    "start_time": "2024-05-22T03:10:44.216Z"
   },
   {
    "duration": 14,
    "start_time": "2024-05-22T03:10:44.266Z"
   },
   {
    "duration": 16,
    "start_time": "2024-05-22T03:10:44.309Z"
   },
   {
    "duration": 679,
    "start_time": "2024-05-22T03:10:44.328Z"
   },
   {
    "duration": 65,
    "start_time": "2024-05-22T03:10:45.011Z"
   },
   {
    "duration": 68,
    "start_time": "2024-05-22T03:10:45.079Z"
   },
   {
    "duration": 372,
    "start_time": "2024-05-22T03:10:45.150Z"
   },
   {
    "duration": 247,
    "start_time": "2024-05-22T03:10:45.525Z"
   },
   {
    "duration": 692,
    "start_time": "2024-05-22T03:11:23.315Z"
   },
   {
    "duration": 1650,
    "start_time": "2024-05-22T03:11:24.010Z"
   },
   {
    "duration": 18,
    "start_time": "2024-05-22T03:11:25.663Z"
   },
   {
    "duration": 35,
    "start_time": "2024-05-22T03:11:25.686Z"
   },
   {
    "duration": 16,
    "start_time": "2024-05-22T03:11:25.724Z"
   },
   {
    "duration": 19,
    "start_time": "2024-05-22T03:11:25.743Z"
   },
   {
    "duration": 44,
    "start_time": "2024-05-22T03:11:25.766Z"
   },
   {
    "duration": 19,
    "start_time": "2024-05-22T03:11:25.814Z"
   },
   {
    "duration": 216,
    "start_time": "2024-05-22T03:11:25.835Z"
   },
   {
    "duration": 16,
    "start_time": "2024-05-22T03:11:26.055Z"
   },
   {
    "duration": 194,
    "start_time": "2024-05-22T03:11:26.353Z"
   },
   {
    "duration": 200,
    "start_time": "2024-05-22T03:11:26.551Z"
   },
   {
    "duration": 66,
    "start_time": "2024-05-22T03:11:26.755Z"
   },
   {
    "duration": 27,
    "start_time": "2024-05-22T03:11:27.292Z"
   },
   {
    "duration": 7,
    "start_time": "2024-05-22T03:11:28.142Z"
   },
   {
    "duration": 35,
    "start_time": "2024-05-22T03:11:28.347Z"
   },
   {
    "duration": 20,
    "start_time": "2024-05-22T03:11:28.590Z"
   },
   {
    "duration": 9,
    "start_time": "2024-05-22T03:11:30.312Z"
   },
   {
    "duration": 9,
    "start_time": "2024-05-22T03:11:31.703Z"
   },
   {
    "duration": 9,
    "start_time": "2024-05-22T03:11:33.322Z"
   },
   {
    "duration": 9,
    "start_time": "2024-05-22T03:11:33.518Z"
   },
   {
    "duration": 1417,
    "start_time": "2024-05-22T03:11:34.279Z"
   },
   {
    "duration": 408,
    "start_time": "2024-05-22T03:11:35.700Z"
   },
   {
    "duration": 13,
    "start_time": "2024-05-22T03:11:36.522Z"
   },
   {
    "duration": 5,
    "start_time": "2024-05-22T03:11:37.603Z"
   },
   {
    "duration": 6,
    "start_time": "2024-05-22T03:11:39.380Z"
   },
   {
    "duration": 13,
    "start_time": "2024-05-22T03:11:43.818Z"
   },
   {
    "duration": 17,
    "start_time": "2024-05-22T03:11:54.689Z"
   },
   {
    "duration": 154,
    "start_time": "2024-05-22T03:11:58.007Z"
   },
   {
    "duration": 6,
    "start_time": "2024-05-22T03:11:58.504Z"
   },
   {
    "duration": 28,
    "start_time": "2024-05-22T03:12:00.447Z"
   },
   {
    "duration": 47,
    "start_time": "2024-05-22T03:12:01.125Z"
   },
   {
    "duration": 45,
    "start_time": "2024-05-22T03:12:38.764Z"
   },
   {
    "duration": 44,
    "start_time": "2024-05-22T03:12:53.286Z"
   },
   {
    "duration": 7,
    "start_time": "2024-05-22T03:13:13.287Z"
   },
   {
    "duration": 45,
    "start_time": "2024-05-22T03:13:19.054Z"
   },
   {
    "duration": 45,
    "start_time": "2024-05-22T03:15:34.781Z"
   },
   {
    "duration": 14,
    "start_time": "2024-05-22T03:15:39.147Z"
   },
   {
    "duration": 16,
    "start_time": "2024-05-22T03:15:40.562Z"
   },
   {
    "duration": 648,
    "start_time": "2024-05-22T03:15:42.238Z"
   },
   {
    "duration": 59,
    "start_time": "2024-05-22T03:15:48.400Z"
   },
   {
    "duration": 51,
    "start_time": "2024-05-22T03:15:49.258Z"
   },
   {
    "duration": 345,
    "start_time": "2024-05-22T03:15:52.205Z"
   },
   {
    "duration": 330,
    "start_time": "2024-05-22T03:21:22.934Z"
   },
   {
    "duration": 247,
    "start_time": "2024-05-22T03:21:33.108Z"
   },
   {
    "duration": 416,
    "start_time": "2024-05-22T03:21:47.208Z"
   },
   {
    "duration": 1433,
    "start_time": "2024-05-22T03:22:56.620Z"
   },
   {
    "duration": 311,
    "start_time": "2024-05-22T03:23:29.936Z"
   },
   {
    "duration": 4315,
    "start_time": "2024-05-22T20:40:41.874Z"
   },
   {
    "duration": 1735,
    "start_time": "2024-05-22T20:40:46.193Z"
   },
   {
    "duration": 18,
    "start_time": "2024-05-22T20:40:47.931Z"
   },
   {
    "duration": 16,
    "start_time": "2024-05-22T20:40:47.953Z"
   },
   {
    "duration": 40,
    "start_time": "2024-05-22T20:40:47.972Z"
   },
   {
    "duration": 17,
    "start_time": "2024-05-22T20:40:48.016Z"
   },
   {
    "duration": 14,
    "start_time": "2024-05-22T20:40:48.036Z"
   },
   {
    "duration": 17,
    "start_time": "2024-05-22T20:40:48.052Z"
   },
   {
    "duration": 187,
    "start_time": "2024-05-22T20:40:48.111Z"
   },
   {
    "duration": 18,
    "start_time": "2024-05-22T20:40:48.305Z"
   },
   {
    "duration": 233,
    "start_time": "2024-05-22T20:40:48.329Z"
   },
   {
    "duration": 187,
    "start_time": "2024-05-22T20:40:48.564Z"
   },
   {
    "duration": 62,
    "start_time": "2024-05-22T20:40:48.754Z"
   },
   {
    "duration": 25,
    "start_time": "2024-05-22T20:40:48.819Z"
   },
   {
    "duration": 6,
    "start_time": "2024-05-22T20:40:48.848Z"
   },
   {
    "duration": 72,
    "start_time": "2024-05-22T20:40:48.857Z"
   },
   {
    "duration": 18,
    "start_time": "2024-05-22T20:40:48.932Z"
   },
   {
    "duration": 11,
    "start_time": "2024-05-22T20:40:48.955Z"
   },
   {
    "duration": 9,
    "start_time": "2024-05-22T20:40:48.969Z"
   },
   {
    "duration": 11,
    "start_time": "2024-05-22T20:40:49.011Z"
   },
   {
    "duration": 9,
    "start_time": "2024-05-22T20:40:49.025Z"
   },
   {
    "duration": 1365,
    "start_time": "2024-05-22T20:40:49.037Z"
   },
   {
    "duration": 402,
    "start_time": "2024-05-22T20:40:50.414Z"
   },
   {
    "duration": 13,
    "start_time": "2024-05-22T20:40:50.819Z"
   },
   {
    "duration": 7,
    "start_time": "2024-05-22T20:40:50.835Z"
   },
   {
    "duration": 7,
    "start_time": "2024-05-22T20:40:50.845Z"
   },
   {
    "duration": 56,
    "start_time": "2024-05-22T20:40:50.857Z"
   },
   {
    "duration": 12,
    "start_time": "2024-05-22T20:40:51.295Z"
   },
   {
    "duration": 145,
    "start_time": "2024-05-22T20:40:54.172Z"
   },
   {
    "duration": 9,
    "start_time": "2024-05-22T20:40:55.353Z"
   },
   {
    "duration": 29,
    "start_time": "2024-05-22T20:40:57.224Z"
   },
   {
    "duration": 46,
    "start_time": "2024-05-22T20:40:58.238Z"
   },
   {
    "duration": 44,
    "start_time": "2024-05-22T21:16:45.930Z"
   },
   {
    "duration": 14,
    "start_time": "2024-05-22T21:16:46.255Z"
   },
   {
    "duration": 17,
    "start_time": "2024-05-22T21:16:46.416Z"
   },
   {
    "duration": 618,
    "start_time": "2024-05-22T21:16:47.361Z"
   },
   {
    "duration": 59,
    "start_time": "2024-05-22T21:16:49.505Z"
   },
   {
    "duration": 50,
    "start_time": "2024-05-22T21:16:50.191Z"
   },
   {
    "duration": 348,
    "start_time": "2024-05-22T21:16:54.200Z"
   },
   {
    "duration": 262,
    "start_time": "2024-05-22T21:17:02.653Z"
   },
   {
    "duration": 708,
    "start_time": "2024-05-22T21:18:57.012Z"
   },
   {
    "duration": 1563,
    "start_time": "2024-05-22T21:18:57.724Z"
   },
   {
    "duration": 27,
    "start_time": "2024-05-22T21:18:59.290Z"
   },
   {
    "duration": 19,
    "start_time": "2024-05-22T21:18:59.320Z"
   },
   {
    "duration": 14,
    "start_time": "2024-05-22T21:18:59.344Z"
   },
   {
    "duration": 54,
    "start_time": "2024-05-22T21:18:59.362Z"
   },
   {
    "duration": 13,
    "start_time": "2024-05-22T21:18:59.419Z"
   },
   {
    "duration": 17,
    "start_time": "2024-05-22T21:18:59.435Z"
   },
   {
    "duration": 235,
    "start_time": "2024-05-22T21:18:59.454Z"
   },
   {
    "duration": 27,
    "start_time": "2024-05-22T21:18:59.692Z"
   },
   {
    "duration": 215,
    "start_time": "2024-05-22T21:18:59.721Z"
   },
   {
    "duration": 197,
    "start_time": "2024-05-22T21:18:59.940Z"
   },
   {
    "duration": 55,
    "start_time": "2024-05-22T21:19:00.139Z"
   },
   {
    "duration": 25,
    "start_time": "2024-05-22T21:19:00.216Z"
   },
   {
    "duration": 7,
    "start_time": "2024-05-22T21:19:00.244Z"
   },
   {
    "duration": 64,
    "start_time": "2024-05-22T21:19:00.254Z"
   },
   {
    "duration": 18,
    "start_time": "2024-05-22T21:19:00.321Z"
   },
   {
    "duration": 10,
    "start_time": "2024-05-22T21:19:00.342Z"
   },
   {
    "duration": 10,
    "start_time": "2024-05-22T21:19:00.355Z"
   },
   {
    "duration": 51,
    "start_time": "2024-05-22T21:19:00.368Z"
   },
   {
    "duration": 9,
    "start_time": "2024-05-22T21:19:00.423Z"
   },
   {
    "duration": 1372,
    "start_time": "2024-05-22T21:19:00.435Z"
   },
   {
    "duration": 391,
    "start_time": "2024-05-22T21:19:01.813Z"
   },
   {
    "duration": 17,
    "start_time": "2024-05-22T21:19:02.213Z"
   },
   {
    "duration": 7,
    "start_time": "2024-05-22T21:19:02.233Z"
   },
   {
    "duration": 7,
    "start_time": "2024-05-22T21:19:02.244Z"
   },
   {
    "duration": 57,
    "start_time": "2024-05-22T21:19:02.255Z"
   },
   {
    "duration": 12,
    "start_time": "2024-05-22T21:19:02.315Z"
   },
   {
    "duration": 168,
    "start_time": "2024-05-22T21:19:02.330Z"
   },
   {
    "duration": 15,
    "start_time": "2024-05-22T21:19:02.501Z"
   },
   {
    "duration": 28,
    "start_time": "2024-05-22T21:19:02.519Z"
   },
   {
    "duration": 74,
    "start_time": "2024-05-22T21:19:02.550Z"
   },
   {
    "duration": 13,
    "start_time": "2024-05-22T21:19:02.627Z"
   },
   {
    "duration": 16,
    "start_time": "2024-05-22T21:19:02.643Z"
   },
   {
    "duration": 668,
    "start_time": "2024-05-22T21:19:02.662Z"
   },
   {
    "duration": 78,
    "start_time": "2024-05-22T21:19:03.334Z"
   },
   {
    "duration": 52,
    "start_time": "2024-05-22T21:19:03.416Z"
   },
   {
    "duration": 395,
    "start_time": "2024-05-22T21:19:03.471Z"
   },
   {
    "duration": 230,
    "start_time": "2024-05-22T21:19:03.870Z"
   },
   {
    "duration": 393,
    "start_time": "2024-05-22T21:19:04.103Z"
   },
   {
    "duration": 315,
    "start_time": "2024-05-22T21:19:04.515Z"
   },
   {
    "duration": 366,
    "start_time": "2024-05-22T21:19:04.833Z"
   },
   {
    "duration": 4705,
    "start_time": "2024-05-22T22:11:08.401Z"
   },
   {
    "duration": 1829,
    "start_time": "2024-05-22T22:11:13.113Z"
   },
   {
    "duration": 21,
    "start_time": "2024-05-22T22:11:14.945Z"
   },
   {
    "duration": 17,
    "start_time": "2024-05-22T22:11:14.973Z"
   },
   {
    "duration": 37,
    "start_time": "2024-05-22T22:11:14.997Z"
   },
   {
    "duration": 20,
    "start_time": "2024-05-22T22:11:15.038Z"
   },
   {
    "duration": 14,
    "start_time": "2024-05-22T22:11:15.063Z"
   },
   {
    "duration": 61,
    "start_time": "2024-05-22T22:11:15.081Z"
   },
   {
    "duration": 232,
    "start_time": "2024-05-22T22:11:15.146Z"
   },
   {
    "duration": 18,
    "start_time": "2024-05-22T22:11:15.385Z"
   },
   {
    "duration": 275,
    "start_time": "2024-05-22T22:11:15.409Z"
   },
   {
    "duration": 232,
    "start_time": "2024-05-22T22:11:15.688Z"
   },
   {
    "duration": 72,
    "start_time": "2024-05-22T22:11:15.924Z"
   },
   {
    "duration": 52,
    "start_time": "2024-05-22T22:11:16.001Z"
   },
   {
    "duration": 7,
    "start_time": "2024-05-22T22:11:16.058Z"
   },
   {
    "duration": 38,
    "start_time": "2024-05-22T22:11:16.068Z"
   },
   {
    "duration": 19,
    "start_time": "2024-05-22T22:11:16.134Z"
   },
   {
    "duration": 12,
    "start_time": "2024-05-22T22:11:16.156Z"
   },
   {
    "duration": 12,
    "start_time": "2024-05-22T22:11:16.171Z"
   },
   {
    "duration": 52,
    "start_time": "2024-05-22T22:11:16.188Z"
   },
   {
    "duration": 11,
    "start_time": "2024-05-22T22:11:16.244Z"
   },
   {
    "duration": 1634,
    "start_time": "2024-05-22T22:11:16.258Z"
   },
   {
    "duration": 463,
    "start_time": "2024-05-22T22:11:17.896Z"
   },
   {
    "duration": 14,
    "start_time": "2024-05-22T22:11:18.363Z"
   },
   {
    "duration": 8,
    "start_time": "2024-05-22T22:11:18.381Z"
   },
   {
    "duration": 7,
    "start_time": "2024-05-22T22:11:18.393Z"
   },
   {
    "duration": 17,
    "start_time": "2024-05-22T22:11:18.435Z"
   },
   {
    "duration": 13,
    "start_time": "2024-05-22T22:11:18.459Z"
   },
   {
    "duration": 233,
    "start_time": "2024-05-22T22:11:18.476Z"
   },
   {
    "duration": 8,
    "start_time": "2024-05-22T22:11:18.712Z"
   },
   {
    "duration": 30,
    "start_time": "2024-05-22T22:11:18.735Z"
   },
   {
    "duration": 75,
    "start_time": "2024-05-22T22:11:18.768Z"
   },
   {
    "duration": 14,
    "start_time": "2024-05-22T22:11:18.846Z"
   },
   {
    "duration": 20,
    "start_time": "2024-05-22T22:11:18.863Z"
   },
   {
    "duration": 712,
    "start_time": "2024-05-22T22:11:18.888Z"
   },
   {
    "duration": 79,
    "start_time": "2024-05-22T22:11:19.603Z"
   },
   {
    "duration": 75,
    "start_time": "2024-05-22T22:11:19.685Z"
   },
   {
    "duration": 478,
    "start_time": "2024-05-22T22:11:19.764Z"
   },
   {
    "duration": 322,
    "start_time": "2024-05-22T22:11:20.245Z"
   },
   {
    "duration": 582,
    "start_time": "2024-05-22T22:11:20.571Z"
   },
   {
    "duration": 409,
    "start_time": "2024-05-22T22:11:21.156Z"
   },
   {
    "duration": 394,
    "start_time": "2024-05-22T22:11:21.569Z"
   },
   {
    "duration": 323,
    "start_time": "2024-05-22T22:26:24.333Z"
   },
   {
    "duration": 318,
    "start_time": "2024-05-22T22:28:23.383Z"
   },
   {
    "duration": 7,
    "start_time": "2024-05-22T22:30:39.470Z"
   },
   {
    "duration": 421,
    "start_time": "2024-05-22T22:30:59.245Z"
   },
   {
    "duration": 423,
    "start_time": "2024-05-22T22:32:03.331Z"
   },
   {
    "duration": 6,
    "start_time": "2024-05-22T22:36:48.839Z"
   },
   {
    "duration": 411,
    "start_time": "2024-05-22T22:38:14.375Z"
   },
   {
    "duration": 4308,
    "start_time": "2024-05-23T01:16:55.068Z"
   },
   {
    "duration": 1856,
    "start_time": "2024-05-23T01:16:59.379Z"
   },
   {
    "duration": 20,
    "start_time": "2024-05-23T01:17:01.238Z"
   },
   {
    "duration": 33,
    "start_time": "2024-05-23T01:17:01.263Z"
   },
   {
    "duration": 12,
    "start_time": "2024-05-23T01:17:01.299Z"
   },
   {
    "duration": 16,
    "start_time": "2024-05-23T01:17:01.314Z"
   },
   {
    "duration": 14,
    "start_time": "2024-05-23T01:17:01.333Z"
   },
   {
    "duration": 16,
    "start_time": "2024-05-23T01:17:01.390Z"
   },
   {
    "duration": 199,
    "start_time": "2024-05-23T01:17:01.409Z"
   },
   {
    "duration": 15,
    "start_time": "2024-05-23T01:17:01.615Z"
   },
   {
    "duration": 225,
    "start_time": "2024-05-23T01:17:01.633Z"
   },
   {
    "duration": 194,
    "start_time": "2024-05-23T01:17:01.861Z"
   },
   {
    "duration": 77,
    "start_time": "2024-05-23T01:17:02.059Z"
   },
   {
    "duration": 27,
    "start_time": "2024-05-23T01:17:02.139Z"
   },
   {
    "duration": 7,
    "start_time": "2024-05-23T01:17:02.190Z"
   },
   {
    "duration": 36,
    "start_time": "2024-05-23T01:17:02.200Z"
   },
   {
    "duration": 18,
    "start_time": "2024-05-23T01:17:02.240Z"
   },
   {
    "duration": 9,
    "start_time": "2024-05-23T01:17:02.291Z"
   },
   {
    "duration": 12,
    "start_time": "2024-05-23T01:17:02.303Z"
   },
   {
    "duration": 10,
    "start_time": "2024-05-23T01:17:02.319Z"
   },
   {
    "duration": 9,
    "start_time": "2024-05-23T01:17:02.332Z"
   },
   {
    "duration": 1589,
    "start_time": "2024-05-23T01:17:02.345Z"
   },
   {
    "duration": 415,
    "start_time": "2024-05-23T01:17:03.937Z"
   },
   {
    "duration": 15,
    "start_time": "2024-05-23T01:17:04.356Z"
   },
   {
    "duration": 6,
    "start_time": "2024-05-23T01:17:04.390Z"
   },
   {
    "duration": 6,
    "start_time": "2024-05-23T01:17:04.399Z"
   },
   {
    "duration": 13,
    "start_time": "2024-05-23T01:17:04.410Z"
   },
   {
    "duration": 12,
    "start_time": "2024-05-23T01:17:04.430Z"
   },
   {
    "duration": 205,
    "start_time": "2024-05-23T01:17:04.445Z"
   },
   {
    "duration": 7,
    "start_time": "2024-05-23T01:17:04.653Z"
   },
   {
    "duration": 57,
    "start_time": "2024-05-23T01:17:04.663Z"
   },
   {
    "duration": 67,
    "start_time": "2024-05-23T01:17:04.724Z"
   },
   {
    "duration": 18,
    "start_time": "2024-05-23T01:17:04.793Z"
   },
   {
    "duration": 21,
    "start_time": "2024-05-23T01:17:04.818Z"
   },
   {
    "duration": 647,
    "start_time": "2024-05-23T01:17:04.841Z"
   },
   {
    "duration": 62,
    "start_time": "2024-05-23T01:17:05.492Z"
   },
   {
    "duration": 74,
    "start_time": "2024-05-23T01:17:05.557Z"
   },
   {
    "duration": 390,
    "start_time": "2024-05-23T01:17:05.634Z"
   },
   {
    "duration": 301,
    "start_time": "2024-05-23T01:17:06.027Z"
   },
   {
    "duration": 411,
    "start_time": "2024-05-23T01:17:06.331Z"
   },
   {
    "duration": 348,
    "start_time": "2024-05-23T01:17:06.746Z"
   },
   {
    "duration": 357,
    "start_time": "2024-05-23T01:17:07.098Z"
   },
   {
    "duration": 442,
    "start_time": "2024-05-23T01:17:07.459Z"
   },
   {
    "duration": 12,
    "start_time": "2024-05-23T01:28:31.134Z"
   },
   {
    "duration": 591,
    "start_time": "2024-05-23T01:29:51.214Z"
   },
   {
    "duration": 12,
    "start_time": "2024-05-23T01:30:04.841Z"
   },
   {
    "duration": 322,
    "start_time": "2024-05-23T02:51:43.557Z"
   },
   {
    "duration": 577,
    "start_time": "2024-05-23T03:05:55.701Z"
   },
   {
    "duration": 708,
    "start_time": "2024-05-23T03:10:50.305Z"
   },
   {
    "duration": 1615,
    "start_time": "2024-05-23T03:10:51.016Z"
   },
   {
    "duration": 18,
    "start_time": "2024-05-23T03:10:52.634Z"
   },
   {
    "duration": 37,
    "start_time": "2024-05-23T03:10:52.655Z"
   },
   {
    "duration": 15,
    "start_time": "2024-05-23T03:10:52.698Z"
   },
   {
    "duration": 14,
    "start_time": "2024-05-23T03:10:52.716Z"
   },
   {
    "duration": 57,
    "start_time": "2024-05-23T03:10:52.734Z"
   },
   {
    "duration": 20,
    "start_time": "2024-05-23T03:10:52.794Z"
   },
   {
    "duration": 232,
    "start_time": "2024-05-23T03:10:52.818Z"
   },
   {
    "duration": 14,
    "start_time": "2024-05-23T03:10:53.053Z"
   },
   {
    "duration": 248,
    "start_time": "2024-05-23T03:10:53.071Z"
   },
   {
    "duration": 219,
    "start_time": "2024-05-23T03:10:53.322Z"
   },
   {
    "duration": 78,
    "start_time": "2024-05-23T03:10:53.546Z"
   },
   {
    "duration": 28,
    "start_time": "2024-05-23T03:10:53.631Z"
   },
   {
    "duration": 29,
    "start_time": "2024-05-23T03:10:53.662Z"
   },
   {
    "duration": 38,
    "start_time": "2024-05-23T03:10:53.694Z"
   },
   {
    "duration": 21,
    "start_time": "2024-05-23T03:10:53.735Z"
   },
   {
    "duration": 10,
    "start_time": "2024-05-23T03:10:53.790Z"
   },
   {
    "duration": 9,
    "start_time": "2024-05-23T03:10:53.803Z"
   },
   {
    "duration": 11,
    "start_time": "2024-05-23T03:10:53.815Z"
   },
   {
    "duration": 9,
    "start_time": "2024-05-23T03:10:53.829Z"
   },
   {
    "duration": 1485,
    "start_time": "2024-05-23T03:10:53.842Z"
   },
   {
    "duration": 444,
    "start_time": "2024-05-23T03:10:55.330Z"
   },
   {
    "duration": 21,
    "start_time": "2024-05-23T03:10:55.777Z"
   },
   {
    "duration": 6,
    "start_time": "2024-05-23T03:10:55.801Z"
   },
   {
    "duration": 7,
    "start_time": "2024-05-23T03:10:55.810Z"
   },
   {
    "duration": 11,
    "start_time": "2024-05-23T03:10:55.820Z"
   },
   {
    "duration": 58,
    "start_time": "2024-05-23T03:10:55.835Z"
   },
   {
    "duration": 175,
    "start_time": "2024-05-23T03:10:55.896Z"
   },
   {
    "duration": 20,
    "start_time": "2024-05-23T03:10:56.074Z"
   },
   {
    "duration": 29,
    "start_time": "2024-05-23T03:10:56.096Z"
   },
   {
    "duration": 76,
    "start_time": "2024-05-23T03:10:56.128Z"
   },
   {
    "duration": 13,
    "start_time": "2024-05-23T03:10:56.207Z"
   },
   {
    "duration": 19,
    "start_time": "2024-05-23T03:10:56.223Z"
   },
   {
    "duration": 669,
    "start_time": "2024-05-23T03:10:56.245Z"
   },
   {
    "duration": 73,
    "start_time": "2024-05-23T03:10:56.917Z"
   },
   {
    "duration": 52,
    "start_time": "2024-05-23T03:10:56.993Z"
   },
   {
    "duration": 380,
    "start_time": "2024-05-23T03:10:57.048Z"
   },
   {
    "duration": 225,
    "start_time": "2024-05-23T03:10:57.431Z"
   },
   {
    "duration": 385,
    "start_time": "2024-05-23T03:10:57.659Z"
   },
   {
    "duration": 328,
    "start_time": "2024-05-23T03:10:58.052Z"
   },
   {
    "duration": 325,
    "start_time": "2024-05-23T03:10:58.383Z"
   },
   {
    "duration": 435,
    "start_time": "2024-05-23T03:10:58.711Z"
   },
   {
    "duration": 1671,
    "start_time": "2024-05-23T03:10:59.149Z"
   },
   {
    "duration": 1629,
    "start_time": "2024-05-23T03:22:02.644Z"
   },
   {
    "duration": 212,
    "start_time": "2024-05-23T03:24:07.078Z"
   },
   {
    "duration": 4453,
    "start_time": "2024-05-23T16:02:27.311Z"
   },
   {
    "duration": 1626,
    "start_time": "2024-05-23T16:02:31.767Z"
   },
   {
    "duration": 19,
    "start_time": "2024-05-23T16:02:33.396Z"
   },
   {
    "duration": 24,
    "start_time": "2024-05-23T16:02:33.419Z"
   },
   {
    "duration": 12,
    "start_time": "2024-05-23T16:02:33.446Z"
   },
   {
    "duration": 21,
    "start_time": "2024-05-23T16:02:33.460Z"
   },
   {
    "duration": 13,
    "start_time": "2024-05-23T16:02:33.484Z"
   },
   {
    "duration": 49,
    "start_time": "2024-05-23T16:02:33.500Z"
   },
   {
    "duration": 211,
    "start_time": "2024-05-23T16:02:33.553Z"
   },
   {
    "duration": 13,
    "start_time": "2024-05-23T16:02:33.770Z"
   },
   {
    "duration": 212,
    "start_time": "2024-05-23T16:02:33.786Z"
   },
   {
    "duration": 194,
    "start_time": "2024-05-23T16:02:34.001Z"
   },
   {
    "duration": 69,
    "start_time": "2024-05-23T16:02:34.198Z"
   },
   {
    "duration": 28,
    "start_time": "2024-05-23T16:02:34.270Z"
   },
   {
    "duration": 7,
    "start_time": "2024-05-23T16:02:34.301Z"
   },
   {
    "duration": 36,
    "start_time": "2024-05-23T16:02:34.335Z"
   },
   {
    "duration": 17,
    "start_time": "2024-05-23T16:02:34.374Z"
   },
   {
    "duration": 43,
    "start_time": "2024-05-23T16:02:34.395Z"
   },
   {
    "duration": 9,
    "start_time": "2024-05-23T16:02:34.442Z"
   },
   {
    "duration": 10,
    "start_time": "2024-05-23T16:02:34.454Z"
   },
   {
    "duration": 10,
    "start_time": "2024-05-23T16:02:34.467Z"
   },
   {
    "duration": 1403,
    "start_time": "2024-05-23T16:02:34.480Z"
   },
   {
    "duration": 408,
    "start_time": "2024-05-23T16:02:35.890Z"
   },
   {
    "duration": 13,
    "start_time": "2024-05-23T16:02:36.301Z"
   },
   {
    "duration": 6,
    "start_time": "2024-05-23T16:02:36.336Z"
   },
   {
    "duration": 6,
    "start_time": "2024-05-23T16:02:36.345Z"
   },
   {
    "duration": 15,
    "start_time": "2024-05-23T16:02:36.354Z"
   },
   {
    "duration": 11,
    "start_time": "2024-05-23T16:02:36.377Z"
   },
   {
    "duration": 195,
    "start_time": "2024-05-23T16:02:36.392Z"
   },
   {
    "duration": 6,
    "start_time": "2024-05-23T16:02:36.590Z"
   },
   {
    "duration": 55,
    "start_time": "2024-05-23T16:02:36.599Z"
   },
   {
    "duration": 47,
    "start_time": "2024-05-23T16:02:36.657Z"
   },
   {
    "duration": 38,
    "start_time": "2024-05-23T16:02:36.707Z"
   },
   {
    "duration": 16,
    "start_time": "2024-05-23T16:02:36.748Z"
   },
   {
    "duration": 662,
    "start_time": "2024-05-23T16:02:36.767Z"
   },
   {
    "duration": 60,
    "start_time": "2024-05-23T16:02:37.432Z"
   },
   {
    "duration": 70,
    "start_time": "2024-05-23T16:02:37.495Z"
   },
   {
    "duration": 360,
    "start_time": "2024-05-23T16:02:37.568Z"
   },
   {
    "duration": 241,
    "start_time": "2024-05-23T16:02:37.935Z"
   },
   {
    "duration": 437,
    "start_time": "2024-05-23T16:02:38.180Z"
   },
   {
    "duration": 329,
    "start_time": "2024-05-23T16:02:38.620Z"
   },
   {
    "duration": 347,
    "start_time": "2024-05-23T16:02:38.952Z"
   },
   {
    "duration": 444,
    "start_time": "2024-05-23T16:02:39.302Z"
   },
   {
    "duration": 219,
    "start_time": "2024-05-23T16:02:39.749Z"
   },
   {
    "duration": 1644,
    "start_time": "2024-05-23T16:02:56.133Z"
   },
   {
    "duration": 653,
    "start_time": "2024-05-23T16:04:15.195Z"
   },
   {
    "duration": 1593,
    "start_time": "2024-05-23T16:04:15.851Z"
   },
   {
    "duration": 18,
    "start_time": "2024-05-23T16:04:17.447Z"
   },
   {
    "duration": 20,
    "start_time": "2024-05-23T16:04:17.471Z"
   },
   {
    "duration": 12,
    "start_time": "2024-05-23T16:04:17.494Z"
   },
   {
    "duration": 17,
    "start_time": "2024-05-23T16:04:17.536Z"
   },
   {
    "duration": 16,
    "start_time": "2024-05-23T16:04:17.557Z"
   },
   {
    "duration": 18,
    "start_time": "2024-05-23T16:04:17.577Z"
   },
   {
    "duration": 190,
    "start_time": "2024-05-23T16:04:17.634Z"
   },
   {
    "duration": 14,
    "start_time": "2024-05-23T16:04:17.835Z"
   },
   {
    "duration": 211,
    "start_time": "2024-05-23T16:04:17.853Z"
   },
   {
    "duration": 189,
    "start_time": "2024-05-23T16:04:18.069Z"
   },
   {
    "duration": 54,
    "start_time": "2024-05-23T16:04:18.261Z"
   },
   {
    "duration": 25,
    "start_time": "2024-05-23T16:04:18.333Z"
   },
   {
    "duration": 7,
    "start_time": "2024-05-23T16:04:18.361Z"
   },
   {
    "duration": 62,
    "start_time": "2024-05-23T16:04:18.372Z"
   },
   {
    "duration": 18,
    "start_time": "2024-05-23T16:04:18.437Z"
   },
   {
    "duration": 10,
    "start_time": "2024-05-23T16:04:18.458Z"
   },
   {
    "duration": 8,
    "start_time": "2024-05-23T16:04:18.472Z"
   },
   {
    "duration": 54,
    "start_time": "2024-05-23T16:04:18.484Z"
   },
   {
    "duration": 18,
    "start_time": "2024-05-23T16:04:18.542Z"
   },
   {
    "duration": 1371,
    "start_time": "2024-05-23T16:04:18.563Z"
   },
   {
    "duration": 388,
    "start_time": "2024-05-23T16:04:19.937Z"
   },
   {
    "duration": 13,
    "start_time": "2024-05-23T16:04:20.336Z"
   },
   {
    "duration": 7,
    "start_time": "2024-05-23T16:04:20.352Z"
   },
   {
    "duration": 7,
    "start_time": "2024-05-23T16:04:20.361Z"
   },
   {
    "duration": 13,
    "start_time": "2024-05-23T16:04:20.372Z"
   },
   {
    "duration": 13,
    "start_time": "2024-05-23T16:04:20.438Z"
   },
   {
    "duration": 165,
    "start_time": "2024-05-23T16:04:20.454Z"
   },
   {
    "duration": 17,
    "start_time": "2024-05-23T16:04:20.622Z"
   },
   {
    "duration": 29,
    "start_time": "2024-05-23T16:04:20.641Z"
   },
   {
    "duration": 78,
    "start_time": "2024-05-23T16:04:20.673Z"
   },
   {
    "duration": 13,
    "start_time": "2024-05-23T16:04:20.754Z"
   },
   {
    "duration": 16,
    "start_time": "2024-05-23T16:04:20.770Z"
   },
   {
    "duration": 649,
    "start_time": "2024-05-23T16:04:20.789Z"
   },
   {
    "duration": 62,
    "start_time": "2024-05-23T16:04:21.441Z"
   },
   {
    "duration": 75,
    "start_time": "2024-05-23T16:04:21.505Z"
   },
   {
    "duration": 379,
    "start_time": "2024-05-23T16:04:21.583Z"
   },
   {
    "duration": 230,
    "start_time": "2024-05-23T16:04:21.965Z"
   },
   {
    "duration": 393,
    "start_time": "2024-05-23T16:04:22.198Z"
   },
   {
    "duration": 326,
    "start_time": "2024-05-23T16:04:22.594Z"
   },
   {
    "duration": 349,
    "start_time": "2024-05-23T16:04:22.925Z"
   },
   {
    "duration": 464,
    "start_time": "2024-05-23T16:04:23.277Z"
   },
   {
    "duration": 0,
    "start_time": "2024-05-23T16:04:39.840Z"
   },
   {
    "duration": 15641,
    "start_time": "2024-05-23T16:05:00.239Z"
   },
   {
    "duration": 661,
    "start_time": "2024-05-23T16:05:59.481Z"
   },
   {
    "duration": 1555,
    "start_time": "2024-05-23T16:06:00.146Z"
   },
   {
    "duration": 19,
    "start_time": "2024-05-23T16:06:01.704Z"
   },
   {
    "duration": 16,
    "start_time": "2024-05-23T16:06:01.736Z"
   },
   {
    "duration": 16,
    "start_time": "2024-05-23T16:06:01.755Z"
   },
   {
    "duration": 13,
    "start_time": "2024-05-23T16:06:01.775Z"
   },
   {
    "duration": 52,
    "start_time": "2024-05-23T16:06:01.792Z"
   },
   {
    "duration": 22,
    "start_time": "2024-05-23T16:06:01.847Z"
   },
   {
    "duration": 208,
    "start_time": "2024-05-23T16:06:01.872Z"
   },
   {
    "duration": 13,
    "start_time": "2024-05-23T16:06:02.086Z"
   },
   {
    "duration": 218,
    "start_time": "2024-05-23T16:06:02.102Z"
   },
   {
    "duration": 189,
    "start_time": "2024-05-23T16:06:02.324Z"
   },
   {
    "duration": 63,
    "start_time": "2024-05-23T16:06:02.516Z"
   },
   {
    "duration": 26,
    "start_time": "2024-05-23T16:06:02.582Z"
   },
   {
    "duration": 27,
    "start_time": "2024-05-23T16:06:02.611Z"
   },
   {
    "duration": 34,
    "start_time": "2024-05-23T16:06:02.641Z"
   },
   {
    "duration": 17,
    "start_time": "2024-05-23T16:06:02.681Z"
   },
   {
    "duration": 42,
    "start_time": "2024-05-23T16:06:02.701Z"
   },
   {
    "duration": 9,
    "start_time": "2024-05-23T16:06:02.747Z"
   },
   {
    "duration": 12,
    "start_time": "2024-05-23T16:06:02.760Z"
   },
   {
    "duration": 10,
    "start_time": "2024-05-23T16:06:02.776Z"
   },
   {
    "duration": 1403,
    "start_time": "2024-05-23T16:06:02.790Z"
   },
   {
    "duration": 408,
    "start_time": "2024-05-23T16:06:04.195Z"
   },
   {
    "duration": 29,
    "start_time": "2024-05-23T16:06:04.606Z"
   },
   {
    "duration": 6,
    "start_time": "2024-05-23T16:06:04.638Z"
   },
   {
    "duration": 6,
    "start_time": "2024-05-23T16:06:04.647Z"
   },
   {
    "duration": 15,
    "start_time": "2024-05-23T16:06:04.656Z"
   },
   {
    "duration": 11,
    "start_time": "2024-05-23T16:06:04.678Z"
   },
   {
    "duration": 157,
    "start_time": "2024-05-23T16:06:04.736Z"
   },
   {
    "duration": 7,
    "start_time": "2024-05-23T16:06:04.896Z"
   },
   {
    "duration": 45,
    "start_time": "2024-05-23T16:06:04.906Z"
   },
   {
    "duration": 46,
    "start_time": "2024-05-23T16:06:04.954Z"
   },
   {
    "duration": 43,
    "start_time": "2024-05-23T16:06:05.003Z"
   },
   {
    "duration": 17,
    "start_time": "2024-05-23T16:06:05.049Z"
   },
   {
    "duration": 661,
    "start_time": "2024-05-23T16:06:05.069Z"
   },
   {
    "duration": 61,
    "start_time": "2024-05-23T16:06:05.735Z"
   },
   {
    "duration": 66,
    "start_time": "2024-05-23T16:06:05.799Z"
   },
   {
    "duration": 406,
    "start_time": "2024-05-23T16:06:05.868Z"
   },
   {
    "duration": 237,
    "start_time": "2024-05-23T16:06:06.277Z"
   },
   {
    "duration": 386,
    "start_time": "2024-05-23T16:06:06.517Z"
   },
   {
    "duration": 337,
    "start_time": "2024-05-23T16:06:06.907Z"
   },
   {
    "duration": 337,
    "start_time": "2024-05-23T16:06:07.247Z"
   },
   {
    "duration": 429,
    "start_time": "2024-05-23T16:06:07.588Z"
   },
   {
    "duration": 696,
    "start_time": "2024-05-23T16:09:25.181Z"
   },
   {
    "duration": 1647,
    "start_time": "2024-05-23T16:09:25.881Z"
   },
   {
    "duration": 19,
    "start_time": "2024-05-23T16:09:27.532Z"
   },
   {
    "duration": 20,
    "start_time": "2024-05-23T16:09:27.556Z"
   },
   {
    "duration": 14,
    "start_time": "2024-05-23T16:09:27.579Z"
   },
   {
    "duration": 52,
    "start_time": "2024-05-23T16:09:27.597Z"
   },
   {
    "duration": 14,
    "start_time": "2024-05-23T16:09:27.652Z"
   },
   {
    "duration": 17,
    "start_time": "2024-05-23T16:09:27.669Z"
   },
   {
    "duration": 233,
    "start_time": "2024-05-23T16:09:27.690Z"
   },
   {
    "duration": 14,
    "start_time": "2024-05-23T16:09:27.938Z"
   },
   {
    "duration": 223,
    "start_time": "2024-05-23T16:09:27.954Z"
   },
   {
    "duration": 200,
    "start_time": "2024-05-23T16:09:28.181Z"
   },
   {
    "duration": 88,
    "start_time": "2024-05-23T16:09:28.384Z"
   },
   {
    "duration": 35,
    "start_time": "2024-05-23T16:09:28.475Z"
   },
   {
    "duration": 26,
    "start_time": "2024-05-23T16:09:28.516Z"
   },
   {
    "duration": 48,
    "start_time": "2024-05-23T16:09:28.549Z"
   },
   {
    "duration": 40,
    "start_time": "2024-05-23T16:09:28.600Z"
   },
   {
    "duration": 11,
    "start_time": "2024-05-23T16:09:28.643Z"
   },
   {
    "duration": 11,
    "start_time": "2024-05-23T16:09:28.658Z"
   },
   {
    "duration": 10,
    "start_time": "2024-05-23T16:09:28.672Z"
   },
   {
    "duration": 51,
    "start_time": "2024-05-23T16:09:28.685Z"
   },
   {
    "duration": 1411,
    "start_time": "2024-05-23T16:09:28.739Z"
   },
   {
    "duration": 414,
    "start_time": "2024-05-23T16:09:30.154Z"
   },
   {
    "duration": 13,
    "start_time": "2024-05-23T16:09:30.573Z"
   },
   {
    "duration": 7,
    "start_time": "2024-05-23T16:09:30.589Z"
   },
   {
    "duration": 37,
    "start_time": "2024-05-23T16:09:30.598Z"
   },
   {
    "duration": 12,
    "start_time": "2024-05-23T16:09:30.638Z"
   },
   {
    "duration": 13,
    "start_time": "2024-05-23T16:09:30.658Z"
   },
   {
    "duration": 227,
    "start_time": "2024-05-23T16:09:30.674Z"
   },
   {
    "duration": 7,
    "start_time": "2024-05-23T16:09:30.903Z"
   },
   {
    "duration": 44,
    "start_time": "2024-05-23T16:09:30.913Z"
   },
   {
    "duration": 74,
    "start_time": "2024-05-23T16:09:30.961Z"
   },
   {
    "duration": 17,
    "start_time": "2024-05-23T16:09:31.041Z"
   },
   {
    "duration": 18,
    "start_time": "2024-05-23T16:09:31.061Z"
   },
   {
    "duration": 652,
    "start_time": "2024-05-23T16:09:31.082Z"
   },
   {
    "duration": 69,
    "start_time": "2024-05-23T16:09:31.736Z"
   },
   {
    "duration": 75,
    "start_time": "2024-05-23T16:09:31.810Z"
   },
   {
    "duration": 395,
    "start_time": "2024-05-23T16:09:31.889Z"
   },
   {
    "duration": 237,
    "start_time": "2024-05-23T16:09:32.287Z"
   },
   {
    "duration": 390,
    "start_time": "2024-05-23T16:09:32.535Z"
   },
   {
    "duration": 354,
    "start_time": "2024-05-23T16:09:32.936Z"
   },
   {
    "duration": 330,
    "start_time": "2024-05-23T16:09:33.294Z"
   },
   {
    "duration": 470,
    "start_time": "2024-05-23T16:09:33.636Z"
   },
   {
    "duration": 565,
    "start_time": "2024-05-23T16:09:34.109Z"
   },
   {
    "duration": 569,
    "start_time": "2024-05-23T16:09:43.733Z"
   },
   {
    "duration": 559,
    "start_time": "2024-05-23T16:10:34.051Z"
   },
   {
    "duration": 497,
    "start_time": "2024-05-23T16:11:52.734Z"
   },
   {
    "duration": 413,
    "start_time": "2024-05-23T16:13:09.530Z"
   },
   {
    "duration": 486,
    "start_time": "2024-05-23T16:13:36.541Z"
   },
   {
    "duration": 702,
    "start_time": "2024-05-23T16:15:30.021Z"
   },
   {
    "duration": 1569,
    "start_time": "2024-05-23T16:15:30.727Z"
   },
   {
    "duration": 17,
    "start_time": "2024-05-23T16:15:32.298Z"
   },
   {
    "duration": 26,
    "start_time": "2024-05-23T16:15:32.320Z"
   },
   {
    "duration": 12,
    "start_time": "2024-05-23T16:15:32.350Z"
   },
   {
    "duration": 14,
    "start_time": "2024-05-23T16:15:32.365Z"
   },
   {
    "duration": 61,
    "start_time": "2024-05-23T16:15:32.382Z"
   },
   {
    "duration": 18,
    "start_time": "2024-05-23T16:15:32.446Z"
   },
   {
    "duration": 194,
    "start_time": "2024-05-23T16:15:32.466Z"
   },
   {
    "duration": 13,
    "start_time": "2024-05-23T16:15:32.666Z"
   },
   {
    "duration": 213,
    "start_time": "2024-05-23T16:15:32.682Z"
   },
   {
    "duration": 204,
    "start_time": "2024-05-23T16:15:32.897Z"
   },
   {
    "duration": 69,
    "start_time": "2024-05-23T16:15:33.106Z"
   },
   {
    "duration": 27,
    "start_time": "2024-05-23T16:15:33.179Z"
   },
   {
    "duration": 27,
    "start_time": "2024-05-23T16:15:33.209Z"
   },
   {
    "duration": 35,
    "start_time": "2024-05-23T16:15:33.239Z"
   },
   {
    "duration": 17,
    "start_time": "2024-05-23T16:15:33.278Z"
   },
   {
    "duration": 38,
    "start_time": "2024-05-23T16:15:33.298Z"
   },
   {
    "duration": 11,
    "start_time": "2024-05-23T16:15:33.339Z"
   },
   {
    "duration": 10,
    "start_time": "2024-05-23T16:15:33.354Z"
   },
   {
    "duration": 8,
    "start_time": "2024-05-23T16:15:33.367Z"
   },
   {
    "duration": 1378,
    "start_time": "2024-05-23T16:15:33.378Z"
   },
   {
    "duration": 397,
    "start_time": "2024-05-23T16:15:34.759Z"
   },
   {
    "duration": 12,
    "start_time": "2024-05-23T16:15:35.160Z"
   },
   {
    "duration": 6,
    "start_time": "2024-05-23T16:15:35.175Z"
   },
   {
    "duration": 7,
    "start_time": "2024-05-23T16:15:35.184Z"
   },
   {
    "duration": 47,
    "start_time": "2024-05-23T16:15:35.194Z"
   },
   {
    "duration": 16,
    "start_time": "2024-05-23T16:15:35.250Z"
   },
   {
    "duration": 183,
    "start_time": "2024-05-23T16:15:35.270Z"
   },
   {
    "duration": 8,
    "start_time": "2024-05-23T16:15:35.456Z"
   },
   {
    "duration": 29,
    "start_time": "2024-05-23T16:15:35.467Z"
   },
   {
    "duration": 77,
    "start_time": "2024-05-23T16:15:35.498Z"
   },
   {
    "duration": 14,
    "start_time": "2024-05-23T16:15:35.578Z"
   },
   {
    "duration": 49,
    "start_time": "2024-05-23T16:15:35.595Z"
   },
   {
    "duration": 639,
    "start_time": "2024-05-23T16:15:35.646Z"
   },
   {
    "duration": 73,
    "start_time": "2024-05-23T16:15:36.288Z"
   },
   {
    "duration": 72,
    "start_time": "2024-05-23T16:15:36.366Z"
   },
   {
    "duration": 367,
    "start_time": "2024-05-23T16:15:36.442Z"
   },
   {
    "duration": 232,
    "start_time": "2024-05-23T16:15:36.812Z"
   },
   {
    "duration": 409,
    "start_time": "2024-05-23T16:15:37.047Z"
   },
   {
    "duration": 326,
    "start_time": "2024-05-23T16:15:37.459Z"
   },
   {
    "duration": 334,
    "start_time": "2024-05-23T16:15:37.788Z"
   },
   {
    "duration": 427,
    "start_time": "2024-05-23T16:15:38.125Z"
   },
   {
    "duration": 579,
    "start_time": "2024-05-23T16:15:38.557Z"
   },
   {
    "duration": 929,
    "start_time": "2024-05-23T16:15:58.921Z"
   },
   {
    "duration": 500,
    "start_time": "2024-05-23T16:16:13.167Z"
   },
   {
    "duration": 4299,
    "start_time": "2024-05-23T18:24:47.435Z"
   },
   {
    "duration": 1722,
    "start_time": "2024-05-23T18:24:51.738Z"
   },
   {
    "duration": 20,
    "start_time": "2024-05-23T18:24:53.464Z"
   },
   {
    "duration": 20,
    "start_time": "2024-05-23T18:24:53.489Z"
   },
   {
    "duration": 33,
    "start_time": "2024-05-23T18:24:53.512Z"
   },
   {
    "duration": 13,
    "start_time": "2024-05-23T18:24:53.549Z"
   },
   {
    "duration": 13,
    "start_time": "2024-05-23T18:24:53.566Z"
   },
   {
    "duration": 60,
    "start_time": "2024-05-23T18:24:53.584Z"
   },
   {
    "duration": 186,
    "start_time": "2024-05-23T18:24:53.648Z"
   },
   {
    "duration": 13,
    "start_time": "2024-05-23T18:24:53.840Z"
   },
   {
    "duration": 220,
    "start_time": "2024-05-23T18:24:53.856Z"
   },
   {
    "duration": 195,
    "start_time": "2024-05-23T18:24:54.080Z"
   },
   {
    "duration": 65,
    "start_time": "2024-05-23T18:24:54.278Z"
   },
   {
    "duration": 25,
    "start_time": "2024-05-23T18:24:54.346Z"
   },
   {
    "duration": 7,
    "start_time": "2024-05-23T18:24:54.374Z"
   },
   {
    "duration": 67,
    "start_time": "2024-05-23T18:24:54.384Z"
   },
   {
    "duration": 18,
    "start_time": "2024-05-23T18:24:54.455Z"
   },
   {
    "duration": 9,
    "start_time": "2024-05-23T18:24:54.477Z"
   },
   {
    "duration": 9,
    "start_time": "2024-05-23T18:24:54.489Z"
   },
   {
    "duration": 10,
    "start_time": "2024-05-23T18:24:54.536Z"
   },
   {
    "duration": 10,
    "start_time": "2024-05-23T18:24:54.549Z"
   },
   {
    "duration": 1376,
    "start_time": "2024-05-23T18:24:54.563Z"
   },
   {
    "duration": 408,
    "start_time": "2024-05-23T18:24:55.942Z"
   },
   {
    "duration": 14,
    "start_time": "2024-05-23T18:24:56.353Z"
   },
   {
    "duration": 6,
    "start_time": "2024-05-23T18:24:56.372Z"
   },
   {
    "duration": 6,
    "start_time": "2024-05-23T18:24:56.381Z"
   },
   {
    "duration": 50,
    "start_time": "2024-05-23T18:24:56.390Z"
   },
   {
    "duration": 13,
    "start_time": "2024-05-23T18:24:56.449Z"
   },
   {
    "duration": 177,
    "start_time": "2024-05-23T18:24:56.465Z"
   },
   {
    "duration": 7,
    "start_time": "2024-05-23T18:24:56.646Z"
   },
   {
    "duration": 28,
    "start_time": "2024-05-23T18:24:56.656Z"
   },
   {
    "duration": 84,
    "start_time": "2024-05-23T18:24:56.687Z"
   },
   {
    "duration": 17,
    "start_time": "2024-05-23T18:24:56.774Z"
   },
   {
    "duration": 46,
    "start_time": "2024-05-23T18:24:56.795Z"
   },
   {
    "duration": 628,
    "start_time": "2024-05-23T18:24:56.844Z"
   },
   {
    "duration": 70,
    "start_time": "2024-05-23T18:24:57.475Z"
   },
   {
    "duration": 50,
    "start_time": "2024-05-23T18:24:57.549Z"
   },
   {
    "duration": 397,
    "start_time": "2024-05-23T18:24:57.602Z"
   },
   {
    "duration": 281,
    "start_time": "2024-05-23T18:24:58.002Z"
   },
   {
    "duration": 391,
    "start_time": "2024-05-23T18:24:58.286Z"
   },
   {
    "duration": 330,
    "start_time": "2024-05-23T18:24:58.680Z"
   },
   {
    "duration": 350,
    "start_time": "2024-05-23T18:24:59.013Z"
   },
   {
    "duration": 446,
    "start_time": "2024-05-23T18:24:59.366Z"
   },
   {
    "duration": 535,
    "start_time": "2024-05-23T18:24:59.815Z"
   },
   {
    "duration": 386,
    "start_time": "2024-05-23T18:25:21.431Z"
   },
   {
    "duration": 1805,
    "start_time": "2024-05-23T18:25:37.245Z"
   },
   {
    "duration": 1503,
    "start_time": "2024-05-23T19:00:13.095Z"
   },
   {
    "duration": 252,
    "start_time": "2024-05-23T19:00:41.394Z"
   },
   {
    "duration": 251,
    "start_time": "2024-05-23T19:01:18.492Z"
   },
   {
    "duration": 350,
    "start_time": "2024-05-23T19:01:24.835Z"
   },
   {
    "duration": 219,
    "start_time": "2024-05-23T19:01:33.554Z"
   },
   {
    "duration": 299,
    "start_time": "2024-05-23T19:01:46.113Z"
   },
   {
    "duration": 259,
    "start_time": "2024-05-23T19:02:04.597Z"
   },
   {
    "duration": 245,
    "start_time": "2024-05-23T19:02:10.398Z"
   },
   {
    "duration": 351,
    "start_time": "2024-05-23T19:02:56.254Z"
   },
   {
    "duration": 248,
    "start_time": "2024-05-23T19:03:48.599Z"
   },
   {
    "duration": 247,
    "start_time": "2024-05-23T19:04:22.544Z"
   },
   {
    "duration": 4583,
    "start_time": "2024-05-23T22:17:24.358Z"
   },
   {
    "duration": 1787,
    "start_time": "2024-05-23T22:17:28.945Z"
   },
   {
    "duration": 23,
    "start_time": "2024-05-23T22:17:30.738Z"
   },
   {
    "duration": 17,
    "start_time": "2024-05-23T22:17:30.767Z"
   },
   {
    "duration": 15,
    "start_time": "2024-05-23T22:17:30.788Z"
   },
   {
    "duration": 42,
    "start_time": "2024-05-23T22:17:30.805Z"
   },
   {
    "duration": 13,
    "start_time": "2024-05-23T22:17:30.850Z"
   },
   {
    "duration": 17,
    "start_time": "2024-05-23T22:17:30.866Z"
   },
   {
    "duration": 225,
    "start_time": "2024-05-23T22:17:30.886Z"
   },
   {
    "duration": 22,
    "start_time": "2024-05-23T22:17:31.116Z"
   },
   {
    "duration": 208,
    "start_time": "2024-05-23T22:17:31.141Z"
   },
   {
    "duration": 189,
    "start_time": "2024-05-23T22:17:31.351Z"
   },
   {
    "duration": 53,
    "start_time": "2024-05-23T22:17:31.543Z"
   },
   {
    "duration": 49,
    "start_time": "2024-05-23T22:17:31.599Z"
   },
   {
    "duration": 7,
    "start_time": "2024-05-23T22:17:31.650Z"
   },
   {
    "duration": 35,
    "start_time": "2024-05-23T22:17:31.660Z"
   },
   {
    "duration": 46,
    "start_time": "2024-05-23T22:17:31.698Z"
   },
   {
    "duration": 9,
    "start_time": "2024-05-23T22:17:31.747Z"
   },
   {
    "duration": 8,
    "start_time": "2024-05-23T22:17:31.760Z"
   },
   {
    "duration": 18,
    "start_time": "2024-05-23T22:17:31.772Z"
   },
   {
    "duration": 46,
    "start_time": "2024-05-23T22:17:31.793Z"
   },
   {
    "duration": 1395,
    "start_time": "2024-05-23T22:17:31.842Z"
   },
   {
    "duration": 425,
    "start_time": "2024-05-23T22:17:33.241Z"
   },
   {
    "duration": 12,
    "start_time": "2024-05-23T22:17:33.670Z"
   },
   {
    "duration": 5,
    "start_time": "2024-05-23T22:17:33.685Z"
   },
   {
    "duration": 11,
    "start_time": "2024-05-23T22:17:33.693Z"
   },
   {
    "duration": 17,
    "start_time": "2024-05-23T22:17:33.739Z"
   },
   {
    "duration": 26,
    "start_time": "2024-05-23T22:17:33.765Z"
   },
   {
    "duration": 222,
    "start_time": "2024-05-23T22:17:33.795Z"
   },
   {
    "duration": 16,
    "start_time": "2024-05-23T22:17:34.021Z"
   },
   {
    "duration": 36,
    "start_time": "2024-05-23T22:17:34.041Z"
   },
   {
    "duration": 94,
    "start_time": "2024-05-23T22:17:34.080Z"
   },
   {
    "duration": 14,
    "start_time": "2024-05-23T22:17:34.178Z"
   },
   {
    "duration": 47,
    "start_time": "2024-05-23T22:17:34.195Z"
   },
   {
    "duration": 663,
    "start_time": "2024-05-23T22:17:34.246Z"
   },
   {
    "duration": 71,
    "start_time": "2024-05-23T22:17:34.912Z"
   },
   {
    "duration": 63,
    "start_time": "2024-05-23T22:17:34.986Z"
   },
   {
    "duration": 372,
    "start_time": "2024-05-23T22:17:35.051Z"
   },
   {
    "duration": 219,
    "start_time": "2024-05-23T22:17:35.433Z"
   },
   {
    "duration": 454,
    "start_time": "2024-05-23T22:17:35.655Z"
   },
   {
    "duration": 348,
    "start_time": "2024-05-23T22:17:36.112Z"
   },
   {
    "duration": 336,
    "start_time": "2024-05-23T22:17:36.463Z"
   },
   {
    "duration": 446,
    "start_time": "2024-05-23T22:17:36.802Z"
   },
   {
    "duration": 273,
    "start_time": "2024-05-23T22:17:37.252Z"
   },
   {
    "duration": 247,
    "start_time": "2024-05-23T22:43:20.138Z"
   },
   {
    "duration": 18,
    "start_time": "2024-05-23T23:29:04.722Z"
   },
   {
    "duration": 248,
    "start_time": "2024-05-23T23:29:22.456Z"
   },
   {
    "duration": 9,
    "start_time": "2024-05-23T23:30:11.021Z"
   },
   {
    "duration": 436,
    "start_time": "2024-05-23T23:30:16.462Z"
   },
   {
    "duration": 675,
    "start_time": "2024-05-23T23:32:14.783Z"
   },
   {
    "duration": 791,
    "start_time": "2024-05-23T23:32:41.013Z"
   },
   {
    "duration": 8,
    "start_time": "2024-05-23T23:33:04.858Z"
   },
   {
    "duration": 145,
    "start_time": "2024-05-23T23:39:05.277Z"
   },
   {
    "duration": 151,
    "start_time": "2024-05-23T23:40:58.727Z"
   },
   {
    "duration": 180,
    "start_time": "2024-05-23T23:41:29.828Z"
   },
   {
    "duration": 162,
    "start_time": "2024-05-23T23:41:42.427Z"
   },
   {
    "duration": 150,
    "start_time": "2024-05-23T23:42:44.253Z"
   },
   {
    "duration": 768,
    "start_time": "2024-05-23T23:49:10.360Z"
   },
   {
    "duration": 1641,
    "start_time": "2024-05-23T23:49:11.132Z"
   },
   {
    "duration": 21,
    "start_time": "2024-05-23T23:49:12.776Z"
   },
   {
    "duration": 31,
    "start_time": "2024-05-23T23:49:12.803Z"
   },
   {
    "duration": 12,
    "start_time": "2024-05-23T23:49:12.837Z"
   },
   {
    "duration": 15,
    "start_time": "2024-05-23T23:49:12.852Z"
   },
   {
    "duration": 13,
    "start_time": "2024-05-23T23:49:12.870Z"
   },
   {
    "duration": 59,
    "start_time": "2024-05-23T23:49:12.886Z"
   },
   {
    "duration": 212,
    "start_time": "2024-05-23T23:49:12.948Z"
   },
   {
    "duration": 17,
    "start_time": "2024-05-23T23:49:13.167Z"
   },
   {
    "duration": 227,
    "start_time": "2024-05-23T23:49:13.187Z"
   },
   {
    "duration": 198,
    "start_time": "2024-05-23T23:49:13.418Z"
   },
   {
    "duration": 74,
    "start_time": "2024-05-23T23:49:13.619Z"
   },
   {
    "duration": 47,
    "start_time": "2024-05-23T23:49:13.696Z"
   },
   {
    "duration": 7,
    "start_time": "2024-05-23T23:49:13.746Z"
   },
   {
    "duration": 36,
    "start_time": "2024-05-23T23:49:13.756Z"
   },
   {
    "duration": 50,
    "start_time": "2024-05-23T23:49:13.795Z"
   },
   {
    "duration": 10,
    "start_time": "2024-05-23T23:49:13.851Z"
   },
   {
    "duration": 12,
    "start_time": "2024-05-23T23:49:13.864Z"
   },
   {
    "duration": 11,
    "start_time": "2024-05-23T23:49:13.879Z"
   },
   {
    "duration": 46,
    "start_time": "2024-05-23T23:49:13.893Z"
   },
   {
    "duration": 1412,
    "start_time": "2024-05-23T23:49:13.942Z"
   },
   {
    "duration": 402,
    "start_time": "2024-05-23T23:49:15.357Z"
   },
   {
    "duration": 16,
    "start_time": "2024-05-23T23:49:15.763Z"
   },
   {
    "duration": 6,
    "start_time": "2024-05-23T23:49:15.784Z"
   },
   {
    "duration": 38,
    "start_time": "2024-05-23T23:49:15.796Z"
   },
   {
    "duration": 15,
    "start_time": "2024-05-23T23:49:15.837Z"
   },
   {
    "duration": 15,
    "start_time": "2024-05-23T23:49:15.864Z"
   },
   {
    "duration": 212,
    "start_time": "2024-05-23T23:49:15.883Z"
   },
   {
    "duration": 8,
    "start_time": "2024-05-23T23:49:16.101Z"
   },
   {
    "duration": 57,
    "start_time": "2024-05-23T23:49:16.113Z"
   },
   {
    "duration": 69,
    "start_time": "2024-05-23T23:49:16.174Z"
   },
   {
    "duration": 15,
    "start_time": "2024-05-23T23:49:16.247Z"
   },
   {
    "duration": 19,
    "start_time": "2024-05-23T23:49:16.264Z"
   },
   {
    "duration": 737,
    "start_time": "2024-05-23T23:49:16.287Z"
   },
   {
    "duration": 63,
    "start_time": "2024-05-23T23:49:17.036Z"
   },
   {
    "duration": 79,
    "start_time": "2024-05-23T23:49:17.103Z"
   },
   {
    "duration": 392,
    "start_time": "2024-05-23T23:49:17.185Z"
   },
   {
    "duration": 225,
    "start_time": "2024-05-23T23:49:17.580Z"
   },
   {
    "duration": 393,
    "start_time": "2024-05-23T23:49:17.808Z"
   },
   {
    "duration": 352,
    "start_time": "2024-05-23T23:49:18.204Z"
   },
   {
    "duration": 327,
    "start_time": "2024-05-23T23:49:18.559Z"
   },
   {
    "duration": 8,
    "start_time": "2024-05-23T23:49:18.889Z"
   },
   {
    "duration": 444,
    "start_time": "2024-05-23T23:49:18.900Z"
   },
   {
    "duration": 18,
    "start_time": "2024-05-23T23:49:19.347Z"
   },
   {
    "duration": 311,
    "start_time": "2024-05-23T23:49:19.367Z"
   },
   {
    "duration": 172,
    "start_time": "2024-05-23T23:49:19.681Z"
   },
   {
    "duration": 22,
    "start_time": "2024-05-23T23:49:19.856Z"
   },
   {
    "duration": 34,
    "start_time": "2024-05-23T23:49:29.137Z"
   },
   {
    "duration": 43,
    "start_time": "2024-05-24T00:16:36.941Z"
   },
   {
    "duration": 10,
    "start_time": "2024-05-24T00:19:34.311Z"
   },
   {
    "duration": 9,
    "start_time": "2024-05-24T00:19:48.137Z"
   },
   {
    "duration": 523,
    "start_time": "2024-05-24T00:39:45.715Z"
   },
   {
    "duration": 281,
    "start_time": "2024-05-24T00:46:30.825Z"
   },
   {
    "duration": 328,
    "start_time": "2024-05-24T00:47:30.766Z"
   },
   {
    "duration": 655,
    "start_time": "2024-05-24T00:47:41.905Z"
   },
   {
    "duration": 267,
    "start_time": "2024-05-24T00:47:55.086Z"
   },
   {
    "duration": 283,
    "start_time": "2024-05-24T00:48:06.817Z"
   },
   {
    "duration": 893,
    "start_time": "2024-05-24T00:48:43.951Z"
   },
   {
    "duration": 387,
    "start_time": "2024-05-24T00:49:02.395Z"
   },
   {
    "duration": 275,
    "start_time": "2024-05-24T00:49:22.846Z"
   },
   {
    "duration": 1260,
    "start_time": "2024-05-24T01:01:31.941Z"
   },
   {
    "duration": 227,
    "start_time": "2024-05-24T01:01:51.761Z"
   },
   {
    "duration": 209,
    "start_time": "2024-05-24T01:04:03.907Z"
   },
   {
    "duration": 76,
    "start_time": "2024-05-24T01:10:54.780Z"
   },
   {
    "duration": 29,
    "start_time": "2024-05-24T01:11:09.082Z"
   },
   {
    "duration": 25,
    "start_time": "2024-05-24T01:11:13.639Z"
   },
   {
    "duration": 24,
    "start_time": "2024-05-24T01:11:42.851Z"
   },
   {
    "duration": 8,
    "start_time": "2024-05-24T01:13:01.485Z"
   },
   {
    "duration": 24,
    "start_time": "2024-05-24T01:21:23.082Z"
   },
   {
    "duration": 4344,
    "start_time": "2024-05-24T03:15:45.959Z"
   },
   {
    "duration": 1666,
    "start_time": "2024-05-24T03:15:50.307Z"
   },
   {
    "duration": 19,
    "start_time": "2024-05-24T03:15:51.976Z"
   },
   {
    "duration": 35,
    "start_time": "2024-05-24T03:15:51.999Z"
   },
   {
    "duration": 19,
    "start_time": "2024-05-24T03:15:52.037Z"
   },
   {
    "duration": 14,
    "start_time": "2024-05-24T03:15:52.062Z"
   },
   {
    "duration": 15,
    "start_time": "2024-05-24T03:15:52.078Z"
   },
   {
    "duration": 51,
    "start_time": "2024-05-24T03:15:52.096Z"
   },
   {
    "duration": 204,
    "start_time": "2024-05-24T03:15:52.150Z"
   },
   {
    "duration": 14,
    "start_time": "2024-05-24T03:15:52.359Z"
   },
   {
    "duration": 226,
    "start_time": "2024-05-24T03:15:52.377Z"
   },
   {
    "duration": 194,
    "start_time": "2024-05-24T03:15:52.606Z"
   },
   {
    "duration": 68,
    "start_time": "2024-05-24T03:15:52.803Z"
   },
   {
    "duration": 26,
    "start_time": "2024-05-24T03:15:52.874Z"
   },
   {
    "duration": 7,
    "start_time": "2024-05-24T03:15:52.903Z"
   },
   {
    "duration": 48,
    "start_time": "2024-05-24T03:15:52.932Z"
   },
   {
    "duration": 22,
    "start_time": "2024-05-24T03:15:52.987Z"
   },
   {
    "duration": 11,
    "start_time": "2024-05-24T03:15:53.032Z"
   },
   {
    "duration": 10,
    "start_time": "2024-05-24T03:15:53.046Z"
   },
   {
    "duration": 10,
    "start_time": "2024-05-24T03:15:53.060Z"
   },
   {
    "duration": 10,
    "start_time": "2024-05-24T03:15:53.073Z"
   },
   {
    "duration": 1357,
    "start_time": "2024-05-24T03:15:53.133Z"
   },
   {
    "duration": 396,
    "start_time": "2024-05-24T03:15:54.494Z"
   },
   {
    "duration": 12,
    "start_time": "2024-05-24T03:15:54.894Z"
   },
   {
    "duration": 23,
    "start_time": "2024-05-24T03:15:54.909Z"
   },
   {
    "duration": 6,
    "start_time": "2024-05-24T03:15:54.935Z"
   },
   {
    "duration": 12,
    "start_time": "2024-05-24T03:15:54.944Z"
   },
   {
    "duration": 12,
    "start_time": "2024-05-24T03:15:54.964Z"
   },
   {
    "duration": 190,
    "start_time": "2024-05-24T03:15:54.980Z"
   },
   {
    "duration": 6,
    "start_time": "2024-05-24T03:15:55.173Z"
   },
   {
    "duration": 54,
    "start_time": "2024-05-24T03:15:55.184Z"
   },
   {
    "duration": 49,
    "start_time": "2024-05-24T03:15:55.242Z"
   },
   {
    "duration": 44,
    "start_time": "2024-05-24T03:15:55.294Z"
   },
   {
    "duration": 17,
    "start_time": "2024-05-24T03:15:55.341Z"
   },
   {
    "duration": 651,
    "start_time": "2024-05-24T03:15:55.361Z"
   },
   {
    "duration": 70,
    "start_time": "2024-05-24T03:15:56.015Z"
   },
   {
    "duration": 66,
    "start_time": "2024-05-24T03:15:56.088Z"
   },
   {
    "duration": 379,
    "start_time": "2024-05-24T03:15:56.157Z"
   },
   {
    "duration": 230,
    "start_time": "2024-05-24T03:15:56.539Z"
   },
   {
    "duration": 442,
    "start_time": "2024-05-24T03:15:56.772Z"
   },
   {
    "duration": 345,
    "start_time": "2024-05-24T03:15:57.217Z"
   },
   {
    "duration": 331,
    "start_time": "2024-05-24T03:15:57.565Z"
   },
   {
    "duration": 8,
    "start_time": "2024-05-24T03:15:57.899Z"
   },
   {
    "duration": 438,
    "start_time": "2024-05-24T03:15:57.910Z"
   },
   {
    "duration": 19,
    "start_time": "2024-05-24T03:15:58.351Z"
   },
   {
    "duration": 290,
    "start_time": "2024-05-24T03:15:58.373Z"
   },
   {
    "duration": 180,
    "start_time": "2024-05-24T03:15:58.667Z"
   },
   {
    "duration": 29,
    "start_time": "2024-05-24T03:15:58.849Z"
   },
   {
    "duration": 10,
    "start_time": "2024-05-24T03:15:58.881Z"
   },
   {
    "duration": 548,
    "start_time": "2024-05-24T03:15:58.894Z"
   },
   {
    "duration": 307,
    "start_time": "2024-05-24T03:15:59.445Z"
   },
   {
    "duration": 152,
    "start_time": "2024-05-24T03:15:59.756Z"
   },
   {
    "duration": 19,
    "start_time": "2024-05-24T03:15:59.913Z"
   },
   {
    "duration": 357,
    "start_time": "2024-05-24T03:15:59.935Z"
   },
   {
    "duration": 34,
    "start_time": "2024-05-24T03:16:05.380Z"
   },
   {
    "duration": 36,
    "start_time": "2024-05-24T03:16:24.472Z"
   },
   {
    "duration": 23,
    "start_time": "2024-05-24T03:16:37.346Z"
   },
   {
    "duration": 17,
    "start_time": "2024-05-24T03:17:06.361Z"
   },
   {
    "duration": 17,
    "start_time": "2024-05-24T03:17:35.239Z"
   },
   {
    "duration": 18,
    "start_time": "2024-05-24T03:21:12.386Z"
   },
   {
    "duration": 18,
    "start_time": "2024-05-24T03:21:18.490Z"
   },
   {
    "duration": 741,
    "start_time": "2024-05-24T03:21:35.152Z"
   },
   {
    "duration": 1583,
    "start_time": "2024-05-24T03:21:35.896Z"
   },
   {
    "duration": 20,
    "start_time": "2024-05-24T03:21:37.482Z"
   },
   {
    "duration": 36,
    "start_time": "2024-05-24T03:21:37.505Z"
   },
   {
    "duration": 12,
    "start_time": "2024-05-24T03:21:37.545Z"
   },
   {
    "duration": 15,
    "start_time": "2024-05-24T03:21:37.560Z"
   },
   {
    "duration": 14,
    "start_time": "2024-05-24T03:21:37.578Z"
   },
   {
    "duration": 18,
    "start_time": "2024-05-24T03:21:37.632Z"
   },
   {
    "duration": 200,
    "start_time": "2024-05-24T03:21:37.652Z"
   },
   {
    "duration": 14,
    "start_time": "2024-05-24T03:21:37.855Z"
   },
   {
    "duration": 235,
    "start_time": "2024-05-24T03:21:37.875Z"
   },
   {
    "duration": 186,
    "start_time": "2024-05-24T03:21:38.113Z"
   },
   {
    "duration": 66,
    "start_time": "2024-05-24T03:21:38.302Z"
   },
   {
    "duration": 28,
    "start_time": "2024-05-24T03:21:38.375Z"
   },
   {
    "duration": 30,
    "start_time": "2024-05-24T03:21:38.406Z"
   },
   {
    "duration": 36,
    "start_time": "2024-05-24T03:21:38.438Z"
   },
   {
    "duration": 18,
    "start_time": "2024-05-24T03:21:38.477Z"
   },
   {
    "duration": 9,
    "start_time": "2024-05-24T03:21:38.530Z"
   },
   {
    "duration": 8,
    "start_time": "2024-05-24T03:21:38.542Z"
   },
   {
    "duration": 10,
    "start_time": "2024-05-24T03:21:38.553Z"
   },
   {
    "duration": 9,
    "start_time": "2024-05-24T03:21:38.565Z"
   },
   {
    "duration": 1383,
    "start_time": "2024-05-24T03:21:38.578Z"
   },
   {
    "duration": 432,
    "start_time": "2024-05-24T03:21:39.964Z"
   },
   {
    "duration": 14,
    "start_time": "2024-05-24T03:21:40.398Z"
   },
   {
    "duration": 6,
    "start_time": "2024-05-24T03:21:40.431Z"
   },
   {
    "duration": 7,
    "start_time": "2024-05-24T03:21:40.440Z"
   },
   {
    "duration": 12,
    "start_time": "2024-05-24T03:21:40.450Z"
   },
   {
    "duration": 15,
    "start_time": "2024-05-24T03:21:40.466Z"
   },
   {
    "duration": 201,
    "start_time": "2024-05-24T03:21:40.484Z"
   },
   {
    "duration": 7,
    "start_time": "2024-05-24T03:21:40.688Z"
   },
   {
    "duration": 48,
    "start_time": "2024-05-24T03:21:40.698Z"
   },
   {
    "duration": 47,
    "start_time": "2024-05-24T03:21:40.749Z"
   },
   {
    "duration": 37,
    "start_time": "2024-05-24T03:21:40.799Z"
   },
   {
    "duration": 17,
    "start_time": "2024-05-24T03:21:40.839Z"
   },
   {
    "duration": 659,
    "start_time": "2024-05-24T03:21:40.859Z"
   },
   {
    "duration": 66,
    "start_time": "2024-05-24T03:21:41.521Z"
   },
   {
    "duration": 72,
    "start_time": "2024-05-24T03:21:41.591Z"
   },
   {
    "duration": 398,
    "start_time": "2024-05-24T03:21:41.665Z"
   },
   {
    "duration": 239,
    "start_time": "2024-05-24T03:21:42.066Z"
   },
   {
    "duration": 407,
    "start_time": "2024-05-24T03:21:42.308Z"
   },
   {
    "duration": 329,
    "start_time": "2024-05-24T03:21:42.733Z"
   },
   {
    "duration": 334,
    "start_time": "2024-05-24T03:21:43.065Z"
   },
   {
    "duration": 8,
    "start_time": "2024-05-24T03:21:43.402Z"
   },
   {
    "duration": 437,
    "start_time": "2024-05-24T03:21:43.430Z"
   },
   {
    "duration": 18,
    "start_time": "2024-05-24T03:21:43.871Z"
   },
   {
    "duration": 279,
    "start_time": "2024-05-24T03:21:43.892Z"
   },
   {
    "duration": 172,
    "start_time": "2024-05-24T03:21:44.174Z"
   },
   {
    "duration": 29,
    "start_time": "2024-05-24T03:21:44.348Z"
   },
   {
    "duration": 12,
    "start_time": "2024-05-24T03:21:44.380Z"
   },
   {
    "duration": 560,
    "start_time": "2024-05-24T03:21:44.396Z"
   },
   {
    "duration": 353,
    "start_time": "2024-05-24T03:21:44.959Z"
   },
   {
    "duration": 155,
    "start_time": "2024-05-24T03:21:45.315Z"
   },
   {
    "duration": 7,
    "start_time": "2024-05-24T03:21:45.473Z"
   },
   {
    "duration": 392,
    "start_time": "2024-05-24T03:21:45.483Z"
   },
   {
    "duration": 17,
    "start_time": "2024-05-24T03:22:25.111Z"
   },
   {
    "duration": 144,
    "start_time": "2024-05-24T03:22:29.451Z"
   },
   {
    "duration": 669,
    "start_time": "2024-05-24T03:22:41.000Z"
   },
   {
    "duration": 1621,
    "start_time": "2024-05-24T03:22:41.673Z"
   },
   {
    "duration": 18,
    "start_time": "2024-05-24T03:22:43.297Z"
   },
   {
    "duration": 16,
    "start_time": "2024-05-24T03:22:43.331Z"
   },
   {
    "duration": 11,
    "start_time": "2024-05-24T03:22:43.350Z"
   },
   {
    "duration": 14,
    "start_time": "2024-05-24T03:22:43.364Z"
   },
   {
    "duration": 55,
    "start_time": "2024-05-24T03:22:43.380Z"
   },
   {
    "duration": 17,
    "start_time": "2024-05-24T03:22:43.438Z"
   },
   {
    "duration": 198,
    "start_time": "2024-05-24T03:22:43.458Z"
   },
   {
    "duration": 15,
    "start_time": "2024-05-24T03:22:43.661Z"
   },
   {
    "duration": 215,
    "start_time": "2024-05-24T03:22:43.678Z"
   },
   {
    "duration": 186,
    "start_time": "2024-05-24T03:22:43.896Z"
   },
   {
    "duration": 66,
    "start_time": "2024-05-24T03:22:44.085Z"
   },
   {
    "duration": 28,
    "start_time": "2024-05-24T03:22:44.154Z"
   },
   {
    "duration": 7,
    "start_time": "2024-05-24T03:22:44.185Z"
   },
   {
    "duration": 66,
    "start_time": "2024-05-24T03:22:44.194Z"
   },
   {
    "duration": 19,
    "start_time": "2024-05-24T03:22:44.263Z"
   },
   {
    "duration": 15,
    "start_time": "2024-05-24T03:22:44.285Z"
   },
   {
    "duration": 10,
    "start_time": "2024-05-24T03:22:44.331Z"
   },
   {
    "duration": 11,
    "start_time": "2024-05-24T03:22:44.344Z"
   },
   {
    "duration": 9,
    "start_time": "2024-05-24T03:22:44.359Z"
   },
   {
    "duration": 1386,
    "start_time": "2024-05-24T03:22:44.372Z"
   },
   {
    "duration": 404,
    "start_time": "2024-05-24T03:22:45.761Z"
   },
   {
    "duration": 12,
    "start_time": "2024-05-24T03:22:46.170Z"
   },
   {
    "duration": 6,
    "start_time": "2024-05-24T03:22:46.185Z"
   },
   {
    "duration": 36,
    "start_time": "2024-05-24T03:22:46.194Z"
   },
   {
    "duration": 12,
    "start_time": "2024-05-24T03:22:46.234Z"
   },
   {
    "duration": 11,
    "start_time": "2024-05-24T03:22:46.254Z"
   },
   {
    "duration": 185,
    "start_time": "2024-05-24T03:22:46.269Z"
   },
   {
    "duration": 7,
    "start_time": "2024-05-24T03:22:46.457Z"
   },
   {
    "duration": 29,
    "start_time": "2024-05-24T03:22:46.467Z"
   },
   {
    "duration": 75,
    "start_time": "2024-05-24T03:22:46.498Z"
   },
   {
    "duration": 15,
    "start_time": "2024-05-24T03:22:46.576Z"
   },
   {
    "duration": 47,
    "start_time": "2024-05-24T03:22:46.594Z"
   },
   {
    "duration": 636,
    "start_time": "2024-05-24T03:22:46.645Z"
   },
   {
    "duration": 75,
    "start_time": "2024-05-24T03:22:47.284Z"
   },
   {
    "duration": 49,
    "start_time": "2024-05-24T03:22:47.362Z"
   },
   {
    "duration": 373,
    "start_time": "2024-05-24T03:22:47.414Z"
   },
   {
    "duration": 232,
    "start_time": "2024-05-24T03:22:47.791Z"
   },
   {
    "duration": 390,
    "start_time": "2024-05-24T03:22:48.025Z"
   },
   {
    "duration": 329,
    "start_time": "2024-05-24T03:22:48.418Z"
   },
   {
    "duration": 355,
    "start_time": "2024-05-24T03:22:48.749Z"
   },
   {
    "duration": 8,
    "start_time": "2024-05-24T03:22:49.107Z"
   },
   {
    "duration": 424,
    "start_time": "2024-05-24T03:22:49.130Z"
   },
   {
    "duration": 18,
    "start_time": "2024-05-24T03:22:49.557Z"
   },
   {
    "duration": 272,
    "start_time": "2024-05-24T03:22:49.578Z"
   },
   {
    "duration": 196,
    "start_time": "2024-05-24T03:22:49.853Z"
   },
   {
    "duration": 29,
    "start_time": "2024-05-24T03:22:50.052Z"
   },
   {
    "duration": 9,
    "start_time": "2024-05-24T03:22:50.084Z"
   },
   {
    "duration": 549,
    "start_time": "2024-05-24T03:22:50.096Z"
   },
   {
    "duration": 358,
    "start_time": "2024-05-24T03:22:50.647Z"
   },
   {
    "duration": 165,
    "start_time": "2024-05-24T03:22:51.007Z"
   },
   {
    "duration": 7,
    "start_time": "2024-05-24T03:22:51.175Z"
   },
   {
    "duration": 378,
    "start_time": "2024-05-24T03:22:51.185Z"
   },
   {
    "duration": 37,
    "start_time": "2024-05-24T03:27:06.717Z"
   },
   {
    "duration": 35,
    "start_time": "2024-05-24T03:27:35.508Z"
   },
   {
    "duration": 7,
    "start_time": "2024-05-24T03:27:44.953Z"
   },
   {
    "duration": 36,
    "start_time": "2024-05-24T03:27:56.696Z"
   },
   {
    "duration": 17,
    "start_time": "2024-05-24T03:28:05.794Z"
   },
   {
    "duration": 39,
    "start_time": "2024-05-24T03:28:59.045Z"
   },
   {
    "duration": 11,
    "start_time": "2024-05-24T03:29:59.572Z"
   },
   {
    "duration": 12,
    "start_time": "2024-05-24T03:30:54.225Z"
   },
   {
    "duration": 1721,
    "start_time": "2024-05-24T03:32:53.583Z"
   },
   {
    "duration": 357,
    "start_time": "2024-05-24T03:33:20.648Z"
   },
   {
    "duration": 714,
    "start_time": "2024-05-24T03:34:41.969Z"
   },
   {
    "duration": 1553,
    "start_time": "2024-05-24T03:34:42.687Z"
   },
   {
    "duration": 18,
    "start_time": "2024-05-24T03:34:44.243Z"
   },
   {
    "duration": 16,
    "start_time": "2024-05-24T03:34:44.264Z"
   },
   {
    "duration": 11,
    "start_time": "2024-05-24T03:34:44.285Z"
   },
   {
    "duration": 13,
    "start_time": "2024-05-24T03:34:44.332Z"
   },
   {
    "duration": 13,
    "start_time": "2024-05-24T03:34:44.348Z"
   },
   {
    "duration": 20,
    "start_time": "2024-05-24T03:34:44.363Z"
   },
   {
    "duration": 221,
    "start_time": "2024-05-24T03:34:44.389Z"
   },
   {
    "duration": 21,
    "start_time": "2024-05-24T03:34:44.613Z"
   },
   {
    "duration": 223,
    "start_time": "2024-05-24T03:34:44.636Z"
   },
   {
    "duration": 200,
    "start_time": "2024-05-24T03:34:44.862Z"
   },
   {
    "duration": 66,
    "start_time": "2024-05-24T03:34:45.065Z"
   },
   {
    "duration": 33,
    "start_time": "2024-05-24T03:34:45.140Z"
   },
   {
    "duration": 7,
    "start_time": "2024-05-24T03:34:45.177Z"
   },
   {
    "duration": 70,
    "start_time": "2024-05-24T03:34:45.187Z"
   },
   {
    "duration": 20,
    "start_time": "2024-05-24T03:34:45.260Z"
   },
   {
    "duration": 12,
    "start_time": "2024-05-24T03:34:45.282Z"
   },
   {
    "duration": 9,
    "start_time": "2024-05-24T03:34:45.330Z"
   },
   {
    "duration": 11,
    "start_time": "2024-05-24T03:34:45.342Z"
   },
   {
    "duration": 14,
    "start_time": "2024-05-24T03:34:45.356Z"
   },
   {
    "duration": 1555,
    "start_time": "2024-05-24T03:34:45.375Z"
   },
   {
    "duration": 0,
    "start_time": "2024-05-24T03:34:46.934Z"
   },
   {
    "duration": 0,
    "start_time": "2024-05-24T03:34:46.936Z"
   },
   {
    "duration": 0,
    "start_time": "2024-05-24T03:34:46.939Z"
   },
   {
    "duration": 0,
    "start_time": "2024-05-24T03:34:46.941Z"
   },
   {
    "duration": 0,
    "start_time": "2024-05-24T03:34:46.943Z"
   },
   {
    "duration": 0,
    "start_time": "2024-05-24T03:34:46.945Z"
   },
   {
    "duration": 0,
    "start_time": "2024-05-24T03:34:46.947Z"
   },
   {
    "duration": 0,
    "start_time": "2024-05-24T03:34:46.949Z"
   },
   {
    "duration": 0,
    "start_time": "2024-05-24T03:34:46.952Z"
   },
   {
    "duration": 0,
    "start_time": "2024-05-24T03:34:46.954Z"
   },
   {
    "duration": 0,
    "start_time": "2024-05-24T03:34:46.956Z"
   },
   {
    "duration": 0,
    "start_time": "2024-05-24T03:34:46.959Z"
   },
   {
    "duration": 0,
    "start_time": "2024-05-24T03:34:46.963Z"
   },
   {
    "duration": 0,
    "start_time": "2024-05-24T03:34:46.966Z"
   },
   {
    "duration": 0,
    "start_time": "2024-05-24T03:34:46.968Z"
   },
   {
    "duration": 0,
    "start_time": "2024-05-24T03:34:46.971Z"
   },
   {
    "duration": 0,
    "start_time": "2024-05-24T03:34:46.973Z"
   },
   {
    "duration": 0,
    "start_time": "2024-05-24T03:34:47.032Z"
   },
   {
    "duration": 0,
    "start_time": "2024-05-24T03:34:47.034Z"
   },
   {
    "duration": 0,
    "start_time": "2024-05-24T03:34:47.037Z"
   },
   {
    "duration": 0,
    "start_time": "2024-05-24T03:34:47.040Z"
   },
   {
    "duration": 0,
    "start_time": "2024-05-24T03:34:47.042Z"
   },
   {
    "duration": 0,
    "start_time": "2024-05-24T03:34:47.044Z"
   },
   {
    "duration": 0,
    "start_time": "2024-05-24T03:34:47.046Z"
   },
   {
    "duration": 0,
    "start_time": "2024-05-24T03:34:47.048Z"
   },
   {
    "duration": 0,
    "start_time": "2024-05-24T03:34:47.050Z"
   },
   {
    "duration": 0,
    "start_time": "2024-05-24T03:34:47.051Z"
   },
   {
    "duration": 0,
    "start_time": "2024-05-24T03:34:47.053Z"
   },
   {
    "duration": 0,
    "start_time": "2024-05-24T03:34:47.055Z"
   },
   {
    "duration": 0,
    "start_time": "2024-05-24T03:34:47.057Z"
   },
   {
    "duration": 0,
    "start_time": "2024-05-24T03:34:47.058Z"
   },
   {
    "duration": 0,
    "start_time": "2024-05-24T03:34:47.060Z"
   },
   {
    "duration": 27,
    "start_time": "2024-05-24T03:35:11.221Z"
   },
   {
    "duration": 765,
    "start_time": "2024-05-24T03:35:27.067Z"
   },
   {
    "duration": 1586,
    "start_time": "2024-05-24T03:35:27.836Z"
   },
   {
    "duration": 18,
    "start_time": "2024-05-24T03:35:29.430Z"
   },
   {
    "duration": 17,
    "start_time": "2024-05-24T03:35:29.452Z"
   },
   {
    "duration": 11,
    "start_time": "2024-05-24T03:35:29.472Z"
   },
   {
    "duration": 51,
    "start_time": "2024-05-24T03:35:29.487Z"
   },
   {
    "duration": 13,
    "start_time": "2024-05-24T03:35:29.540Z"
   },
   {
    "duration": 19,
    "start_time": "2024-05-24T03:35:29.557Z"
   },
   {
    "duration": 222,
    "start_time": "2024-05-24T03:35:29.579Z"
   },
   {
    "duration": 30,
    "start_time": "2024-05-24T03:35:29.807Z"
   },
   {
    "duration": 204,
    "start_time": "2024-05-24T03:35:29.840Z"
   },
   {
    "duration": 205,
    "start_time": "2024-05-24T03:35:30.048Z"
   },
   {
    "duration": 54,
    "start_time": "2024-05-24T03:35:30.256Z"
   },
   {
    "duration": 35,
    "start_time": "2024-05-24T03:35:30.329Z"
   },
   {
    "duration": 8,
    "start_time": "2024-05-24T03:35:30.367Z"
   },
   {
    "duration": 78,
    "start_time": "2024-05-24T03:35:30.379Z"
   },
   {
    "duration": 24,
    "start_time": "2024-05-24T03:35:30.461Z"
   },
   {
    "duration": 12,
    "start_time": "2024-05-24T03:35:30.488Z"
   },
   {
    "duration": 39,
    "start_time": "2024-05-24T03:35:30.502Z"
   },
   {
    "duration": 16,
    "start_time": "2024-05-24T03:35:30.544Z"
   },
   {
    "duration": 13,
    "start_time": "2024-05-24T03:35:30.562Z"
   },
   {
    "duration": 1796,
    "start_time": "2024-05-24T03:35:30.578Z"
   },
   {
    "duration": 0,
    "start_time": "2024-05-24T03:35:32.379Z"
   },
   {
    "duration": 0,
    "start_time": "2024-05-24T03:35:32.381Z"
   },
   {
    "duration": 0,
    "start_time": "2024-05-24T03:35:32.383Z"
   },
   {
    "duration": 0,
    "start_time": "2024-05-24T03:35:32.390Z"
   },
   {
    "duration": 0,
    "start_time": "2024-05-24T03:35:32.393Z"
   },
   {
    "duration": 0,
    "start_time": "2024-05-24T03:35:32.394Z"
   },
   {
    "duration": 0,
    "start_time": "2024-05-24T03:35:32.397Z"
   },
   {
    "duration": 0,
    "start_time": "2024-05-24T03:35:32.399Z"
   },
   {
    "duration": 0,
    "start_time": "2024-05-24T03:35:32.430Z"
   },
   {
    "duration": 0,
    "start_time": "2024-05-24T03:35:32.432Z"
   },
   {
    "duration": 0,
    "start_time": "2024-05-24T03:35:32.435Z"
   },
   {
    "duration": 0,
    "start_time": "2024-05-24T03:35:32.439Z"
   },
   {
    "duration": 0,
    "start_time": "2024-05-24T03:35:32.442Z"
   },
   {
    "duration": 0,
    "start_time": "2024-05-24T03:35:32.444Z"
   },
   {
    "duration": 0,
    "start_time": "2024-05-24T03:35:32.446Z"
   },
   {
    "duration": 0,
    "start_time": "2024-05-24T03:35:32.449Z"
   },
   {
    "duration": 0,
    "start_time": "2024-05-24T03:35:32.451Z"
   },
   {
    "duration": 0,
    "start_time": "2024-05-24T03:35:32.453Z"
   },
   {
    "duration": 0,
    "start_time": "2024-05-24T03:35:32.456Z"
   },
   {
    "duration": 0,
    "start_time": "2024-05-24T03:35:32.458Z"
   },
   {
    "duration": 0,
    "start_time": "2024-05-24T03:35:32.462Z"
   },
   {
    "duration": 0,
    "start_time": "2024-05-24T03:35:32.464Z"
   },
   {
    "duration": 0,
    "start_time": "2024-05-24T03:35:32.466Z"
   },
   {
    "duration": 0,
    "start_time": "2024-05-24T03:35:32.468Z"
   },
   {
    "duration": 0,
    "start_time": "2024-05-24T03:35:32.470Z"
   },
   {
    "duration": 0,
    "start_time": "2024-05-24T03:35:32.472Z"
   },
   {
    "duration": 0,
    "start_time": "2024-05-24T03:35:32.531Z"
   },
   {
    "duration": 0,
    "start_time": "2024-05-24T03:35:32.533Z"
   },
   {
    "duration": 0,
    "start_time": "2024-05-24T03:35:32.535Z"
   },
   {
    "duration": 0,
    "start_time": "2024-05-24T03:35:32.537Z"
   },
   {
    "duration": 0,
    "start_time": "2024-05-24T03:35:32.539Z"
   },
   {
    "duration": 0,
    "start_time": "2024-05-24T03:35:32.542Z"
   },
   {
    "duration": 1415,
    "start_time": "2024-05-24T03:37:43.687Z"
   },
   {
    "duration": 376,
    "start_time": "2024-05-24T03:37:51.121Z"
   },
   {
    "duration": 8,
    "start_time": "2024-05-24T03:38:06.437Z"
   },
   {
    "duration": 6,
    "start_time": "2024-05-24T03:38:08.287Z"
   },
   {
    "duration": 9,
    "start_time": "2024-05-24T03:38:10.738Z"
   },
   {
    "duration": 12,
    "start_time": "2024-05-24T03:38:12.306Z"
   },
   {
    "duration": 13,
    "start_time": "2024-05-24T03:38:13.887Z"
   },
   {
    "duration": 146,
    "start_time": "2024-05-24T03:38:16.097Z"
   },
   {
    "duration": 7,
    "start_time": "2024-05-24T03:38:16.975Z"
   },
   {
    "duration": 38,
    "start_time": "2024-05-24T03:38:25.748Z"
   },
   {
    "duration": 683,
    "start_time": "2024-05-24T03:39:17.086Z"
   },
   {
    "duration": 1568,
    "start_time": "2024-05-24T03:39:17.772Z"
   },
   {
    "duration": 18,
    "start_time": "2024-05-24T03:39:19.343Z"
   },
   {
    "duration": 17,
    "start_time": "2024-05-24T03:39:19.365Z"
   },
   {
    "duration": 46,
    "start_time": "2024-05-24T03:39:19.385Z"
   },
   {
    "duration": 15,
    "start_time": "2024-05-24T03:39:19.433Z"
   },
   {
    "duration": 14,
    "start_time": "2024-05-24T03:39:19.451Z"
   },
   {
    "duration": 19,
    "start_time": "2024-05-24T03:39:19.468Z"
   },
   {
    "duration": 247,
    "start_time": "2024-05-24T03:39:19.489Z"
   },
   {
    "duration": 14,
    "start_time": "2024-05-24T03:39:19.741Z"
   },
   {
    "duration": 219,
    "start_time": "2024-05-24T03:39:19.758Z"
   },
   {
    "duration": 189,
    "start_time": "2024-05-24T03:39:19.979Z"
   },
   {
    "duration": 65,
    "start_time": "2024-05-24T03:39:20.171Z"
   },
   {
    "duration": 35,
    "start_time": "2024-05-24T03:39:20.240Z"
   },
   {
    "duration": 7,
    "start_time": "2024-05-24T03:39:20.278Z"
   },
   {
    "duration": 63,
    "start_time": "2024-05-24T03:39:20.289Z"
   },
   {
    "duration": 17,
    "start_time": "2024-05-24T03:39:20.356Z"
   },
   {
    "duration": 12,
    "start_time": "2024-05-24T03:39:20.376Z"
   },
   {
    "duration": 40,
    "start_time": "2024-05-24T03:39:20.391Z"
   },
   {
    "duration": 13,
    "start_time": "2024-05-24T03:39:20.435Z"
   },
   {
    "duration": 8,
    "start_time": "2024-05-24T03:39:20.452Z"
   },
   {
    "duration": 1473,
    "start_time": "2024-05-24T03:39:20.464Z"
   },
   {
    "duration": 413,
    "start_time": "2024-05-24T03:39:21.940Z"
   },
   {
    "duration": 9,
    "start_time": "2024-05-24T03:39:22.356Z"
   },
   {
    "duration": 7,
    "start_time": "2024-05-24T03:39:22.368Z"
   },
   {
    "duration": 10,
    "start_time": "2024-05-24T03:39:22.378Z"
   },
   {
    "duration": 50,
    "start_time": "2024-05-24T03:39:22.391Z"
   },
   {
    "duration": 12,
    "start_time": "2024-05-24T03:39:22.450Z"
   },
   {
    "duration": 177,
    "start_time": "2024-05-24T03:39:22.465Z"
   },
   {
    "duration": 8,
    "start_time": "2024-05-24T03:39:22.645Z"
   },
   {
    "duration": 28,
    "start_time": "2024-05-24T03:39:22.656Z"
   },
   {
    "duration": 79,
    "start_time": "2024-05-24T03:39:22.687Z"
   },
   {
    "duration": 14,
    "start_time": "2024-05-24T03:39:22.770Z"
   },
   {
    "duration": 46,
    "start_time": "2024-05-24T03:39:22.789Z"
   },
   {
    "duration": 649,
    "start_time": "2024-05-24T03:39:22.839Z"
   },
   {
    "duration": 72,
    "start_time": "2024-05-24T03:39:23.490Z"
   },
   {
    "duration": 85,
    "start_time": "2024-05-24T03:39:23.565Z"
   },
   {
    "duration": 365,
    "start_time": "2024-05-24T03:39:23.653Z"
   },
   {
    "duration": 241,
    "start_time": "2024-05-24T03:39:24.021Z"
   },
   {
    "duration": 401,
    "start_time": "2024-05-24T03:39:24.265Z"
   },
   {
    "duration": 333,
    "start_time": "2024-05-24T03:39:24.668Z"
   },
   {
    "duration": 339,
    "start_time": "2024-05-24T03:39:25.003Z"
   },
   {
    "duration": 9,
    "start_time": "2024-05-24T03:39:25.345Z"
   },
   {
    "duration": 446,
    "start_time": "2024-05-24T03:39:25.357Z"
   },
   {
    "duration": 30,
    "start_time": "2024-05-24T03:39:25.805Z"
   },
   {
    "duration": 278,
    "start_time": "2024-05-24T03:39:25.838Z"
   },
   {
    "duration": 173,
    "start_time": "2024-05-24T03:39:26.120Z"
   },
   {
    "duration": 47,
    "start_time": "2024-05-24T03:39:26.297Z"
   },
   {
    "duration": 10,
    "start_time": "2024-05-24T03:39:26.347Z"
   },
   {
    "duration": 538,
    "start_time": "2024-05-24T03:39:26.360Z"
   },
   {
    "duration": 360,
    "start_time": "2024-05-24T03:39:26.902Z"
   },
   {
    "duration": 165,
    "start_time": "2024-05-24T03:39:27.265Z"
   },
   {
    "duration": 517,
    "start_time": "2024-05-24T03:39:27.434Z"
   },
   {
    "duration": 0,
    "start_time": "2024-05-24T03:39:27.954Z"
   },
   {
    "duration": 8,
    "start_time": "2024-05-24T03:39:44.292Z"
   },
   {
    "duration": 32,
    "start_time": "2024-05-24T03:41:04.167Z"
   },
   {
    "duration": 32,
    "start_time": "2024-05-24T03:41:17.042Z"
   },
   {
    "duration": 33,
    "start_time": "2024-05-24T03:42:02.861Z"
   },
   {
    "duration": 7,
    "start_time": "2024-05-24T03:42:04.626Z"
   },
   {
    "duration": 37,
    "start_time": "2024-05-24T03:42:06.062Z"
   },
   {
    "duration": 18,
    "start_time": "2024-05-24T03:42:08.638Z"
   },
   {
    "duration": 11,
    "start_time": "2024-05-24T03:42:11.616Z"
   },
   {
    "duration": 9,
    "start_time": "2024-05-24T03:42:14.460Z"
   },
   {
    "duration": 11,
    "start_time": "2024-05-24T03:42:16.769Z"
   },
   {
    "duration": 9,
    "start_time": "2024-05-24T03:42:18.208Z"
   },
   {
    "duration": 1796,
    "start_time": "2024-05-24T03:42:20.261Z"
   },
   {
    "duration": 407,
    "start_time": "2024-05-24T03:42:25.460Z"
   },
   {
    "duration": 434,
    "start_time": "2024-05-24T03:42:27.563Z"
   },
   {
    "duration": 9,
    "start_time": "2024-05-24T03:42:31.937Z"
   },
   {
    "duration": 11,
    "start_time": "2024-05-24T03:43:59.906Z"
   },
   {
    "duration": 11,
    "start_time": "2024-05-24T03:44:16.931Z"
   },
   {
    "duration": 8,
    "start_time": "2024-05-24T03:44:34.868Z"
   },
   {
    "duration": 440,
    "start_time": "2024-05-24T03:44:47.748Z"
   },
   {
    "duration": 28,
    "start_time": "2024-05-24T03:45:45.941Z"
   },
   {
    "duration": 711,
    "start_time": "2024-05-24T03:45:52.264Z"
   },
   {
    "duration": 1563,
    "start_time": "2024-05-24T03:45:52.979Z"
   },
   {
    "duration": 19,
    "start_time": "2024-05-24T03:45:54.544Z"
   },
   {
    "duration": 18,
    "start_time": "2024-05-24T03:45:54.566Z"
   },
   {
    "duration": 43,
    "start_time": "2024-05-24T03:45:54.589Z"
   },
   {
    "duration": 18,
    "start_time": "2024-05-24T03:45:54.636Z"
   },
   {
    "duration": 18,
    "start_time": "2024-05-24T03:45:54.658Z"
   },
   {
    "duration": 62,
    "start_time": "2024-05-24T03:45:54.680Z"
   },
   {
    "duration": 191,
    "start_time": "2024-05-24T03:45:54.744Z"
   },
   {
    "duration": 14,
    "start_time": "2024-05-24T03:45:54.939Z"
   },
   {
    "duration": 220,
    "start_time": "2024-05-24T03:45:54.956Z"
   },
   {
    "duration": 193,
    "start_time": "2024-05-24T03:45:55.179Z"
   },
   {
    "duration": 67,
    "start_time": "2024-05-24T03:45:55.377Z"
   },
   {
    "duration": 26,
    "start_time": "2024-05-24T03:45:55.452Z"
   },
   {
    "duration": 8,
    "start_time": "2024-05-24T03:45:55.481Z"
   },
   {
    "duration": 63,
    "start_time": "2024-05-24T03:45:55.492Z"
   },
   {
    "duration": 18,
    "start_time": "2024-05-24T03:45:55.559Z"
   },
   {
    "duration": 12,
    "start_time": "2024-05-24T03:45:55.579Z"
   },
   {
    "duration": 42,
    "start_time": "2024-05-24T03:45:55.594Z"
   },
   {
    "duration": 13,
    "start_time": "2024-05-24T03:45:55.640Z"
   },
   {
    "duration": 8,
    "start_time": "2024-05-24T03:45:55.656Z"
   },
   {
    "duration": 1477,
    "start_time": "2024-05-24T03:45:55.668Z"
   },
   {
    "duration": 399,
    "start_time": "2024-05-24T03:45:57.148Z"
   },
   {
    "duration": 16,
    "start_time": "2024-05-24T03:45:57.550Z"
   },
   {
    "duration": 7,
    "start_time": "2024-05-24T03:45:57.569Z"
   },
   {
    "duration": 6,
    "start_time": "2024-05-24T03:45:57.579Z"
   },
   {
    "duration": 48,
    "start_time": "2024-05-24T03:45:57.589Z"
   },
   {
    "duration": 13,
    "start_time": "2024-05-24T03:45:57.640Z"
   },
   {
    "duration": 174,
    "start_time": "2024-05-24T03:45:57.656Z"
   },
   {
    "duration": 7,
    "start_time": "2024-05-24T03:45:57.833Z"
   },
   {
    "duration": 27,
    "start_time": "2024-05-24T03:45:57.843Z"
   },
   {
    "duration": 83,
    "start_time": "2024-05-24T03:45:57.874Z"
   },
   {
    "duration": 15,
    "start_time": "2024-05-24T03:45:57.960Z"
   },
   {
    "duration": 18,
    "start_time": "2024-05-24T03:45:57.979Z"
   },
   {
    "duration": 637,
    "start_time": "2024-05-24T03:45:58.033Z"
   },
   {
    "duration": 73,
    "start_time": "2024-05-24T03:45:58.673Z"
   },
   {
    "duration": 50,
    "start_time": "2024-05-24T03:45:58.749Z"
   },
   {
    "duration": 391,
    "start_time": "2024-05-24T03:45:58.803Z"
   },
   {
    "duration": 226,
    "start_time": "2024-05-24T03:45:59.197Z"
   },
   {
    "duration": 384,
    "start_time": "2024-05-24T03:45:59.430Z"
   },
   {
    "duration": 329,
    "start_time": "2024-05-24T03:45:59.829Z"
   },
   {
    "duration": 348,
    "start_time": "2024-05-24T03:46:00.161Z"
   },
   {
    "duration": 8,
    "start_time": "2024-05-24T03:46:00.512Z"
   },
   {
    "duration": 443,
    "start_time": "2024-05-24T03:46:00.530Z"
   },
   {
    "duration": 19,
    "start_time": "2024-05-24T03:46:00.976Z"
   },
   {
    "duration": 266,
    "start_time": "2024-05-24T03:46:00.998Z"
   },
   {
    "duration": 186,
    "start_time": "2024-05-24T03:46:01.267Z"
   },
   {
    "duration": 29,
    "start_time": "2024-05-24T03:46:01.455Z"
   },
   {
    "duration": 10,
    "start_time": "2024-05-24T03:46:01.486Z"
   },
   {
    "duration": 555,
    "start_time": "2024-05-24T03:46:01.529Z"
   },
   {
    "duration": 385,
    "start_time": "2024-05-24T03:46:02.087Z"
   },
   {
    "duration": 158,
    "start_time": "2024-05-24T03:46:02.475Z"
   },
   {
    "duration": 386,
    "start_time": "2024-05-24T03:46:02.636Z"
   },
   {
    "duration": 0,
    "start_time": "2024-05-24T03:46:03.025Z"
   },
   {
    "duration": 10,
    "start_time": "2024-05-24T03:48:29.381Z"
   },
   {
    "duration": 386,
    "start_time": "2024-05-24T03:52:08.334Z"
   },
   {
    "duration": 914,
    "start_time": "2024-05-24T03:54:35.704Z"
   },
   {
    "duration": 17,
    "start_time": "2024-05-24T03:55:04.096Z"
   },
   {
    "duration": 266,
    "start_time": "2024-05-24T03:55:07.925Z"
   },
   {
    "duration": 250,
    "start_time": "2024-05-24T03:55:22.876Z"
   },
   {
    "duration": 19,
    "start_time": "2024-05-24T03:55:42.235Z"
   },
   {
    "duration": 261,
    "start_time": "2024-05-24T03:55:56.053Z"
   },
   {
    "duration": 95,
    "start_time": "2024-05-24T03:56:44.829Z"
   },
   {
    "duration": 17,
    "start_time": "2024-05-24T03:56:52.272Z"
   },
   {
    "duration": 251,
    "start_time": "2024-05-24T03:56:55.431Z"
   },
   {
    "duration": 164,
    "start_time": "2024-05-24T03:58:40.261Z"
   },
   {
    "duration": 61,
    "start_time": "2024-05-24T03:58:46.534Z"
   },
   {
    "duration": 163,
    "start_time": "2024-05-24T03:59:04.919Z"
   },
   {
    "duration": 28,
    "start_time": "2024-05-24T03:59:05.889Z"
   },
   {
    "duration": 717,
    "start_time": "2024-05-24T04:00:33.939Z"
   },
   {
    "duration": 1643,
    "start_time": "2024-05-24T04:00:34.659Z"
   },
   {
    "duration": 19,
    "start_time": "2024-05-24T04:00:36.305Z"
   },
   {
    "duration": 16,
    "start_time": "2024-05-24T04:00:36.333Z"
   },
   {
    "duration": 11,
    "start_time": "2024-05-24T04:00:36.352Z"
   },
   {
    "duration": 15,
    "start_time": "2024-05-24T04:00:36.368Z"
   },
   {
    "duration": 56,
    "start_time": "2024-05-24T04:00:36.387Z"
   },
   {
    "duration": 18,
    "start_time": "2024-05-24T04:00:36.446Z"
   },
   {
    "duration": 218,
    "start_time": "2024-05-24T04:00:36.467Z"
   },
   {
    "duration": 14,
    "start_time": "2024-05-24T04:00:36.690Z"
   },
   {
    "duration": 229,
    "start_time": "2024-05-24T04:00:36.707Z"
   },
   {
    "duration": 203,
    "start_time": "2024-05-24T04:00:36.939Z"
   },
   {
    "duration": 56,
    "start_time": "2024-05-24T04:00:37.145Z"
   },
   {
    "duration": 47,
    "start_time": "2024-05-24T04:00:37.204Z"
   },
   {
    "duration": 11,
    "start_time": "2024-05-24T04:00:37.254Z"
   },
   {
    "duration": 70,
    "start_time": "2024-05-24T04:00:37.270Z"
   },
   {
    "duration": 21,
    "start_time": "2024-05-24T04:00:37.343Z"
   },
   {
    "duration": 14,
    "start_time": "2024-05-24T04:00:37.367Z"
   },
   {
    "duration": 46,
    "start_time": "2024-05-24T04:00:37.384Z"
   },
   {
    "duration": 15,
    "start_time": "2024-05-24T04:00:37.433Z"
   },
   {
    "duration": 8,
    "start_time": "2024-05-24T04:00:37.451Z"
   },
   {
    "duration": 1401,
    "start_time": "2024-05-24T04:00:37.462Z"
   },
   {
    "duration": 399,
    "start_time": "2024-05-24T04:00:38.866Z"
   },
   {
    "duration": 14,
    "start_time": "2024-05-24T04:00:39.269Z"
   },
   {
    "duration": 6,
    "start_time": "2024-05-24T04:00:39.287Z"
   },
   {
    "duration": 36,
    "start_time": "2024-05-24T04:00:39.297Z"
   },
   {
    "duration": 12,
    "start_time": "2024-05-24T04:00:39.337Z"
   },
   {
    "duration": 12,
    "start_time": "2024-05-24T04:00:39.359Z"
   },
   {
    "duration": 9,
    "start_time": "2024-05-24T04:00:39.374Z"
   },
   {
    "duration": 7,
    "start_time": "2024-05-24T04:00:39.430Z"
   },
   {
    "duration": 29,
    "start_time": "2024-05-24T04:00:39.440Z"
   },
   {
    "duration": 84,
    "start_time": "2024-05-24T04:00:39.472Z"
   },
   {
    "duration": 16,
    "start_time": "2024-05-24T04:00:39.560Z"
   },
   {
    "duration": 19,
    "start_time": "2024-05-24T04:00:39.580Z"
   },
   {
    "duration": 687,
    "start_time": "2024-05-24T04:00:39.632Z"
   },
   {
    "duration": 73,
    "start_time": "2024-05-24T04:00:40.322Z"
   },
   {
    "duration": 75,
    "start_time": "2024-05-24T04:00:40.398Z"
   },
   {
    "duration": 390,
    "start_time": "2024-05-24T04:00:40.476Z"
   },
   {
    "duration": 230,
    "start_time": "2024-05-24T04:00:40.869Z"
   },
   {
    "duration": 385,
    "start_time": "2024-05-24T04:00:41.102Z"
   },
   {
    "duration": 341,
    "start_time": "2024-05-24T04:00:41.490Z"
   },
   {
    "duration": 358,
    "start_time": "2024-05-24T04:00:41.835Z"
   },
   {
    "duration": 9,
    "start_time": "2024-05-24T04:00:42.196Z"
   },
   {
    "duration": 451,
    "start_time": "2024-05-24T04:00:42.208Z"
   },
   {
    "duration": 18,
    "start_time": "2024-05-24T04:00:42.662Z"
   },
   {
    "duration": 270,
    "start_time": "2024-05-24T04:00:42.683Z"
   },
   {
    "duration": 188,
    "start_time": "2024-05-24T04:00:42.956Z"
   },
   {
    "duration": 29,
    "start_time": "2024-05-24T04:00:43.147Z"
   },
   {
    "duration": 9,
    "start_time": "2024-05-24T04:00:43.178Z"
   },
   {
    "duration": 564,
    "start_time": "2024-05-24T04:00:43.191Z"
   },
   {
    "duration": 356,
    "start_time": "2024-05-24T04:00:43.758Z"
   },
   {
    "duration": 154,
    "start_time": "2024-05-24T04:00:44.118Z"
   },
   {
    "duration": 371,
    "start_time": "2024-05-24T04:00:44.275Z"
   },
   {
    "duration": 0,
    "start_time": "2024-05-24T04:00:44.649Z"
   },
   {
    "duration": 705,
    "start_time": "2024-05-24T04:02:28.365Z"
   },
   {
    "duration": 1557,
    "start_time": "2024-05-24T04:02:29.074Z"
   },
   {
    "duration": 19,
    "start_time": "2024-05-24T04:02:30.633Z"
   },
   {
    "duration": 17,
    "start_time": "2024-05-24T04:02:30.656Z"
   },
   {
    "duration": 12,
    "start_time": "2024-05-24T04:02:30.676Z"
   },
   {
    "duration": 45,
    "start_time": "2024-05-24T04:02:30.693Z"
   },
   {
    "duration": 13,
    "start_time": "2024-05-24T04:02:30.741Z"
   },
   {
    "duration": 18,
    "start_time": "2024-05-24T04:02:30.756Z"
   },
   {
    "duration": 253,
    "start_time": "2024-05-24T04:02:30.777Z"
   },
   {
    "duration": 13,
    "start_time": "2024-05-24T04:02:31.036Z"
   },
   {
    "duration": 216,
    "start_time": "2024-05-24T04:02:31.052Z"
   },
   {
    "duration": 190,
    "start_time": "2024-05-24T04:02:31.271Z"
   },
   {
    "duration": 68,
    "start_time": "2024-05-24T04:02:31.464Z"
   },
   {
    "duration": 25,
    "start_time": "2024-05-24T04:02:31.535Z"
   },
   {
    "duration": 7,
    "start_time": "2024-05-24T04:02:31.563Z"
   },
   {
    "duration": 65,
    "start_time": "2024-05-24T04:02:31.572Z"
   },
   {
    "duration": 17,
    "start_time": "2024-05-24T04:02:31.640Z"
   },
   {
    "duration": 11,
    "start_time": "2024-05-24T04:02:31.660Z"
   },
   {
    "duration": 9,
    "start_time": "2024-05-24T04:02:31.675Z"
   },
   {
    "duration": 11,
    "start_time": "2024-05-24T04:02:31.730Z"
   },
   {
    "duration": 9,
    "start_time": "2024-05-24T04:02:31.744Z"
   },
   {
    "duration": 1456,
    "start_time": "2024-05-24T04:02:31.756Z"
   },
   {
    "duration": 423,
    "start_time": "2024-05-24T04:02:33.215Z"
   },
   {
    "duration": 12,
    "start_time": "2024-05-24T04:02:33.641Z"
   },
   {
    "duration": 6,
    "start_time": "2024-05-24T04:02:33.656Z"
   },
   {
    "duration": 7,
    "start_time": "2024-05-24T04:02:33.666Z"
   },
   {
    "duration": 13,
    "start_time": "2024-05-24T04:02:33.676Z"
   },
   {
    "duration": 12,
    "start_time": "2024-05-24T04:02:33.738Z"
   },
   {
    "duration": 9,
    "start_time": "2024-05-24T04:02:33.753Z"
   },
   {
    "duration": 7,
    "start_time": "2024-05-24T04:02:33.765Z"
   },
   {
    "duration": 77,
    "start_time": "2024-05-24T04:02:33.775Z"
   },
   {
    "duration": 48,
    "start_time": "2024-05-24T04:02:33.855Z"
   },
   {
    "duration": 33,
    "start_time": "2024-05-24T04:02:33.907Z"
   },
   {
    "duration": 17,
    "start_time": "2024-05-24T04:02:33.943Z"
   },
   {
    "duration": 690,
    "start_time": "2024-05-24T04:02:33.963Z"
   },
   {
    "duration": 75,
    "start_time": "2024-05-24T04:02:34.656Z"
   },
   {
    "duration": 50,
    "start_time": "2024-05-24T04:02:34.734Z"
   },
   {
    "duration": 373,
    "start_time": "2024-05-24T04:02:34.786Z"
   },
   {
    "duration": 233,
    "start_time": "2024-05-24T04:02:35.162Z"
   },
   {
    "duration": 427,
    "start_time": "2024-05-24T04:02:35.398Z"
   },
   {
    "duration": 388,
    "start_time": "2024-05-24T04:02:35.828Z"
   },
   {
    "duration": 340,
    "start_time": "2024-05-24T04:02:36.219Z"
   },
   {
    "duration": 9,
    "start_time": "2024-05-24T04:02:36.563Z"
   },
   {
    "duration": 459,
    "start_time": "2024-05-24T04:02:36.576Z"
   },
   {
    "duration": 17,
    "start_time": "2024-05-24T04:02:37.039Z"
   },
   {
    "duration": 266,
    "start_time": "2024-05-24T04:02:37.059Z"
   },
   {
    "duration": 174,
    "start_time": "2024-05-24T04:02:37.331Z"
   },
   {
    "duration": 40,
    "start_time": "2024-05-24T04:02:37.510Z"
   },
   {
    "duration": 9,
    "start_time": "2024-05-24T04:02:37.554Z"
   },
   {
    "duration": 564,
    "start_time": "2024-05-24T04:02:37.566Z"
   },
   {
    "duration": 351,
    "start_time": "2024-05-24T04:02:38.133Z"
   },
   {
    "duration": 157,
    "start_time": "2024-05-24T04:02:38.487Z"
   },
   {
    "duration": 383,
    "start_time": "2024-05-24T04:02:38.650Z"
   },
   {
    "duration": 0,
    "start_time": "2024-05-24T04:02:39.036Z"
   },
   {
    "duration": 7,
    "start_time": "2024-05-24T04:03:46.461Z"
   },
   {
    "duration": 26,
    "start_time": "2024-05-24T04:03:59.666Z"
   },
   {
    "duration": 8,
    "start_time": "2024-05-24T04:05:18.751Z"
   },
   {
    "duration": 36,
    "start_time": "2024-05-24T04:05:23.758Z"
   },
   {
    "duration": 1762,
    "start_time": "2024-05-24T04:06:10.749Z"
   },
   {
    "duration": 690,
    "start_time": "2024-05-24T04:06:24.173Z"
   },
   {
    "duration": 1567,
    "start_time": "2024-05-24T04:06:24.866Z"
   },
   {
    "duration": 20,
    "start_time": "2024-05-24T04:06:26.436Z"
   },
   {
    "duration": 17,
    "start_time": "2024-05-24T04:06:26.459Z"
   },
   {
    "duration": 12,
    "start_time": "2024-05-24T04:06:26.478Z"
   },
   {
    "duration": 49,
    "start_time": "2024-05-24T04:06:26.493Z"
   },
   {
    "duration": 13,
    "start_time": "2024-05-24T04:06:26.544Z"
   },
   {
    "duration": 18,
    "start_time": "2024-05-24T04:06:26.560Z"
   },
   {
    "duration": 235,
    "start_time": "2024-05-24T04:06:26.581Z"
   },
   {
    "duration": 18,
    "start_time": "2024-05-24T04:06:26.824Z"
   },
   {
    "duration": 213,
    "start_time": "2024-05-24T04:06:26.846Z"
   },
   {
    "duration": 191,
    "start_time": "2024-05-24T04:06:27.063Z"
   },
   {
    "duration": 57,
    "start_time": "2024-05-24T04:06:27.257Z"
   },
   {
    "duration": 26,
    "start_time": "2024-05-24T04:06:27.332Z"
   },
   {
    "duration": 7,
    "start_time": "2024-05-24T04:06:27.360Z"
   },
   {
    "duration": 69,
    "start_time": "2024-05-24T04:06:27.370Z"
   },
   {
    "duration": 18,
    "start_time": "2024-05-24T04:06:27.443Z"
   },
   {
    "duration": 12,
    "start_time": "2024-05-24T04:06:27.464Z"
   },
   {
    "duration": 10,
    "start_time": "2024-05-24T04:06:27.479Z"
   },
   {
    "duration": 11,
    "start_time": "2024-05-24T04:06:27.529Z"
   },
   {
    "duration": 9,
    "start_time": "2024-05-24T04:06:27.543Z"
   },
   {
    "duration": 1442,
    "start_time": "2024-05-24T04:06:27.556Z"
   },
   {
    "duration": 410,
    "start_time": "2024-05-24T04:06:29.002Z"
   },
   {
    "duration": 21,
    "start_time": "2024-05-24T04:06:29.414Z"
   },
   {
    "duration": 9,
    "start_time": "2024-05-24T04:06:29.438Z"
   },
   {
    "duration": 6,
    "start_time": "2024-05-24T04:06:29.450Z"
   },
   {
    "duration": 13,
    "start_time": "2024-05-24T04:06:29.459Z"
   },
   {
    "duration": 51,
    "start_time": "2024-05-24T04:06:29.480Z"
   },
   {
    "duration": 10,
    "start_time": "2024-05-24T04:06:29.533Z"
   },
   {
    "duration": 7,
    "start_time": "2024-05-24T04:06:29.546Z"
   },
   {
    "duration": 28,
    "start_time": "2024-05-24T04:06:29.556Z"
   },
   {
    "duration": 88,
    "start_time": "2024-05-24T04:06:29.587Z"
   },
   {
    "duration": 14,
    "start_time": "2024-05-24T04:06:29.679Z"
   },
   {
    "duration": 44,
    "start_time": "2024-05-24T04:06:29.696Z"
   },
   {
    "duration": 689,
    "start_time": "2024-05-24T04:06:29.743Z"
   },
   {
    "duration": 59,
    "start_time": "2024-05-24T04:06:30.435Z"
   },
   {
    "duration": 69,
    "start_time": "2024-05-24T04:06:30.497Z"
   },
   {
    "duration": 385,
    "start_time": "2024-05-24T04:06:30.569Z"
   },
   {
    "duration": 228,
    "start_time": "2024-05-24T04:06:30.957Z"
   },
   {
    "duration": 395,
    "start_time": "2024-05-24T04:06:31.188Z"
   },
   {
    "duration": 346,
    "start_time": "2024-05-24T04:06:31.586Z"
   },
   {
    "duration": 352,
    "start_time": "2024-05-24T04:06:31.935Z"
   },
   {
    "duration": 9,
    "start_time": "2024-05-24T04:06:32.290Z"
   },
   {
    "duration": 486,
    "start_time": "2024-05-24T04:06:32.303Z"
   },
   {
    "duration": 18,
    "start_time": "2024-05-24T04:06:32.791Z"
   },
   {
    "duration": 276,
    "start_time": "2024-05-24T04:06:32.812Z"
   },
   {
    "duration": 164,
    "start_time": "2024-05-24T04:06:33.093Z"
   },
   {
    "duration": 27,
    "start_time": "2024-05-24T04:06:33.261Z"
   },
   {
    "duration": 9,
    "start_time": "2024-05-24T04:06:33.291Z"
   },
   {
    "duration": 538,
    "start_time": "2024-05-24T04:06:33.331Z"
   },
   {
    "duration": 353,
    "start_time": "2024-05-24T04:06:33.872Z"
   },
   {
    "duration": 155,
    "start_time": "2024-05-24T04:06:34.232Z"
   },
   {
    "duration": 7,
    "start_time": "2024-05-24T04:06:34.390Z"
   },
   {
    "duration": 378,
    "start_time": "2024-05-24T04:06:34.400Z"
   },
   {
    "duration": 25,
    "start_time": "2024-05-24T04:06:59.882Z"
   },
   {
    "duration": 6,
    "start_time": "2024-05-24T04:07:20.302Z"
   },
   {
    "duration": 4,
    "start_time": "2024-05-24T04:24:39.275Z"
   },
   {
    "duration": 1514,
    "start_time": "2024-05-24T04:24:39.461Z"
   },
   {
    "duration": 17,
    "start_time": "2024-05-24T04:24:40.978Z"
   },
   {
    "duration": 33,
    "start_time": "2024-05-24T04:24:40.997Z"
   },
   {
    "duration": 13,
    "start_time": "2024-05-24T04:24:41.034Z"
   },
   {
    "duration": 14,
    "start_time": "2024-05-24T04:24:41.049Z"
   },
   {
    "duration": 14,
    "start_time": "2024-05-24T04:24:41.066Z"
   },
   {
    "duration": 17,
    "start_time": "2024-05-24T04:24:41.364Z"
   },
   {
    "duration": 143,
    "start_time": "2024-05-24T04:24:41.544Z"
   },
   {
    "duration": 11,
    "start_time": "2024-05-24T04:24:41.887Z"
   },
   {
    "duration": 174,
    "start_time": "2024-05-24T04:24:42.262Z"
   },
   {
    "duration": 155,
    "start_time": "2024-05-24T04:24:42.440Z"
   },
   {
    "duration": 46,
    "start_time": "2024-05-24T04:24:42.637Z"
   },
   {
    "duration": 25,
    "start_time": "2024-05-24T04:24:43.218Z"
   },
   {
    "duration": 7,
    "start_time": "2024-05-24T04:24:43.421Z"
   },
   {
    "duration": 35,
    "start_time": "2024-05-24T04:24:43.607Z"
   },
   {
    "duration": 19,
    "start_time": "2024-05-24T04:24:43.835Z"
   },
   {
    "duration": 11,
    "start_time": "2024-05-24T04:24:44.412Z"
   },
   {
    "duration": 9,
    "start_time": "2024-05-24T04:24:44.614Z"
   },
   {
    "duration": 12,
    "start_time": "2024-05-24T04:24:45.216Z"
   },
   {
    "duration": 8,
    "start_time": "2024-05-24T04:24:45.438Z"
   },
   {
    "duration": 1245,
    "start_time": "2024-05-24T04:24:46.012Z"
   },
   {
    "duration": 342,
    "start_time": "2024-05-24T04:24:47.261Z"
   },
   {
    "duration": 25,
    "start_time": "2024-05-24T04:24:47.606Z"
   },
   {
    "duration": 6,
    "start_time": "2024-05-24T04:24:47.634Z"
   },
   {
    "duration": 10,
    "start_time": "2024-05-24T04:24:47.758Z"
   },
   {
    "duration": 13,
    "start_time": "2024-05-24T04:24:48.151Z"
   },
   {
    "duration": 13,
    "start_time": "2024-05-24T04:24:48.545Z"
   },
   {
    "duration": 11,
    "start_time": "2024-05-24T04:24:49.134Z"
   },
   {
    "duration": 7,
    "start_time": "2024-05-24T04:24:49.367Z"
   },
   {
    "duration": 32,
    "start_time": "2024-05-24T04:24:49.955Z"
   },
   {
    "duration": 52,
    "start_time": "2024-05-24T04:24:50.166Z"
   },
   {
    "duration": 14,
    "start_time": "2024-05-24T04:24:50.571Z"
   },
   {
    "duration": 15,
    "start_time": "2024-05-24T04:24:50.782Z"
   },
   {
    "duration": 659,
    "start_time": "2024-05-24T04:24:51.183Z"
   },
   {
    "duration": 59,
    "start_time": "2024-05-24T04:24:52.404Z"
   },
   {
    "duration": 52,
    "start_time": "2024-05-24T04:24:52.619Z"
   },
   {
    "duration": 337,
    "start_time": "2024-05-24T04:24:53.247Z"
   },
   {
    "duration": 216,
    "start_time": "2024-05-24T04:24:53.904Z"
   },
   {
    "duration": 371,
    "start_time": "2024-05-24T04:24:54.582Z"
   },
   {
    "duration": 322,
    "start_time": "2024-05-24T04:24:55.699Z"
   },
   {
    "duration": 333,
    "start_time": "2024-05-24T04:24:56.035Z"
   },
   {
    "duration": 8,
    "start_time": "2024-05-24T04:24:56.371Z"
   },
   {
    "duration": 490,
    "start_time": "2024-05-24T04:24:56.700Z"
   },
   {
    "duration": 16,
    "start_time": "2024-05-24T04:24:57.344Z"
   },
   {
    "duration": 271,
    "start_time": "2024-05-24T04:24:57.604Z"
   },
   {
    "duration": 185,
    "start_time": "2024-05-24T04:24:58.339Z"
   },
   {
    "duration": 27,
    "start_time": "2024-05-24T04:24:58.584Z"
   },
   {
    "duration": 10,
    "start_time": "2024-05-24T04:24:58.855Z"
   },
   {
    "duration": 460,
    "start_time": "2024-05-24T04:25:01.020Z"
   },
   {
    "duration": 289,
    "start_time": "2024-05-24T04:25:01.668Z"
   },
   {
    "duration": 178,
    "start_time": "2024-05-24T04:25:08.155Z"
   },
   {
    "duration": 8,
    "start_time": "2024-05-24T04:25:09.154Z"
   },
   {
    "duration": 24,
    "start_time": "2024-05-24T04:25:10.431Z"
   },
   {
    "duration": 4621,
    "start_time": "2024-05-24T15:29:16.742Z"
   },
   {
    "duration": 1720,
    "start_time": "2024-05-24T15:29:21.368Z"
   },
   {
    "duration": 19,
    "start_time": "2024-05-24T15:29:23.091Z"
   },
   {
    "duration": 18,
    "start_time": "2024-05-24T15:29:23.114Z"
   },
   {
    "duration": 14,
    "start_time": "2024-05-24T15:29:23.135Z"
   },
   {
    "duration": 15,
    "start_time": "2024-05-24T15:29:23.152Z"
   },
   {
    "duration": 58,
    "start_time": "2024-05-24T15:29:23.171Z"
   },
   {
    "duration": 20,
    "start_time": "2024-05-24T15:29:23.234Z"
   },
   {
    "duration": 228,
    "start_time": "2024-05-24T15:29:23.257Z"
   },
   {
    "duration": 15,
    "start_time": "2024-05-24T15:29:23.491Z"
   },
   {
    "duration": 281,
    "start_time": "2024-05-24T15:29:23.508Z"
   },
   {
    "duration": 216,
    "start_time": "2024-05-24T15:29:23.793Z"
   },
   {
    "duration": 69,
    "start_time": "2024-05-24T15:29:24.012Z"
   },
   {
    "duration": 55,
    "start_time": "2024-05-24T15:29:24.084Z"
   },
   {
    "duration": 8,
    "start_time": "2024-05-24T15:29:24.142Z"
   },
   {
    "duration": 37,
    "start_time": "2024-05-24T15:29:24.154Z"
   },
   {
    "duration": 48,
    "start_time": "2024-05-24T15:29:24.194Z"
   },
   {
    "duration": 11,
    "start_time": "2024-05-24T15:29:24.245Z"
   },
   {
    "duration": 10,
    "start_time": "2024-05-24T15:29:24.260Z"
   },
   {
    "duration": 55,
    "start_time": "2024-05-24T15:29:24.273Z"
   },
   {
    "duration": 13,
    "start_time": "2024-05-24T15:29:24.331Z"
   },
   {
    "duration": 1531,
    "start_time": "2024-05-24T15:29:24.346Z"
   },
   {
    "duration": 457,
    "start_time": "2024-05-24T15:29:25.880Z"
   },
   {
    "duration": 14,
    "start_time": "2024-05-24T15:29:26.340Z"
   },
   {
    "duration": 6,
    "start_time": "2024-05-24T15:29:26.357Z"
   },
   {
    "duration": 7,
    "start_time": "2024-05-24T15:29:26.366Z"
   },
   {
    "duration": 56,
    "start_time": "2024-05-24T15:29:26.376Z"
   },
   {
    "duration": 12,
    "start_time": "2024-05-24T15:29:26.441Z"
   },
   {
    "duration": 10,
    "start_time": "2024-05-24T15:29:26.457Z"
   },
   {
    "duration": 6,
    "start_time": "2024-05-24T15:29:26.470Z"
   },
   {
    "duration": 69,
    "start_time": "2024-05-24T15:29:26.480Z"
   },
   {
    "duration": 80,
    "start_time": "2024-05-24T15:29:26.553Z"
   },
   {
    "duration": 16,
    "start_time": "2024-05-24T15:29:26.637Z"
   },
   {
    "duration": 23,
    "start_time": "2024-05-24T15:29:26.656Z"
   },
   {
    "duration": 704,
    "start_time": "2024-05-24T15:29:26.684Z"
   },
   {
    "duration": 83,
    "start_time": "2024-05-24T15:29:27.391Z"
   },
   {
    "duration": 78,
    "start_time": "2024-05-24T15:29:27.476Z"
   },
   {
    "duration": 395,
    "start_time": "2024-05-24T15:29:27.557Z"
   },
   {
    "duration": 243,
    "start_time": "2024-05-24T15:29:27.956Z"
   },
   {
    "duration": 466,
    "start_time": "2024-05-24T15:29:28.202Z"
   },
   {
    "duration": 345,
    "start_time": "2024-05-24T15:29:28.671Z"
   },
   {
    "duration": 340,
    "start_time": "2024-05-24T15:29:29.026Z"
   },
   {
    "duration": 10,
    "start_time": "2024-05-24T15:29:29.370Z"
   },
   {
    "duration": 458,
    "start_time": "2024-05-24T15:29:29.384Z"
   },
   {
    "duration": 23,
    "start_time": "2024-05-24T15:29:29.845Z"
   },
   {
    "duration": 287,
    "start_time": "2024-05-24T15:29:29.872Z"
   },
   {
    "duration": 192,
    "start_time": "2024-05-24T15:29:30.162Z"
   },
   {
    "duration": 29,
    "start_time": "2024-05-24T15:29:30.358Z"
   },
   {
    "duration": 10,
    "start_time": "2024-05-24T15:29:30.389Z"
   },
   {
    "duration": 565,
    "start_time": "2024-05-24T15:29:30.428Z"
   },
   {
    "duration": 293,
    "start_time": "2024-05-24T15:29:30.996Z"
   },
   {
    "duration": 172,
    "start_time": "2024-05-24T15:29:31.292Z"
   },
   {
    "duration": 9,
    "start_time": "2024-05-24T15:29:31.466Z"
   },
   {
    "duration": 388,
    "start_time": "2024-05-24T15:29:31.478Z"
   },
   {
    "duration": 4,
    "start_time": "2024-05-24T15:38:35.580Z"
   },
   {
    "duration": 28,
    "start_time": "2024-05-24T15:38:39.431Z"
   },
   {
    "duration": 400,
    "start_time": "2024-05-24T15:57:28.408Z"
   },
   {
    "duration": 403,
    "start_time": "2024-05-24T15:57:58.115Z"
   },
   {
    "duration": 4,
    "start_time": "2024-05-24T16:37:35.353Z"
   },
   {
    "duration": 697,
    "start_time": "2024-05-24T16:37:38.211Z"
   },
   {
    "duration": 676,
    "start_time": "2024-05-24T16:40:37.011Z"
   },
   {
    "duration": 660,
    "start_time": "2024-05-24T16:41:20.331Z"
   },
   {
    "duration": 102,
    "start_time": "2024-05-24T16:43:31.530Z"
   },
   {
    "duration": 750,
    "start_time": "2024-05-24T16:46:18.139Z"
   },
   {
    "duration": 8,
    "start_time": "2024-05-24T16:49:06.600Z"
   },
   {
    "duration": 266,
    "start_time": "2024-05-24T16:52:23.253Z"
   },
   {
    "duration": 44,
    "start_time": "2024-05-24T16:52:56.595Z"
   },
   {
    "duration": 625,
    "start_time": "2024-05-24T16:53:13.694Z"
   },
   {
    "duration": 1551,
    "start_time": "2024-05-24T17:04:03.031Z"
   },
   {
    "duration": 53,
    "start_time": "2024-05-24T17:04:17.430Z"
   },
   {
    "duration": 42,
    "start_time": "2024-05-24T17:04:27.661Z"
   },
   {
    "duration": 38,
    "start_time": "2024-05-24T17:04:57.335Z"
   },
   {
    "duration": 43,
    "start_time": "2024-05-24T17:05:13.146Z"
   },
   {
    "duration": 1139,
    "start_time": "2024-05-24T17:10:35.241Z"
   },
   {
    "duration": 130,
    "start_time": "2024-05-24T17:11:32.526Z"
   },
   {
    "duration": 147,
    "start_time": "2024-05-24T17:11:38.890Z"
   },
   {
    "duration": 22,
    "start_time": "2024-05-24T17:13:04.512Z"
   },
   {
    "duration": 43,
    "start_time": "2024-05-24T17:28:52.056Z"
   },
   {
    "duration": 5,
    "start_time": "2024-05-24T17:29:14.890Z"
   },
   {
    "duration": 6,
    "start_time": "2024-05-24T17:36:52.469Z"
   },
   {
    "duration": 7,
    "start_time": "2024-05-24T17:37:01.270Z"
   },
   {
    "duration": 14,
    "start_time": "2024-05-24T17:37:12.078Z"
   },
   {
    "duration": 9,
    "start_time": "2024-05-24T18:13:37.374Z"
   },
   {
    "duration": 41,
    "start_time": "2024-05-24T18:13:45.404Z"
   },
   {
    "duration": 39,
    "start_time": "2024-05-24T18:14:40.477Z"
   },
   {
    "duration": 39,
    "start_time": "2024-05-24T18:33:15.398Z"
   },
   {
    "duration": 4557,
    "start_time": "2024-05-24T19:51:48.220Z"
   },
   {
    "duration": 1944,
    "start_time": "2024-05-24T19:51:52.781Z"
   },
   {
    "duration": 20,
    "start_time": "2024-05-24T19:51:54.727Z"
   },
   {
    "duration": 19,
    "start_time": "2024-05-24T19:51:54.751Z"
   },
   {
    "duration": 19,
    "start_time": "2024-05-24T19:51:54.774Z"
   },
   {
    "duration": 14,
    "start_time": "2024-05-24T19:51:54.828Z"
   },
   {
    "duration": 14,
    "start_time": "2024-05-24T19:51:54.845Z"
   },
   {
    "duration": 19,
    "start_time": "2024-05-24T19:51:54.863Z"
   },
   {
    "duration": 254,
    "start_time": "2024-05-24T19:51:54.885Z"
   },
   {
    "duration": 14,
    "start_time": "2024-05-24T19:51:55.145Z"
   },
   {
    "duration": 253,
    "start_time": "2024-05-24T19:51:55.166Z"
   },
   {
    "duration": 224,
    "start_time": "2024-05-24T19:51:55.428Z"
   },
   {
    "duration": 82,
    "start_time": "2024-05-24T19:51:55.656Z"
   },
   {
    "duration": 28,
    "start_time": "2024-05-24T19:51:55.741Z"
   },
   {
    "duration": 6,
    "start_time": "2024-05-24T19:51:55.774Z"
   },
   {
    "duration": 70,
    "start_time": "2024-05-24T19:51:55.783Z"
   },
   {
    "duration": 20,
    "start_time": "2024-05-24T19:51:55.856Z"
   },
   {
    "duration": 12,
    "start_time": "2024-05-24T19:51:55.880Z"
   },
   {
    "duration": 11,
    "start_time": "2024-05-24T19:51:55.929Z"
   },
   {
    "duration": 14,
    "start_time": "2024-05-24T19:51:55.944Z"
   },
   {
    "duration": 9,
    "start_time": "2024-05-24T19:51:55.961Z"
   },
   {
    "duration": 1558,
    "start_time": "2024-05-24T19:51:55.974Z"
   },
   {
    "duration": 427,
    "start_time": "2024-05-24T19:51:57.537Z"
   },
   {
    "duration": 18,
    "start_time": "2024-05-24T19:51:57.968Z"
   },
   {
    "duration": 8,
    "start_time": "2024-05-24T19:51:57.989Z"
   },
   {
    "duration": 7,
    "start_time": "2024-05-24T19:51:58.028Z"
   },
   {
    "duration": 14,
    "start_time": "2024-05-24T19:51:58.039Z"
   },
   {
    "duration": 12,
    "start_time": "2024-05-24T19:51:58.063Z"
   },
   {
    "duration": 50,
    "start_time": "2024-05-24T19:51:58.079Z"
   },
   {
    "duration": 10,
    "start_time": "2024-05-24T19:51:58.132Z"
   },
   {
    "duration": 29,
    "start_time": "2024-05-24T19:51:58.144Z"
   },
   {
    "duration": 85,
    "start_time": "2024-05-24T19:51:58.176Z"
   },
   {
    "duration": 14,
    "start_time": "2024-05-24T19:51:58.263Z"
   },
   {
    "duration": 52,
    "start_time": "2024-05-24T19:51:58.281Z"
   },
   {
    "duration": 678,
    "start_time": "2024-05-24T19:51:58.336Z"
   },
   {
    "duration": 68,
    "start_time": "2024-05-24T19:51:59.018Z"
   },
   {
    "duration": 76,
    "start_time": "2024-05-24T19:51:59.089Z"
   },
   {
    "duration": 428,
    "start_time": "2024-05-24T19:51:59.168Z"
   },
   {
    "duration": 233,
    "start_time": "2024-05-24T19:51:59.599Z"
   },
   {
    "duration": 421,
    "start_time": "2024-05-24T19:51:59.836Z"
   },
   {
    "duration": 333,
    "start_time": "2024-05-24T19:52:00.260Z"
   },
   {
    "duration": 335,
    "start_time": "2024-05-24T19:52:00.596Z"
   },
   {
    "duration": 9,
    "start_time": "2024-05-24T19:52:00.934Z"
   },
   {
    "duration": 458,
    "start_time": "2024-05-24T19:52:00.947Z"
   },
   {
    "duration": 33,
    "start_time": "2024-05-24T19:52:01.409Z"
   },
   {
    "duration": 269,
    "start_time": "2024-05-24T19:52:01.445Z"
   },
   {
    "duration": 188,
    "start_time": "2024-05-24T19:52:01.717Z"
   },
   {
    "duration": 39,
    "start_time": "2024-05-24T19:52:01.908Z"
   },
   {
    "duration": 12,
    "start_time": "2024-05-24T19:52:01.950Z"
   },
   {
    "duration": 585,
    "start_time": "2024-05-24T19:52:01.965Z"
   },
   {
    "duration": 291,
    "start_time": "2024-05-24T19:52:02.553Z"
   },
   {
    "duration": 7,
    "start_time": "2024-05-24T19:52:02.847Z"
   },
   {
    "duration": 0,
    "start_time": "2024-05-24T19:52:02.858Z"
   },
   {
    "duration": 0,
    "start_time": "2024-05-24T19:52:02.861Z"
   },
   {
    "duration": 0,
    "start_time": "2024-05-24T19:52:02.865Z"
   },
   {
    "duration": 4858,
    "start_time": "2024-05-24T21:28:29.666Z"
   },
   {
    "duration": 1798,
    "start_time": "2024-05-24T21:28:34.532Z"
   },
   {
    "duration": 21,
    "start_time": "2024-05-24T21:28:36.333Z"
   },
   {
    "duration": 19,
    "start_time": "2024-05-24T21:28:36.359Z"
   },
   {
    "duration": 15,
    "start_time": "2024-05-24T21:28:36.382Z"
   },
   {
    "duration": 14,
    "start_time": "2024-05-24T21:28:36.432Z"
   },
   {
    "duration": 16,
    "start_time": "2024-05-24T21:28:36.450Z"
   },
   {
    "duration": 63,
    "start_time": "2024-05-24T21:28:36.470Z"
   },
   {
    "duration": 234,
    "start_time": "2024-05-24T21:28:36.536Z"
   },
   {
    "duration": 16,
    "start_time": "2024-05-24T21:28:36.777Z"
   },
   {
    "duration": 278,
    "start_time": "2024-05-24T21:28:36.796Z"
   },
   {
    "duration": 219,
    "start_time": "2024-05-24T21:28:37.077Z"
   },
   {
    "duration": 72,
    "start_time": "2024-05-24T21:28:37.299Z"
   },
   {
    "duration": 58,
    "start_time": "2024-05-24T21:28:37.375Z"
   },
   {
    "duration": 8,
    "start_time": "2024-05-24T21:28:37.436Z"
   },
   {
    "duration": 36,
    "start_time": "2024-05-24T21:28:37.447Z"
   },
   {
    "duration": 50,
    "start_time": "2024-05-24T21:28:37.486Z"
   },
   {
    "duration": 14,
    "start_time": "2024-05-24T21:28:37.539Z"
   },
   {
    "duration": 11,
    "start_time": "2024-05-24T21:28:37.556Z"
   },
   {
    "duration": 13,
    "start_time": "2024-05-24T21:28:37.570Z"
   },
   {
    "duration": 51,
    "start_time": "2024-05-24T21:28:37.586Z"
   },
   {
    "duration": 1417,
    "start_time": "2024-05-24T21:28:37.640Z"
   },
   {
    "duration": 439,
    "start_time": "2024-05-24T21:28:39.062Z"
   },
   {
    "duration": 31,
    "start_time": "2024-05-24T21:28:39.504Z"
   },
   {
    "duration": 7,
    "start_time": "2024-05-24T21:28:39.539Z"
   },
   {
    "duration": 10,
    "start_time": "2024-05-24T21:28:39.550Z"
   },
   {
    "duration": 16,
    "start_time": "2024-05-24T21:28:39.566Z"
   },
   {
    "duration": 15,
    "start_time": "2024-05-24T21:28:39.633Z"
   },
   {
    "duration": 10,
    "start_time": "2024-05-24T21:28:39.652Z"
   },
   {
    "duration": 8,
    "start_time": "2024-05-24T21:28:39.666Z"
   },
   {
    "duration": 73,
    "start_time": "2024-05-24T21:28:39.678Z"
   },
   {
    "duration": 54,
    "start_time": "2024-05-24T21:28:39.756Z"
   },
   {
    "duration": 33,
    "start_time": "2024-05-24T21:28:39.814Z"
   },
   {
    "duration": 22,
    "start_time": "2024-05-24T21:28:39.852Z"
   },
   {
    "duration": 693,
    "start_time": "2024-05-24T21:28:39.877Z"
   },
   {
    "duration": 78,
    "start_time": "2024-05-24T21:28:40.574Z"
   },
   {
    "duration": 54,
    "start_time": "2024-05-24T21:28:40.656Z"
   },
   {
    "duration": 390,
    "start_time": "2024-05-24T21:28:40.713Z"
   },
   {
    "duration": 239,
    "start_time": "2024-05-24T21:28:41.106Z"
   },
   {
    "duration": 478,
    "start_time": "2024-05-24T21:28:41.348Z"
   },
   {
    "duration": 407,
    "start_time": "2024-05-24T21:28:41.833Z"
   },
   {
    "duration": 341,
    "start_time": "2024-05-24T21:28:42.243Z"
   },
   {
    "duration": 9,
    "start_time": "2024-05-24T21:28:42.587Z"
   },
   {
    "duration": 541,
    "start_time": "2024-05-24T21:28:42.601Z"
   },
   {
    "duration": 21,
    "start_time": "2024-05-24T21:28:43.146Z"
   },
   {
    "duration": 298,
    "start_time": "2024-05-24T21:28:43.170Z"
   },
   {
    "duration": 178,
    "start_time": "2024-05-24T21:28:43.471Z"
   },
   {
    "duration": 30,
    "start_time": "2024-05-24T21:28:43.652Z"
   },
   {
    "duration": 11,
    "start_time": "2024-05-24T21:28:43.685Z"
   },
   {
    "duration": 606,
    "start_time": "2024-05-24T21:28:43.699Z"
   },
   {
    "duration": 291,
    "start_time": "2024-05-24T21:28:44.308Z"
   },
   {
    "duration": 9,
    "start_time": "2024-05-24T21:28:44.602Z"
   },
   {
    "duration": 0,
    "start_time": "2024-05-24T21:28:44.633Z"
   },
   {
    "duration": 0,
    "start_time": "2024-05-24T21:28:44.636Z"
   },
   {
    "duration": 0,
    "start_time": "2024-05-24T21:28:44.638Z"
   },
   {
    "duration": 216,
    "start_time": "2024-05-24T21:29:31.472Z"
   },
   {
    "duration": 710,
    "start_time": "2024-05-24T21:30:03.481Z"
   },
   {
    "duration": 187,
    "start_time": "2024-05-24T21:30:12.050Z"
   },
   {
    "duration": 610,
    "start_time": "2024-05-24T21:30:14.053Z"
   },
   {
    "duration": 593,
    "start_time": "2024-05-24T21:30:26.383Z"
   },
   {
    "duration": 4,
    "start_time": "2024-05-24T21:34:06.532Z"
   },
   {
    "duration": 5,
    "start_time": "2024-05-24T21:34:11.386Z"
   },
   {
    "duration": 21,
    "start_time": "2024-05-24T21:34:31.357Z"
   },
   {
    "duration": 246,
    "start_time": "2024-05-24T21:35:18.248Z"
   },
   {
    "duration": 204,
    "start_time": "2024-05-24T21:35:26.446Z"
   },
   {
    "duration": 1260,
    "start_time": "2024-05-24T21:36:14.212Z"
   },
   {
    "duration": 225,
    "start_time": "2024-05-24T21:36:51.317Z"
   },
   {
    "duration": 212,
    "start_time": "2024-05-24T21:36:57.022Z"
   },
   {
    "duration": 384,
    "start_time": "2024-05-24T23:15:05.163Z"
   },
   {
    "duration": 212,
    "start_time": "2024-05-24T23:22:50.791Z"
   },
   {
    "duration": 202,
    "start_time": "2024-05-24T23:22:56.567Z"
   },
   {
    "duration": 407,
    "start_time": "2024-05-24T23:25:09.305Z"
   },
   {
    "duration": 395,
    "start_time": "2024-05-24T23:27:33.961Z"
   },
   {
    "duration": 4595,
    "start_time": "2024-05-25T19:13:16.081Z"
   },
   {
    "duration": 1832,
    "start_time": "2024-05-25T19:13:20.680Z"
   },
   {
    "duration": 23,
    "start_time": "2024-05-25T19:13:22.515Z"
   },
   {
    "duration": 17,
    "start_time": "2024-05-25T19:13:22.544Z"
   },
   {
    "duration": 15,
    "start_time": "2024-05-25T19:13:22.566Z"
   },
   {
    "duration": 52,
    "start_time": "2024-05-25T19:13:22.586Z"
   },
   {
    "duration": 21,
    "start_time": "2024-05-25T19:13:22.642Z"
   },
   {
    "duration": 60,
    "start_time": "2024-05-25T19:13:22.667Z"
   },
   {
    "duration": 245,
    "start_time": "2024-05-25T19:13:22.731Z"
   },
   {
    "duration": 20,
    "start_time": "2024-05-25T19:13:22.983Z"
   },
   {
    "duration": 289,
    "start_time": "2024-05-25T19:13:23.006Z"
   },
   {
    "duration": 239,
    "start_time": "2024-05-25T19:13:23.299Z"
   },
   {
    "duration": 85,
    "start_time": "2024-05-25T19:13:23.541Z"
   },
   {
    "duration": 32,
    "start_time": "2024-05-25T19:13:23.630Z"
   },
   {
    "duration": 7,
    "start_time": "2024-05-25T19:13:23.666Z"
   },
   {
    "duration": 85,
    "start_time": "2024-05-25T19:13:23.676Z"
   },
   {
    "duration": 27,
    "start_time": "2024-05-25T19:13:23.763Z"
   },
   {
    "duration": 44,
    "start_time": "2024-05-25T19:13:23.794Z"
   },
   {
    "duration": 11,
    "start_time": "2024-05-25T19:13:23.841Z"
   },
   {
    "duration": 13,
    "start_time": "2024-05-25T19:13:23.856Z"
   },
   {
    "duration": 53,
    "start_time": "2024-05-25T19:13:23.873Z"
   },
   {
    "duration": 1618,
    "start_time": "2024-05-25T19:13:23.930Z"
   },
   {
    "duration": 490,
    "start_time": "2024-05-25T19:13:25.552Z"
   },
   {
    "duration": 17,
    "start_time": "2024-05-25T19:13:26.046Z"
   },
   {
    "duration": 7,
    "start_time": "2024-05-25T19:13:26.067Z"
   },
   {
    "duration": 8,
    "start_time": "2024-05-25T19:13:26.078Z"
   },
   {
    "duration": 14,
    "start_time": "2024-05-25T19:13:26.126Z"
   },
   {
    "duration": 13,
    "start_time": "2024-05-25T19:13:26.151Z"
   },
   {
    "duration": 12,
    "start_time": "2024-05-25T19:13:26.169Z"
   },
   {
    "duration": 45,
    "start_time": "2024-05-25T19:13:26.184Z"
   },
   {
    "duration": 33,
    "start_time": "2024-05-25T19:13:26.233Z"
   },
   {
    "duration": 91,
    "start_time": "2024-05-25T19:13:26.269Z"
   },
   {
    "duration": 16,
    "start_time": "2024-05-25T19:13:26.364Z"
   },
   {
    "duration": 45,
    "start_time": "2024-05-25T19:13:26.384Z"
   },
   {
    "duration": 698,
    "start_time": "2024-05-25T19:13:26.432Z"
   },
   {
    "duration": 93,
    "start_time": "2024-05-25T19:13:27.133Z"
   },
   {
    "duration": 69,
    "start_time": "2024-05-25T19:13:27.229Z"
   },
   {
    "duration": 466,
    "start_time": "2024-05-25T19:13:27.302Z"
   },
   {
    "duration": 259,
    "start_time": "2024-05-25T19:13:27.772Z"
   },
   {
    "duration": 457,
    "start_time": "2024-05-25T19:13:28.040Z"
   },
   {
    "duration": 429,
    "start_time": "2024-05-25T19:13:28.501Z"
   },
   {
    "duration": 370,
    "start_time": "2024-05-25T19:13:28.933Z"
   },
   {
    "duration": 19,
    "start_time": "2024-05-25T19:13:29.307Z"
   },
   {
    "duration": 528,
    "start_time": "2024-05-25T19:13:29.331Z"
   },
   {
    "duration": 26,
    "start_time": "2024-05-25T19:13:29.863Z"
   },
   {
    "duration": 297,
    "start_time": "2024-05-25T19:13:29.898Z"
   },
   {
    "duration": 227,
    "start_time": "2024-05-25T19:13:30.200Z"
   },
   {
    "duration": 37,
    "start_time": "2024-05-25T19:13:30.430Z"
   },
   {
    "duration": 10,
    "start_time": "2024-05-25T19:13:30.473Z"
   },
   {
    "duration": 664,
    "start_time": "2024-05-25T19:13:30.488Z"
   },
   {
    "duration": 389,
    "start_time": "2024-05-25T19:13:31.156Z"
   },
   {
    "duration": 240,
    "start_time": "2024-05-25T19:13:31.550Z"
   },
   {
    "duration": 722,
    "start_time": "2024-05-25T19:13:31.794Z"
   },
   {
    "duration": 6,
    "start_time": "2024-05-25T19:13:32.525Z"
   },
   {
    "duration": 319,
    "start_time": "2024-05-25T19:13:32.534Z"
   },
   {
    "duration": 914,
    "start_time": "2024-05-25T19:13:32.857Z"
   },
   {
    "duration": 755,
    "start_time": "2024-05-25T19:26:19.353Z"
   },
   {
    "duration": 1642,
    "start_time": "2024-05-25T19:26:20.111Z"
   },
   {
    "duration": 20,
    "start_time": "2024-05-25T19:26:21.756Z"
   },
   {
    "duration": 17,
    "start_time": "2024-05-25T19:26:21.781Z"
   },
   {
    "duration": 28,
    "start_time": "2024-05-25T19:26:21.802Z"
   },
   {
    "duration": 14,
    "start_time": "2024-05-25T19:26:21.834Z"
   },
   {
    "duration": 16,
    "start_time": "2024-05-25T19:26:21.851Z"
   },
   {
    "duration": 64,
    "start_time": "2024-05-25T19:26:21.870Z"
   },
   {
    "duration": 202,
    "start_time": "2024-05-25T19:26:21.937Z"
   },
   {
    "duration": 15,
    "start_time": "2024-05-25T19:26:22.150Z"
   },
   {
    "duration": 245,
    "start_time": "2024-05-25T19:26:22.168Z"
   },
   {
    "duration": 216,
    "start_time": "2024-05-25T19:26:22.416Z"
   },
   {
    "duration": 67,
    "start_time": "2024-05-25T19:26:22.635Z"
   },
   {
    "duration": 45,
    "start_time": "2024-05-25T19:26:22.705Z"
   },
   {
    "duration": 11,
    "start_time": "2024-05-25T19:26:22.753Z"
   },
   {
    "duration": 38,
    "start_time": "2024-05-25T19:26:22.767Z"
   },
   {
    "duration": 19,
    "start_time": "2024-05-25T19:26:22.825Z"
   },
   {
    "duration": 12,
    "start_time": "2024-05-25T19:26:22.847Z"
   },
   {
    "duration": 11,
    "start_time": "2024-05-25T19:26:22.862Z"
   },
   {
    "duration": 53,
    "start_time": "2024-05-25T19:26:22.876Z"
   },
   {
    "duration": 10,
    "start_time": "2024-05-25T19:26:22.931Z"
   },
   {
    "duration": 1644,
    "start_time": "2024-05-25T19:26:22.945Z"
   },
   {
    "duration": 509,
    "start_time": "2024-05-25T19:26:24.592Z"
   },
   {
    "duration": 22,
    "start_time": "2024-05-25T19:26:25.106Z"
   },
   {
    "duration": 7,
    "start_time": "2024-05-25T19:26:25.133Z"
   },
   {
    "duration": 6,
    "start_time": "2024-05-25T19:26:25.144Z"
   },
   {
    "duration": 24,
    "start_time": "2024-05-25T19:26:25.154Z"
   },
   {
    "duration": 52,
    "start_time": "2024-05-25T19:26:25.190Z"
   },
   {
    "duration": 16,
    "start_time": "2024-05-25T19:26:25.254Z"
   },
   {
    "duration": 18,
    "start_time": "2024-05-25T19:26:25.274Z"
   },
   {
    "duration": 61,
    "start_time": "2024-05-25T19:26:25.300Z"
   },
   {
    "duration": 67,
    "start_time": "2024-05-25T19:26:25.365Z"
   },
   {
    "duration": 29,
    "start_time": "2024-05-25T19:26:25.440Z"
   },
   {
    "duration": 19,
    "start_time": "2024-05-25T19:26:25.472Z"
   },
   {
    "duration": 816,
    "start_time": "2024-05-25T19:26:25.494Z"
   },
   {
    "duration": 78,
    "start_time": "2024-05-25T19:26:26.313Z"
   },
   {
    "duration": 81,
    "start_time": "2024-05-25T19:26:26.394Z"
   },
   {
    "duration": 467,
    "start_time": "2024-05-25T19:26:26.479Z"
   },
   {
    "duration": 322,
    "start_time": "2024-05-25T19:26:26.949Z"
   },
   {
    "duration": 442,
    "start_time": "2024-05-25T19:26:27.274Z"
   },
   {
    "duration": 438,
    "start_time": "2024-05-25T19:26:27.724Z"
   },
   {
    "duration": 405,
    "start_time": "2024-05-25T19:26:28.171Z"
   },
   {
    "duration": 12,
    "start_time": "2024-05-25T19:26:28.586Z"
   },
   {
    "duration": 614,
    "start_time": "2024-05-25T19:26:28.606Z"
   },
   {
    "duration": 29,
    "start_time": "2024-05-25T19:26:29.223Z"
   },
   {
    "duration": 314,
    "start_time": "2024-05-25T19:26:29.255Z"
   },
   {
    "duration": 216,
    "start_time": "2024-05-25T19:26:29.575Z"
   },
   {
    "duration": 42,
    "start_time": "2024-05-25T19:26:29.802Z"
   },
   {
    "duration": 18,
    "start_time": "2024-05-25T19:26:29.853Z"
   },
   {
    "duration": 689,
    "start_time": "2024-05-25T19:26:29.880Z"
   },
   {
    "duration": 430,
    "start_time": "2024-05-25T19:26:30.572Z"
   },
   {
    "duration": 299,
    "start_time": "2024-05-25T19:26:31.005Z"
   },
   {
    "duration": 744,
    "start_time": "2024-05-25T19:26:31.316Z"
   },
   {
    "duration": 6,
    "start_time": "2024-05-25T19:26:32.063Z"
   },
   {
    "duration": 345,
    "start_time": "2024-05-25T19:26:32.071Z"
   },
   {
    "duration": 900,
    "start_time": "2024-05-25T19:26:32.419Z"
   },
   {
    "duration": 228,
    "start_time": "2024-05-25T19:45:19.263Z"
   },
   {
    "duration": 271,
    "start_time": "2024-05-25T19:45:32.051Z"
   },
   {
    "duration": 200,
    "start_time": "2024-05-25T19:50:08.953Z"
   },
   {
    "duration": 4831,
    "start_time": "2024-05-25T22:08:14.444Z"
   },
   {
    "duration": 1838,
    "start_time": "2024-05-25T22:08:19.279Z"
   },
   {
    "duration": 22,
    "start_time": "2024-05-25T22:08:21.125Z"
   },
   {
    "duration": 17,
    "start_time": "2024-05-25T22:08:21.153Z"
   },
   {
    "duration": 15,
    "start_time": "2024-05-25T22:08:21.174Z"
   },
   {
    "duration": 16,
    "start_time": "2024-05-25T22:08:21.228Z"
   },
   {
    "duration": 17,
    "start_time": "2024-05-25T22:08:21.247Z"
   },
   {
    "duration": 58,
    "start_time": "2024-05-25T22:08:21.268Z"
   },
   {
    "duration": 236,
    "start_time": "2024-05-25T22:08:21.330Z"
   },
   {
    "duration": 18,
    "start_time": "2024-05-25T22:08:21.574Z"
   },
   {
    "duration": 271,
    "start_time": "2024-05-25T22:08:21.595Z"
   },
   {
    "duration": 239,
    "start_time": "2024-05-25T22:08:21.870Z"
   },
   {
    "duration": 77,
    "start_time": "2024-05-25T22:08:22.114Z"
   },
   {
    "duration": 47,
    "start_time": "2024-05-25T22:08:22.195Z"
   },
   {
    "duration": 8,
    "start_time": "2024-05-25T22:08:22.246Z"
   },
   {
    "duration": 80,
    "start_time": "2024-05-25T22:08:22.257Z"
   },
   {
    "duration": 23,
    "start_time": "2024-05-25T22:08:22.340Z"
   },
   {
    "duration": 15,
    "start_time": "2024-05-25T22:08:22.367Z"
   },
   {
    "duration": 43,
    "start_time": "2024-05-25T22:08:22.386Z"
   },
   {
    "duration": 14,
    "start_time": "2024-05-25T22:08:22.432Z"
   },
   {
    "duration": 11,
    "start_time": "2024-05-25T22:08:22.451Z"
   },
   {
    "duration": 1637,
    "start_time": "2024-05-25T22:08:22.466Z"
   },
   {
    "duration": 543,
    "start_time": "2024-05-25T22:08:24.107Z"
   },
   {
    "duration": 17,
    "start_time": "2024-05-25T22:08:24.654Z"
   },
   {
    "duration": 8,
    "start_time": "2024-05-25T22:08:24.675Z"
   },
   {
    "duration": 41,
    "start_time": "2024-05-25T22:08:24.687Z"
   },
   {
    "duration": 14,
    "start_time": "2024-05-25T22:08:24.735Z"
   },
   {
    "duration": 19,
    "start_time": "2024-05-25T22:08:24.761Z"
   },
   {
    "duration": 51,
    "start_time": "2024-05-25T22:08:24.785Z"
   },
   {
    "duration": 12,
    "start_time": "2024-05-25T22:08:24.841Z"
   },
   {
    "duration": 40,
    "start_time": "2024-05-25T22:08:24.861Z"
   },
   {
    "duration": 91,
    "start_time": "2024-05-25T22:08:24.908Z"
   },
   {
    "duration": 30,
    "start_time": "2024-05-25T22:08:25.002Z"
   },
   {
    "duration": 22,
    "start_time": "2024-05-25T22:08:25.036Z"
   },
   {
    "duration": 860,
    "start_time": "2024-05-25T22:08:25.061Z"
   },
   {
    "duration": 86,
    "start_time": "2024-05-25T22:08:25.927Z"
   },
   {
    "duration": 78,
    "start_time": "2024-05-25T22:08:26.028Z"
   },
   {
    "duration": 506,
    "start_time": "2024-05-25T22:08:26.112Z"
   },
   {
    "duration": 252,
    "start_time": "2024-05-25T22:08:26.626Z"
   },
   {
    "duration": 567,
    "start_time": "2024-05-25T22:08:26.883Z"
   },
   {
    "duration": 492,
    "start_time": "2024-05-25T22:08:27.456Z"
   },
   {
    "duration": 456,
    "start_time": "2024-05-25T22:08:27.952Z"
   },
   {
    "duration": 21,
    "start_time": "2024-05-25T22:08:28.412Z"
   },
   {
    "duration": 510,
    "start_time": "2024-05-25T22:08:28.438Z"
   },
   {
    "duration": 31,
    "start_time": "2024-05-25T22:08:28.951Z"
   },
   {
    "duration": 363,
    "start_time": "2024-05-25T22:08:28.985Z"
   },
   {
    "duration": 252,
    "start_time": "2024-05-25T22:08:29.351Z"
   },
   {
    "duration": 48,
    "start_time": "2024-05-25T22:08:29.606Z"
   },
   {
    "duration": 16,
    "start_time": "2024-05-25T22:08:29.658Z"
   },
   {
    "duration": 700,
    "start_time": "2024-05-25T22:08:29.678Z"
   },
   {
    "duration": 376,
    "start_time": "2024-05-25T22:08:30.382Z"
   },
   {
    "duration": 281,
    "start_time": "2024-05-25T22:08:30.762Z"
   },
   {
    "duration": 822,
    "start_time": "2024-05-25T22:08:31.050Z"
   },
   {
    "duration": 7,
    "start_time": "2024-05-25T22:08:31.875Z"
   },
   {
    "duration": 345,
    "start_time": "2024-05-25T22:08:31.887Z"
   },
   {
    "duration": 236,
    "start_time": "2024-05-25T22:08:32.235Z"
   },
   {
    "duration": 205,
    "start_time": "2024-05-25T22:09:10.469Z"
   },
   {
    "duration": 189,
    "start_time": "2024-05-25T22:09:25.289Z"
   },
   {
    "duration": 222,
    "start_time": "2024-05-25T22:09:40.688Z"
   },
   {
    "duration": 440,
    "start_time": "2024-05-25T22:14:58.190Z"
   },
   {
    "duration": 408,
    "start_time": "2024-05-25T22:19:53.738Z"
   },
   {
    "duration": 354,
    "start_time": "2024-05-25T22:22:21.081Z"
   },
   {
    "duration": 452,
    "start_time": "2024-05-25T22:23:54.810Z"
   },
   {
    "duration": 549,
    "start_time": "2024-05-25T22:25:27.016Z"
   },
   {
    "duration": 460,
    "start_time": "2024-05-25T22:25:53.374Z"
   },
   {
    "duration": 390,
    "start_time": "2024-05-25T22:27:08.756Z"
   },
   {
    "duration": 30,
    "start_time": "2024-05-25T22:27:56.014Z"
   },
   {
    "duration": 42,
    "start_time": "2024-05-25T22:28:00.689Z"
   },
   {
    "duration": 729,
    "start_time": "2024-05-25T22:29:58.364Z"
   },
   {
    "duration": 1619,
    "start_time": "2024-05-25T22:29:59.097Z"
   },
   {
    "duration": 20,
    "start_time": "2024-05-25T22:30:00.719Z"
   },
   {
    "duration": 18,
    "start_time": "2024-05-25T22:30:00.743Z"
   },
   {
    "duration": 14,
    "start_time": "2024-05-25T22:30:00.764Z"
   },
   {
    "duration": 56,
    "start_time": "2024-05-25T22:30:00.782Z"
   },
   {
    "duration": 15,
    "start_time": "2024-05-25T22:30:00.841Z"
   },
   {
    "duration": 19,
    "start_time": "2024-05-25T22:30:00.860Z"
   },
   {
    "duration": 261,
    "start_time": "2024-05-25T22:30:00.882Z"
   },
   {
    "duration": 15,
    "start_time": "2024-05-25T22:30:01.150Z"
   },
   {
    "duration": 280,
    "start_time": "2024-05-25T22:30:01.168Z"
   },
   {
    "duration": 253,
    "start_time": "2024-05-25T22:30:01.458Z"
   },
   {
    "duration": 80,
    "start_time": "2024-05-25T22:30:01.715Z"
   },
   {
    "duration": 52,
    "start_time": "2024-05-25T22:30:01.799Z"
   },
   {
    "duration": 8,
    "start_time": "2024-05-25T22:30:01.862Z"
   },
   {
    "duration": 64,
    "start_time": "2024-05-25T22:30:01.874Z"
   },
   {
    "duration": 19,
    "start_time": "2024-05-25T22:30:01.941Z"
   },
   {
    "duration": 12,
    "start_time": "2024-05-25T22:30:01.964Z"
   },
   {
    "duration": 45,
    "start_time": "2024-05-25T22:30:01.981Z"
   },
   {
    "duration": 12,
    "start_time": "2024-05-25T22:30:02.030Z"
   },
   {
    "duration": 11,
    "start_time": "2024-05-25T22:30:02.046Z"
   },
   {
    "duration": 1569,
    "start_time": "2024-05-25T22:30:02.061Z"
   },
   {
    "duration": 465,
    "start_time": "2024-05-25T22:30:03.634Z"
   },
   {
    "duration": 27,
    "start_time": "2024-05-25T22:30:04.102Z"
   },
   {
    "duration": 7,
    "start_time": "2024-05-25T22:30:04.133Z"
   },
   {
    "duration": 7,
    "start_time": "2024-05-25T22:30:04.144Z"
   },
   {
    "duration": 23,
    "start_time": "2024-05-25T22:30:04.155Z"
   },
   {
    "duration": 13,
    "start_time": "2024-05-25T22:30:04.225Z"
   },
   {
    "duration": 10,
    "start_time": "2024-05-25T22:30:04.242Z"
   },
   {
    "duration": 9,
    "start_time": "2024-05-25T22:30:04.255Z"
   },
   {
    "duration": 76,
    "start_time": "2024-05-25T22:30:04.267Z"
   },
   {
    "duration": 54,
    "start_time": "2024-05-25T22:30:04.347Z"
   },
   {
    "duration": 17,
    "start_time": "2024-05-25T22:30:04.425Z"
   },
   {
    "duration": 21,
    "start_time": "2024-05-25T22:30:04.446Z"
   },
   {
    "duration": 724,
    "start_time": "2024-05-25T22:30:04.470Z"
   },
   {
    "duration": 82,
    "start_time": "2024-05-25T22:30:05.197Z"
   },
   {
    "duration": 80,
    "start_time": "2024-05-25T22:30:05.282Z"
   },
   {
    "duration": 393,
    "start_time": "2024-05-25T22:30:05.366Z"
   },
   {
    "duration": 248,
    "start_time": "2024-05-25T22:30:05.764Z"
   },
   {
    "duration": 427,
    "start_time": "2024-05-25T22:30:06.015Z"
   },
   {
    "duration": 350,
    "start_time": "2024-05-25T22:30:06.446Z"
   },
   {
    "duration": 341,
    "start_time": "2024-05-25T22:30:06.800Z"
   },
   {
    "duration": 9,
    "start_time": "2024-05-25T22:30:07.144Z"
   },
   {
    "duration": 516,
    "start_time": "2024-05-25T22:30:07.156Z"
   },
   {
    "duration": 18,
    "start_time": "2024-05-25T22:30:07.677Z"
   },
   {
    "duration": 295,
    "start_time": "2024-05-25T22:30:07.699Z"
   },
   {
    "duration": 199,
    "start_time": "2024-05-25T22:30:07.997Z"
   },
   {
    "duration": 40,
    "start_time": "2024-05-25T22:30:08.199Z"
   },
   {
    "duration": 11,
    "start_time": "2024-05-25T22:30:08.243Z"
   },
   {
    "duration": 624,
    "start_time": "2024-05-25T22:30:08.257Z"
   },
   {
    "duration": 389,
    "start_time": "2024-05-25T22:30:08.884Z"
   },
   {
    "duration": 250,
    "start_time": "2024-05-25T22:30:09.276Z"
   },
   {
    "duration": 728,
    "start_time": "2024-05-25T22:30:09.529Z"
   },
   {
    "duration": 7,
    "start_time": "2024-05-25T22:30:10.260Z"
   },
   {
    "duration": 321,
    "start_time": "2024-05-25T22:30:10.270Z"
   },
   {
    "duration": 455,
    "start_time": "2024-05-25T22:30:10.593Z"
   },
   {
    "duration": 30,
    "start_time": "2024-05-25T22:30:11.052Z"
   },
   {
    "duration": 71,
    "start_time": "2024-05-25T22:30:11.086Z"
   },
   {
    "duration": 33,
    "start_time": "2024-05-25T22:30:35.895Z"
   },
   {
    "duration": 34,
    "start_time": "2024-05-25T22:43:16.770Z"
   },
   {
    "duration": 400,
    "start_time": "2024-05-25T23:49:07.345Z"
   },
   {
    "duration": 2858,
    "start_time": "2024-05-25T23:49:22.004Z"
   },
   {
    "duration": 27,
    "start_time": "2024-05-26T00:09:46.520Z"
   },
   {
    "duration": 2984,
    "start_time": "2024-05-26T00:09:58.363Z"
   },
   {
    "duration": 50,
    "start_time": "2024-05-26T00:10:06.720Z"
   },
   {
    "duration": 63,
    "start_time": "2024-05-26T00:26:46.580Z"
   },
   {
    "duration": 48,
    "start_time": "2024-05-26T00:27:11.323Z"
   },
   {
    "duration": 47,
    "start_time": "2024-05-26T00:27:15.738Z"
   },
   {
    "duration": 461,
    "start_time": "2024-05-26T00:38:45.270Z"
   },
   {
    "duration": 591,
    "start_time": "2024-05-26T00:39:19.140Z"
   },
   {
    "duration": 469,
    "start_time": "2024-05-26T00:39:40.504Z"
   },
   {
    "duration": 472,
    "start_time": "2024-05-26T00:40:25.115Z"
   },
   {
    "duration": 479,
    "start_time": "2024-05-26T00:41:12.182Z"
   },
   {
    "duration": 439,
    "start_time": "2024-05-26T00:41:36.729Z"
   },
   {
    "duration": 441,
    "start_time": "2024-05-26T00:42:02.639Z"
   },
   {
    "duration": 454,
    "start_time": "2024-05-26T00:42:18.972Z"
   },
   {
    "duration": 457,
    "start_time": "2024-05-26T00:42:40.370Z"
   },
   {
    "duration": 452,
    "start_time": "2024-05-26T00:43:13.693Z"
   },
   {
    "duration": 457,
    "start_time": "2024-05-26T00:44:51.574Z"
   },
   {
    "duration": 1111,
    "start_time": "2024-05-26T00:46:16.075Z"
   },
   {
    "duration": 470,
    "start_time": "2024-05-26T00:47:30.671Z"
   },
   {
    "duration": 476,
    "start_time": "2024-05-26T00:47:42.599Z"
   },
   {
    "duration": 970,
    "start_time": "2024-05-26T01:09:32.153Z"
   },
   {
    "duration": 125,
    "start_time": "2024-05-26T01:09:45.705Z"
   },
   {
    "duration": 53,
    "start_time": "2024-05-26T01:09:58.367Z"
   },
   {
    "duration": 49,
    "start_time": "2024-05-26T01:11:10.403Z"
   },
   {
    "duration": 59,
    "start_time": "2024-05-26T01:12:01.148Z"
   },
   {
    "duration": 76,
    "start_time": "2024-05-26T01:12:32.227Z"
   },
   {
    "duration": 60,
    "start_time": "2024-05-26T01:13:28.812Z"
   },
   {
    "duration": 58,
    "start_time": "2024-05-26T01:14:34.823Z"
   },
   {
    "duration": 440,
    "start_time": "2024-05-26T01:16:42.025Z"
   },
   {
    "duration": 33,
    "start_time": "2024-05-26T01:16:47.026Z"
   },
   {
    "duration": 32,
    "start_time": "2024-05-26T02:37:22.458Z"
   },
   {
    "duration": 4341,
    "start_time": "2024-05-26T04:24:06.658Z"
   },
   {
    "duration": 1690,
    "start_time": "2024-05-26T04:24:11.003Z"
   },
   {
    "duration": 17,
    "start_time": "2024-05-26T04:24:12.696Z"
   },
   {
    "duration": 26,
    "start_time": "2024-05-26T04:24:12.717Z"
   },
   {
    "duration": 14,
    "start_time": "2024-05-26T04:24:12.746Z"
   },
   {
    "duration": 15,
    "start_time": "2024-05-26T04:24:12.764Z"
   },
   {
    "duration": 55,
    "start_time": "2024-05-26T04:24:12.783Z"
   },
   {
    "duration": 18,
    "start_time": "2024-05-26T04:24:12.841Z"
   },
   {
    "duration": 200,
    "start_time": "2024-05-26T04:24:12.861Z"
   },
   {
    "duration": 13,
    "start_time": "2024-05-26T04:24:13.068Z"
   },
   {
    "duration": 214,
    "start_time": "2024-05-26T04:24:13.084Z"
   },
   {
    "duration": 190,
    "start_time": "2024-05-26T04:24:13.302Z"
   },
   {
    "duration": 72,
    "start_time": "2024-05-26T04:24:13.494Z"
   },
   {
    "duration": 25,
    "start_time": "2024-05-26T04:24:13.569Z"
   },
   {
    "duration": 7,
    "start_time": "2024-05-26T04:24:13.597Z"
   },
   {
    "duration": 58,
    "start_time": "2024-05-26T04:24:13.607Z"
   },
   {
    "duration": 17,
    "start_time": "2024-05-26T04:24:13.669Z"
   },
   {
    "duration": 44,
    "start_time": "2024-05-26T04:24:13.689Z"
   },
   {
    "duration": 8,
    "start_time": "2024-05-26T04:24:13.736Z"
   },
   {
    "duration": 12,
    "start_time": "2024-05-26T04:24:13.748Z"
   },
   {
    "duration": 9,
    "start_time": "2024-05-26T04:24:13.763Z"
   },
   {
    "duration": 1458,
    "start_time": "2024-05-26T04:24:13.775Z"
   },
   {
    "duration": 398,
    "start_time": "2024-05-26T04:24:15.236Z"
   },
   {
    "duration": 13,
    "start_time": "2024-05-26T04:24:15.637Z"
   },
   {
    "duration": 6,
    "start_time": "2024-05-26T04:24:15.653Z"
   },
   {
    "duration": 6,
    "start_time": "2024-05-26T04:24:15.662Z"
   },
   {
    "duration": 13,
    "start_time": "2024-05-26T04:24:15.672Z"
   },
   {
    "duration": 12,
    "start_time": "2024-05-26T04:24:15.739Z"
   },
   {
    "duration": 10,
    "start_time": "2024-05-26T04:24:15.754Z"
   },
   {
    "duration": 7,
    "start_time": "2024-05-26T04:24:15.766Z"
   },
   {
    "duration": 73,
    "start_time": "2024-05-26T04:24:15.777Z"
   },
   {
    "duration": 49,
    "start_time": "2024-05-26T04:24:15.853Z"
   },
   {
    "duration": 33,
    "start_time": "2024-05-26T04:24:15.905Z"
   },
   {
    "duration": 18,
    "start_time": "2024-05-26T04:24:15.941Z"
   },
   {
    "duration": 693,
    "start_time": "2024-05-26T04:24:15.962Z"
   },
   {
    "duration": 59,
    "start_time": "2024-05-26T04:24:16.658Z"
   },
   {
    "duration": 50,
    "start_time": "2024-05-26T04:24:16.734Z"
   },
   {
    "duration": 438,
    "start_time": "2024-05-26T04:24:16.787Z"
   },
   {
    "duration": 234,
    "start_time": "2024-05-26T04:24:17.232Z"
   },
   {
    "duration": 387,
    "start_time": "2024-05-26T04:24:17.469Z"
   },
   {
    "duration": 331,
    "start_time": "2024-05-26T04:24:17.859Z"
   },
   {
    "duration": 356,
    "start_time": "2024-05-26T04:24:18.193Z"
   },
   {
    "duration": 9,
    "start_time": "2024-05-26T04:24:18.551Z"
   },
   {
    "duration": 441,
    "start_time": "2024-05-26T04:24:18.563Z"
   },
   {
    "duration": 31,
    "start_time": "2024-05-26T04:24:19.007Z"
   },
   {
    "duration": 257,
    "start_time": "2024-05-26T04:24:19.041Z"
   },
   {
    "duration": 184,
    "start_time": "2024-05-26T04:24:19.301Z"
   },
   {
    "duration": 30,
    "start_time": "2024-05-26T04:24:19.489Z"
   },
   {
    "duration": 11,
    "start_time": "2024-05-26T04:24:19.534Z"
   },
   {
    "duration": 533,
    "start_time": "2024-05-26T04:24:19.550Z"
   },
   {
    "duration": 307,
    "start_time": "2024-05-26T04:24:20.086Z"
   },
   {
    "duration": 233,
    "start_time": "2024-05-26T04:24:20.396Z"
   },
   {
    "duration": 633,
    "start_time": "2024-05-26T04:24:20.634Z"
   },
   {
    "duration": 5,
    "start_time": "2024-05-26T04:24:21.270Z"
   },
   {
    "duration": 297,
    "start_time": "2024-05-26T04:24:21.278Z"
   },
   {
    "duration": 392,
    "start_time": "2024-05-26T04:24:21.580Z"
   },
   {
    "duration": 27,
    "start_time": "2024-05-26T04:24:21.974Z"
   },
   {
    "duration": 53,
    "start_time": "2024-05-26T04:24:22.005Z"
   },
   {
    "duration": 2718,
    "start_time": "2024-05-26T04:24:22.061Z"
   },
   {
    "duration": 64,
    "start_time": "2024-05-26T04:24:24.781Z"
   },
   {
    "duration": 471,
    "start_time": "2024-05-26T04:24:24.848Z"
   },
   {
    "duration": 34,
    "start_time": "2024-05-26T04:24:25.321Z"
   },
   {
    "duration": 1482,
    "start_time": "2024-05-26T04:30:33.620Z"
   },
   {
    "duration": 559,
    "start_time": "2024-05-26T04:30:44.845Z"
   },
   {
    "duration": 3824,
    "start_time": "2024-05-26T04:31:06.311Z"
   },
   {
    "duration": 340,
    "start_time": "2024-05-26T04:31:36.086Z"
   },
   {
    "duration": 191,
    "start_time": "2024-05-26T04:31:54.245Z"
   },
   {
    "duration": 335,
    "start_time": "2024-05-26T04:32:01.307Z"
   },
   {
    "duration": 6,
    "start_time": "2024-05-26T04:32:16.367Z"
   },
   {
    "duration": 190,
    "start_time": "2024-05-26T04:32:20.296Z"
   },
   {
    "duration": 434,
    "start_time": "2024-05-26T04:32:37.663Z"
   },
   {
    "duration": 199,
    "start_time": "2024-05-26T04:33:01.699Z"
   },
   {
    "duration": 338,
    "start_time": "2024-05-26T04:51:02.133Z"
   },
   {
    "duration": 193,
    "start_time": "2024-05-26T04:51:28.380Z"
   },
   {
    "duration": 375,
    "start_time": "2024-05-26T04:55:09.607Z"
   },
   {
    "duration": 4290,
    "start_time": "2024-05-26T14:18:39.261Z"
   },
   {
    "duration": 1692,
    "start_time": "2024-05-26T14:18:43.556Z"
   },
   {
    "duration": 18,
    "start_time": "2024-05-26T14:18:45.251Z"
   },
   {
    "duration": 15,
    "start_time": "2024-05-26T14:18:45.273Z"
   },
   {
    "duration": 32,
    "start_time": "2024-05-26T14:18:45.291Z"
   },
   {
    "duration": 13,
    "start_time": "2024-05-26T14:18:45.326Z"
   },
   {
    "duration": 14,
    "start_time": "2024-05-26T14:18:45.342Z"
   },
   {
    "duration": 58,
    "start_time": "2024-05-26T14:18:45.359Z"
   },
   {
    "duration": 193,
    "start_time": "2024-05-26T14:18:45.420Z"
   },
   {
    "duration": 13,
    "start_time": "2024-05-26T14:18:45.620Z"
   },
   {
    "duration": 239,
    "start_time": "2024-05-26T14:18:45.636Z"
   },
   {
    "duration": 193,
    "start_time": "2024-05-26T14:18:45.878Z"
   },
   {
    "duration": 64,
    "start_time": "2024-05-26T14:18:46.074Z"
   },
   {
    "duration": 25,
    "start_time": "2024-05-26T14:18:46.142Z"
   },
   {
    "duration": 7,
    "start_time": "2024-05-26T14:18:46.170Z"
   },
   {
    "duration": 65,
    "start_time": "2024-05-26T14:18:46.180Z"
   },
   {
    "duration": 18,
    "start_time": "2024-05-26T14:18:46.248Z"
   },
   {
    "duration": 11,
    "start_time": "2024-05-26T14:18:46.268Z"
   },
   {
    "duration": 11,
    "start_time": "2024-05-26T14:18:46.313Z"
   },
   {
    "duration": 11,
    "start_time": "2024-05-26T14:18:46.327Z"
   },
   {
    "duration": 9,
    "start_time": "2024-05-26T14:18:46.341Z"
   },
   {
    "duration": 1411,
    "start_time": "2024-05-26T14:18:46.353Z"
   },
   {
    "duration": 269,
    "start_time": "2024-05-26T14:18:47.767Z"
   },
   {
    "duration": 14,
    "start_time": "2024-05-26T14:18:48.039Z"
   },
   {
    "duration": 6,
    "start_time": "2024-05-26T14:18:48.056Z"
   },
   {
    "duration": 6,
    "start_time": "2024-05-26T14:18:48.065Z"
   },
   {
    "duration": 11,
    "start_time": "2024-05-26T14:18:48.112Z"
   },
   {
    "duration": 12,
    "start_time": "2024-05-26T14:18:48.132Z"
   },
   {
    "duration": 12,
    "start_time": "2024-05-26T14:18:48.147Z"
   },
   {
    "duration": 8,
    "start_time": "2024-05-26T14:18:48.162Z"
   },
   {
    "duration": 65,
    "start_time": "2024-05-26T14:18:48.173Z"
   },
   {
    "duration": 72,
    "start_time": "2024-05-26T14:18:48.241Z"
   },
   {
    "duration": 14,
    "start_time": "2024-05-26T14:18:48.317Z"
   },
   {
    "duration": 17,
    "start_time": "2024-05-26T14:18:48.334Z"
   },
   {
    "duration": 692,
    "start_time": "2024-05-26T14:18:48.354Z"
   },
   {
    "duration": 71,
    "start_time": "2024-05-26T14:18:49.049Z"
   },
   {
    "duration": 49,
    "start_time": "2024-05-26T14:18:49.123Z"
   },
   {
    "duration": 373,
    "start_time": "2024-05-26T14:18:49.175Z"
   },
   {
    "duration": 229,
    "start_time": "2024-05-26T14:18:49.552Z"
   },
   {
    "duration": 387,
    "start_time": "2024-05-26T14:18:49.786Z"
   },
   {
    "duration": 376,
    "start_time": "2024-05-26T14:18:50.176Z"
   },
   {
    "duration": 325,
    "start_time": "2024-05-26T14:18:50.554Z"
   },
   {
    "duration": 9,
    "start_time": "2024-05-26T14:18:50.882Z"
   },
   {
    "duration": 453,
    "start_time": "2024-05-26T14:18:50.893Z"
   },
   {
    "duration": 23,
    "start_time": "2024-05-26T14:18:51.349Z"
   },
   {
    "duration": 266,
    "start_time": "2024-05-26T14:18:51.377Z"
   },
   {
    "duration": 169,
    "start_time": "2024-05-26T14:18:51.647Z"
   },
   {
    "duration": 29,
    "start_time": "2024-05-26T14:18:51.819Z"
   },
   {
    "duration": 9,
    "start_time": "2024-05-26T14:18:51.850Z"
   },
   {
    "duration": 540,
    "start_time": "2024-05-26T14:18:51.862Z"
   },
   {
    "duration": 284,
    "start_time": "2024-05-26T14:18:52.405Z"
   },
   {
    "duration": 222,
    "start_time": "2024-05-26T14:18:52.692Z"
   },
   {
    "duration": 649,
    "start_time": "2024-05-26T14:18:52.917Z"
   },
   {
    "duration": 4,
    "start_time": "2024-05-26T14:18:53.569Z"
   },
   {
    "duration": 282,
    "start_time": "2024-05-26T14:18:53.576Z"
   },
   {
    "duration": 387,
    "start_time": "2024-05-26T14:18:53.862Z"
   },
   {
    "duration": 27,
    "start_time": "2024-05-26T14:18:54.252Z"
   },
   {
    "duration": 52,
    "start_time": "2024-05-26T14:18:54.281Z"
   },
   {
    "duration": 2718,
    "start_time": "2024-05-26T14:18:54.336Z"
   },
   {
    "duration": 73,
    "start_time": "2024-05-26T14:18:57.057Z"
   },
   {
    "duration": 454,
    "start_time": "2024-05-26T14:18:57.133Z"
   },
   {
    "duration": 42,
    "start_time": "2024-05-26T14:18:57.590Z"
   }
  ],
  "colab": {
   "provenance": []
  },
  "kernelspec": {
   "display_name": "Python 3 (ipykernel)",
   "language": "python",
   "name": "python3"
  },
  "language_info": {
   "codemirror_mode": {
    "name": "ipython",
    "version": 3
   },
   "file_extension": ".py",
   "mimetype": "text/x-python",
   "name": "python",
   "nbconvert_exporter": "python",
   "pygments_lexer": "ipython3",
   "version": "3.9.19"
  },
  "toc": {
   "base_numbering": 1,
   "nav_menu": {},
   "number_sections": true,
   "sideBar": true,
   "skip_h1_title": true,
   "title_cell": "Table of Contents",
   "title_sidebar": "Contents",
   "toc_cell": false,
   "toc_position": {},
   "toc_section_display": true,
   "toc_window_display": false
  },
  "vscode": {
   "interpreter": {
    "hash": "01a7be9ec63e704a62cefc5fe7a4756944464ee731be31632bdf42a4cb4688cf"
   }
  }
 },
 "nbformat": 4,
 "nbformat_minor": 5
}
